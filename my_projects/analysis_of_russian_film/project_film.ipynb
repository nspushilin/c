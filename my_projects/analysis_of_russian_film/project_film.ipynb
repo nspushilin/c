{
 "cells": [
  {
   "cell_type": "markdown",
   "metadata": {
    "id": "sIfNaMOxgFyK"
   },
   "source": [
    "## Исследование данных о российском кинопрокате\n",
    "\n"
   ]
  },
  {
   "cell_type": "markdown",
   "metadata": {},
   "source": [
    "- Предобработать данные    \n",
    "- Изучить рынок российского кинопроката и выявить текущие тренды\n",
    "- Изучить динамику выходов фильмов по годам\n",
    "- Исследовать фильмы,которые финансировались с помощью государства \n",
    "   \n"
   ]
  },
  {
   "cell_type": "markdown",
   "metadata": {
    "id": "3bSlkCsbgFyL"
   },
   "source": [
    "### Шаг 1. Подготовка данных к анализу"
   ]
  },
  {
   "cell_type": "code",
   "execution_count": 63,
   "metadata": {},
   "outputs": [],
   "source": [
    "# импорт используемых в работе библиотек\n",
    "import pandas as pd \n",
    "import numpy as np \n",
    "import matplotlib.pyplot as plt \n",
    "import seaborn as sns\n",
    "pd.options.display.float_format = '{:.2f}'.format # вывод данных в ячейках не в экспоненциальном формате"
   ]
  },
  {
   "cell_type": "markdown",
   "metadata": {},
   "source": [
    "Прочитаем файл mkrf_movies.csv и mkrf_shows.csv, сохраним их в переменные data и data_shows"
   ]
  },
  {
   "cell_type": "code",
   "execution_count": 64,
   "metadata": {},
   "outputs": [],
   "source": [
    "data=pd.read_csv('/Users/nikitapusilin/Desktop/Проекты/Исследование данных о Российском кинопрокате/Исходные данные/mkrf_movies.csv')\n",
    "#прочитаем файл mkrf_movies.csv в котором хранятся данные о прокате в российских кинотеатрах\n",
    "data_shows=pd.read_csv('/Users/nikitapusilin/Desktop/Проекты/Исследование данных о Российском кинопрокате/Исходные данные/mkrf_shows.csv')\n",
    "#прочитаем файл mkrf_movies.csv в котором хранятся данные о прокатных удостоверениях\n"
   ]
  },
  {
   "cell_type": "markdown",
   "metadata": {},
   "source": [
    "Объеденим 2 таблицы `data` и `data_shows` в одну, для этого изменим тип данных у стобца `puNumber`. Выведем первые 5 строк таблицы."
   ]
  },
  {
   "cell_type": "code",
   "execution_count": 65,
   "metadata": {},
   "outputs": [
    {
     "data": {
      "text/html": [
       "<div>\n",
       "<style scoped>\n",
       "    .dataframe tbody tr th:only-of-type {\n",
       "        vertical-align: middle;\n",
       "    }\n",
       "\n",
       "    .dataframe tbody tr th {\n",
       "        vertical-align: top;\n",
       "    }\n",
       "\n",
       "    .dataframe thead th {\n",
       "        text-align: right;\n",
       "    }\n",
       "</style>\n",
       "<table border=\"1\" class=\"dataframe\">\n",
       "  <thead>\n",
       "    <tr style=\"text-align: right;\">\n",
       "      <th></th>\n",
       "      <th>title</th>\n",
       "      <th>puNumber</th>\n",
       "      <th>show_start_date</th>\n",
       "      <th>type</th>\n",
       "      <th>film_studio</th>\n",
       "      <th>production_country</th>\n",
       "      <th>director</th>\n",
       "      <th>producer</th>\n",
       "      <th>age_restriction</th>\n",
       "      <th>refundable_support</th>\n",
       "      <th>nonrefundable_support</th>\n",
       "      <th>budget</th>\n",
       "      <th>financing_source</th>\n",
       "      <th>ratings</th>\n",
       "      <th>genres</th>\n",
       "      <th>box_office</th>\n",
       "    </tr>\n",
       "  </thead>\n",
       "  <tbody>\n",
       "    <tr>\n",
       "      <th>0</th>\n",
       "      <td>Открытый простор</td>\n",
       "      <td>221048915</td>\n",
       "      <td>2015-11-27T12:00:00.000Z</td>\n",
       "      <td>Художественный</td>\n",
       "      <td>Тачстоун Пикчерз, Кобальт Пикчерз, Бикон Пикче...</td>\n",
       "      <td>США</td>\n",
       "      <td>Кевин Костнер</td>\n",
       "      <td>Дэвид Валдес, Кевин Костнер, Джейк Эбертс</td>\n",
       "      <td>«18+» - запрещено для детей</td>\n",
       "      <td>NaN</td>\n",
       "      <td>NaN</td>\n",
       "      <td>NaN</td>\n",
       "      <td>NaN</td>\n",
       "      <td>7.2</td>\n",
       "      <td>боевик,драма,мелодрама</td>\n",
       "      <td>NaN</td>\n",
       "    </tr>\n",
       "    <tr>\n",
       "      <th>1</th>\n",
       "      <td>Особо важное задание</td>\n",
       "      <td>111013716</td>\n",
       "      <td>2016-09-13T12:00:00.000Z</td>\n",
       "      <td>Художественный</td>\n",
       "      <td>Киностудия \"Мосфильм\"</td>\n",
       "      <td>СССР</td>\n",
       "      <td>Е.Матвеев</td>\n",
       "      <td>NaN</td>\n",
       "      <td>«6+» - для детей старше 6 лет</td>\n",
       "      <td>NaN</td>\n",
       "      <td>NaN</td>\n",
       "      <td>NaN</td>\n",
       "      <td>NaN</td>\n",
       "      <td>6.6</td>\n",
       "      <td>драма,военный</td>\n",
       "      <td>NaN</td>\n",
       "    </tr>\n",
       "    <tr>\n",
       "      <th>2</th>\n",
       "      <td>Особо опасен</td>\n",
       "      <td>221038416</td>\n",
       "      <td>2016-10-10T12:00:00.000Z</td>\n",
       "      <td>Художественный</td>\n",
       "      <td>Юниверсал Пикчерз, Кикстарт Продакшнз, Марк Пл...</td>\n",
       "      <td>США</td>\n",
       "      <td>Тимур Бекмамбетов</td>\n",
       "      <td>Джим Лемли, Джейсон Нетер, Марк Е.Платт, Яйн Смит</td>\n",
       "      <td>«18+» - запрещено для детей</td>\n",
       "      <td>NaN</td>\n",
       "      <td>NaN</td>\n",
       "      <td>NaN</td>\n",
       "      <td>NaN</td>\n",
       "      <td>6.8</td>\n",
       "      <td>фантастика,боевик,триллер</td>\n",
       "      <td>NaN</td>\n",
       "    </tr>\n",
       "    <tr>\n",
       "      <th>3</th>\n",
       "      <td>Особо опасен</td>\n",
       "      <td>221026916</td>\n",
       "      <td>2016-06-10T12:00:00.000Z</td>\n",
       "      <td>Художественный</td>\n",
       "      <td>Юниверсал Пикчерз, Кикстарт Продакшнз, Марк Пл...</td>\n",
       "      <td>США</td>\n",
       "      <td>Тимур Бекмамбетов</td>\n",
       "      <td>Джим Лемли, Джейсон Нетер, Марк Е.Платт, Яйн Смит</td>\n",
       "      <td>«18+» - запрещено для детей</td>\n",
       "      <td>NaN</td>\n",
       "      <td>NaN</td>\n",
       "      <td>NaN</td>\n",
       "      <td>NaN</td>\n",
       "      <td>6.8</td>\n",
       "      <td>фантастика,боевик,триллер</td>\n",
       "      <td>NaN</td>\n",
       "    </tr>\n",
       "    <tr>\n",
       "      <th>4</th>\n",
       "      <td>Особо опасен</td>\n",
       "      <td>221030815</td>\n",
       "      <td>2015-07-29T12:00:00.000Z</td>\n",
       "      <td>Художественный</td>\n",
       "      <td>Юниверсал Пикчерз, Кикстарт Продакшнз, Марк Пл...</td>\n",
       "      <td>США</td>\n",
       "      <td>Тимур Бекмамбетов</td>\n",
       "      <td>Джим Лемли, Джейсон Нетер, Марк Е.Платт, Яйн Смит</td>\n",
       "      <td>«18+» - запрещено для детей</td>\n",
       "      <td>NaN</td>\n",
       "      <td>NaN</td>\n",
       "      <td>NaN</td>\n",
       "      <td>NaN</td>\n",
       "      <td>6.8</td>\n",
       "      <td>фантастика,боевик,триллер</td>\n",
       "      <td>NaN</td>\n",
       "    </tr>\n",
       "  </tbody>\n",
       "</table>\n",
       "</div>"
      ],
      "text/plain": [
       "                  title   puNumber           show_start_date            type  \\\n",
       "0      Открытый простор  221048915  2015-11-27T12:00:00.000Z  Художественный   \n",
       "1  Особо важное задание  111013716  2016-09-13T12:00:00.000Z  Художественный   \n",
       "2          Особо опасен  221038416  2016-10-10T12:00:00.000Z  Художественный   \n",
       "3          Особо опасен  221026916  2016-06-10T12:00:00.000Z  Художественный   \n",
       "4          Особо опасен  221030815  2015-07-29T12:00:00.000Z  Художественный   \n",
       "\n",
       "                                         film_studio production_country  \\\n",
       "0  Тачстоун Пикчерз, Кобальт Пикчерз, Бикон Пикче...                США   \n",
       "1                              Киностудия \"Мосфильм\"               СССР   \n",
       "2  Юниверсал Пикчерз, Кикстарт Продакшнз, Марк Пл...                США   \n",
       "3  Юниверсал Пикчерз, Кикстарт Продакшнз, Марк Пл...                США   \n",
       "4  Юниверсал Пикчерз, Кикстарт Продакшнз, Марк Пл...                США   \n",
       "\n",
       "            director                                           producer  \\\n",
       "0      Кевин Костнер          Дэвид Валдес, Кевин Костнер, Джейк Эбертс   \n",
       "1          Е.Матвеев                                                NaN   \n",
       "2  Тимур Бекмамбетов  Джим Лемли, Джейсон Нетер, Марк Е.Платт, Яйн Смит   \n",
       "3  Тимур Бекмамбетов  Джим Лемли, Джейсон Нетер, Марк Е.Платт, Яйн Смит   \n",
       "4  Тимур Бекмамбетов  Джим Лемли, Джейсон Нетер, Марк Е.Платт, Яйн Смит   \n",
       "\n",
       "                 age_restriction  refundable_support  nonrefundable_support  \\\n",
       "0    «18+» - запрещено для детей                 NaN                    NaN   \n",
       "1  «6+» - для детей старше 6 лет                 NaN                    NaN   \n",
       "2    «18+» - запрещено для детей                 NaN                    NaN   \n",
       "3    «18+» - запрещено для детей                 NaN                    NaN   \n",
       "4    «18+» - запрещено для детей                 NaN                    NaN   \n",
       "\n",
       "   budget financing_source ratings                     genres  box_office  \n",
       "0     NaN              NaN     7.2     боевик,драма,мелодрама         NaN  \n",
       "1     NaN              NaN     6.6              драма,военный         NaN  \n",
       "2     NaN              NaN     6.8  фантастика,боевик,триллер         NaN  \n",
       "3     NaN              NaN     6.8  фантастика,боевик,триллер         NaN  \n",
       "4     NaN              NaN     6.8  фантастика,боевик,триллер         NaN  "
      ]
     },
     "metadata": {},
     "output_type": "display_data"
    }
   ],
   "source": [
    "data_shows['puNumber'] = data_shows['puNumber'].astype('str')#изменили тип данных у столбца puNumber\n",
    "data['puNumber'] = data['puNumber'].astype('str')#изменили тип данных у столбца puNumber\n",
    "data = data.merge(data_shows, on='puNumber', how='outer')#склеим таблицы по столбцу puNumber\n",
    "display(data.head())"
   ]
  },
  {
   "cell_type": "markdown",
   "metadata": {},
   "source": [
    "Общая информация о данных таблицы `data`"
   ]
  },
  {
   "cell_type": "code",
   "execution_count": 66,
   "metadata": {
    "id": "dw87FlzMgFyM"
   },
   "outputs": [
    {
     "name": "stdout",
     "output_type": "stream",
     "text": [
      "<class 'pandas.core.frame.DataFrame'>\n",
      "Int64Index: 7486 entries, 0 to 7485\n",
      "Data columns (total 16 columns):\n",
      " #   Column                 Non-Null Count  Dtype  \n",
      "---  ------                 --------------  -----  \n",
      " 0   title                  7486 non-null   object \n",
      " 1   puNumber               7486 non-null   object \n",
      " 2   show_start_date        7486 non-null   object \n",
      " 3   type                   7486 non-null   object \n",
      " 4   film_studio            7468 non-null   object \n",
      " 5   production_country     7484 non-null   object \n",
      " 6   director               7477 non-null   object \n",
      " 7   producer               6918 non-null   object \n",
      " 8   age_restriction        7486 non-null   object \n",
      " 9   refundable_support     332 non-null    float64\n",
      " 10  nonrefundable_support  332 non-null    float64\n",
      " 11  budget                 332 non-null    float64\n",
      " 12  financing_source       332 non-null    object \n",
      " 13  ratings                6519 non-null   object \n",
      " 14  genres                 6510 non-null   object \n",
      " 15  box_office             3158 non-null   float64\n",
      "dtypes: float64(4), object(12)\n",
      "memory usage: 994.2+ KB\n"
     ]
    }
   ],
   "source": [
    "data.info()"
   ]
  },
  {
   "cell_type": "markdown",
   "metadata": {},
   "source": [
    "Рассмотрим полученную информацию подробнее.\n",
    "\n",
    "Всего в таблице 16 столбцов, типы данных у каждого столбца - object и float.\n",
    "\n",
    "Подробно разберём, какие в data столбцы и какую информацию они содержат:\n",
    "\n",
    "- `title` — название фильма;\n",
    "- `puNumber` — номер прокатного удостоверения;\n",
    "- `show_start_date` — дата премьеры фильма;\n",
    "- `type` — тип фильма;\n",
    "- `film_studio` — студия-производитель;\n",
    "- `production_country` — страна-производитель;\n",
    "- `director` — режиссёр;\n",
    "- `producer` — продюсер;\n",
    "- `age_restriction` — возрастная категория;\n",
    "- `refundable_support` — объём возвратных средств государственной поддержки;\n",
    "- `nonrefundable_support` — объём невозвратных средств государственной поддержки;\n",
    "- `financing_source` — источник государственного финансирования;\n",
    "- `budget` — общий бюджет фильма;\n",
    "- `ratings` — рейтинг фильма на КиноПоиске;\n",
    "- `genres` — жанр фильма;\n",
    "- `box_office` — сборы в рублях.\n",
    "\n",
    "Количество значений в столбцах различается. Это говорит о том, что в данных есть пропущеенные значения.\n",
    "\n",
    "Объедили данные таким образом, что все объекты из датасета `mkrf_movies` вошли в получившийся датафрейм "
   ]
  },
  {
   "cell_type": "markdown",
   "metadata": {},
   "source": [
    "#### Вывод\n",
    "\n",
    "Каждая строка таблицы содержит информацию о фильме, дате его выхода, страну производства, типе фильма, студию производства, режиссера, продюсера, возрастную категорию, информациб о объеме государственной поддержки, бюджет, рейтинг, жанр и сборы в рублях. Проблему которую нам необзодимо решить, это пропуски"
   ]
  },
  {
   "cell_type": "markdown",
   "metadata": {
    "id": "KLDGpPG0gFyM"
   },
   "source": [
    "### Шаг 2. Предобработка данных"
   ]
  },
  {
   "cell_type": "markdown",
   "metadata": {
    "id": "ssWwKXsxgFyO"
   },
   "source": [
    "#### Шаг 2.1. Изучим типы данных\n",
    "\n",
    "Проверим типы данных и преобразуем их там, где это необходимо"
   ]
  },
  {
   "cell_type": "code",
   "execution_count": 13,
   "metadata": {
    "id": "kVGSplJOgFyO"
   },
   "outputs": [],
   "source": [
    "data['ratings'] = pd.to_numeric(data['ratings'],errors='coerce')#поменяем тип данных данных в столбце ratings, для возможности проводить вычисления\n",
    "data['show_start_date'] = pd.to_datetime(data['show_start_date'], format='%Y-%m-%dT%H:%M')\n"
   ]
  },
  {
   "cell_type": "markdown",
   "metadata": {},
   "source": [
    "Изменили тип данных в столбце `ratings` и поменяли формат в столбце `show_start_date` для удобства дальнейшей работы"
   ]
  },
  {
   "cell_type": "markdown",
   "metadata": {
    "id": "i0MOLbF-gFyP"
   },
   "source": [
    "#### Шаг 2.2. Изучим пропуски в датафрейме"
   ]
  },
  {
   "cell_type": "markdown",
   "metadata": {},
   "source": [
    "Проверим данные на наличие пропусков вызовом набора методов для суммирования пропущенных значений."
   ]
  },
  {
   "cell_type": "code",
   "execution_count": 68,
   "metadata": {},
   "outputs": [
    {
     "data": {
      "text/plain": [
       "title                       0\n",
       "puNumber                    0\n",
       "show_start_date             0\n",
       "type                        0\n",
       "film_studio                18\n",
       "production_country          2\n",
       "director                    9\n",
       "producer                    4\n",
       "age_restriction             0\n",
       "refundable_support       7154\n",
       "nonrefundable_support    7154\n",
       "budget                   7154\n",
       "financing_source            0\n",
       "ratings                   967\n",
       "genres                    976\n",
       "box_office               4328\n",
       "dtype: int64"
      ]
     },
     "metadata": {},
     "output_type": "display_data"
    }
   ],
   "source": [
    "display(data.isna().sum())"
   ]
  },
  {
   "cell_type": "markdown",
   "metadata": {},
   "source": [
    "Пустые значения свидетельствуют, что для некоторых фильмов доступна не вся информация. \n",
    "Заменяем пропущенные значения в столбцах с `financing_source` и `producer`. После этой операции нужно убедиться, что в этих столюцах не содержит пропусков."
   ]
  },
  {
   "cell_type": "code",
   "execution_count": 69,
   "metadata": {
    "id": "8MJD_lkngFyP"
   },
   "outputs": [
    {
     "data": {
      "text/plain": [
       "title                       0\n",
       "puNumber                    0\n",
       "show_start_date             0\n",
       "type                        0\n",
       "film_studio                18\n",
       "production_country          2\n",
       "director                    9\n",
       "producer                    4\n",
       "age_restriction             0\n",
       "refundable_support       7154\n",
       "nonrefundable_support    7154\n",
       "budget                   7154\n",
       "financing_source            0\n",
       "ratings                   967\n",
       "genres                    976\n",
       "box_office               4328\n",
       "dtype: int64"
      ]
     },
     "execution_count": 69,
     "metadata": {},
     "output_type": "execute_result"
    }
   ],
   "source": [
    "data['financing_source'] = data['financing_source'].fillna('Без источника финансирования')# замена пропусков в столбце financing_source\n",
    "data['producer'] = data['producer'].fillna(data['director'])# замена пропусков в столбце producer\n",
    "data.isna().sum()# проверка: вычисление суммарного количества пропусков, выявленных в таблице data"
   ]
  },
  {
   "cell_type": "markdown",
   "metadata": {},
   "source": [
    "Пропуски были обнаружили в следующих столбцах `budget`, `refundable_support`, `nonrefundable_support`, `financing_source`, `producer`,`film_studio`, `production_country`, `ratings`, `genres` и `box_office`.\n",
    "\n",
    "Пропуски в столбцах `film_studio`, `production_country`, `ratings`, `genres` и `box_office` полностью случайные и заполнить \n",
    "их какими-то значениями мы не можем.\n",
    "\n",
    "Можно отметить, что пропуски в `refundable_support`, `nonrefundable_support`, `budget` и `financing_source` — неслучайные: если стоит пропуск — значит фильм не имел государственной поддержки.\n",
    "\n",
    "В `financing_source` заменяем пропуска на строку 'Без источника финансирования'.\n",
    "\n",
    "В столбце `producer` заменим все пропуски на значения столбца director, предположим, что если продюсер не указан, режиссер сам себе продюсер."
   ]
  },
  {
   "cell_type": "markdown",
   "metadata": {
    "id": "4c6k1t9ygFyQ"
   },
   "source": [
    "#### Шаг 2.3. Проверка данных на дубликаты"
   ]
  },
  {
   "cell_type": "markdown",
   "metadata": {},
   "source": [
    "Необходимо установить наличие дубликатов. Если найдутся, удаляем, и проверяем, все ли удалились."
   ]
  },
  {
   "cell_type": "code",
   "execution_count": 26,
   "metadata": {
    "id": "aKck8RIdgFyQ"
   },
   "outputs": [
    {
     "data": {
      "text/plain": [
       "0"
      ]
     },
     "metadata": {},
     "output_type": "display_data"
    },
    {
     "data": {
      "text/plain": [
       "0"
      ]
     },
     "metadata": {},
     "output_type": "display_data"
    },
    {
     "data": {
      "text/plain": [
       "0"
      ]
     },
     "metadata": {},
     "output_type": "display_data"
    },
    {
     "data": {
      "text/plain": [
       "0"
      ]
     },
     "metadata": {},
     "output_type": "display_data"
    },
    {
     "data": {
      "text/plain": [
       "0"
      ]
     },
     "metadata": {},
     "output_type": "display_data"
    },
    {
     "data": {
      "text/plain": [
       "0"
      ]
     },
     "metadata": {},
     "output_type": "display_data"
    }
   ],
   "source": [
    "display(data.duplicated().sum()) #проверим данные на полные дубликаты\n",
    "display(data['puNumber'].duplicated().sum()) #проверим данные на дубликаты в столбце puNumber\n",
    "display(data['title'].duplicated().sum()) #проверим данные на дубликаты в столбце title\n",
    "\n",
    "data = data.drop_duplicates(subset=['title'])\n",
    "data['title'] = data['title'].dropna() #удалим дубли в названиях фильмов\n",
    "data = data.reset_index(drop=True) #восстановили индексы\n",
    "data.isna().sum()\n",
    "\n",
    "display(data['puNumber'].duplicated().sum()) #проверка на остсутствие дубликатов\n",
    "display(data['title'].duplicated().sum()) #проверка на остсутствие дубликатов"
   ]
  },
  {
   "cell_type": "markdown",
   "metadata": {},
   "source": [
    "В ходе предобработки были обнаружены дубликаты в названиях фильмов. Удалили дубликаты и выполнили проверкую"
   ]
  },
  {
   "cell_type": "markdown",
   "metadata": {
    "id": "52fOPrEBgFyQ"
   },
   "source": [
    "#### Шаг 2.4. Категориальные значения"
   ]
  },
  {
   "cell_type": "markdown",
   "metadata": {},
   "source": [
    "В столбце `age_restriction` хранятся данные о возрастной категории фильмов в неудобном для чтения формате. Напишем функцию, которая вернет сокращенный формат"
   ]
  },
  {
   "cell_type": "code",
   "execution_count": 8,
   "metadata": {
    "id": "PnXKIVdFgFyR"
   },
   "outputs": [],
   "source": [
    "def category_age(row): #с помощью функции заменяем значение на более удобное для чтение\n",
    "    if '16+' in row:\n",
    "        return '16+'\n",
    "    if '12+' in row:\n",
    "        return '12+'\n",
    "    if '18+' in row:\n",
    "        return '18+'\n",
    "    if '0+' in row:\n",
    "        return '0+'\n",
    "    if '6+' in row:\n",
    "        return '6+'\n",
    "data['age_restriction'] =  data['age_restriction'].apply(category_age)\n",
    "\n",
    "\n",
    "data['type'] = data['type'].str.strip()#удалим пробелы в начале и конце строковых значений\n",
    "data['genres'] = data['genres'].str.strip()\n",
    "data['production_country'] = data['production_country'].str.strip()\n",
    "data['producer'] = data['producer'].str.strip()\n",
    "data['director'] = data['director'].str.strip()"
   ]
  },
  {
   "cell_type": "markdown",
   "metadata": {},
   "source": [
    "В категориальных столбцах обноружили пробелы в начале и в конце строковых значений. Применили `str.strip()` для удаления пробелов."
   ]
  },
  {
   "cell_type": "code",
   "execution_count": 73,
   "metadata": {},
   "outputs": [
    {
     "data": {
      "text/plain": [
       "драма                        476\n",
       "комедия                      352\n",
       "мелодрама,комедия            222\n",
       "драма,мелодрама,комедия      189\n",
       "драма,мелодрама              183\n",
       "драма,комедия                158\n",
       "триллер,драма,криминал       141\n",
       "боевик,триллер,драма         140\n",
       "фантастика,боевик,триллер     88\n",
       "документальный                84\n",
       "Name: genres, dtype: int64"
      ]
     },
     "metadata": {},
     "output_type": "display_data"
    },
    {
     "data": {
      "text/plain": [
       "США                     2172\n",
       "Россия                  1821\n",
       "СССР                     347\n",
       "Франция                  301\n",
       "Великобритания           257\n",
       "Италия                   129\n",
       "Германия                 110\n",
       "США - Великобритания      88\n",
       "Япония                    77\n",
       "Испания                   74\n",
       "Name: production_country, dtype: int64"
      ]
     },
     "metadata": {},
     "output_type": "display_data"
    },
    {
     "data": {
      "text/plain": [
       "Киностудия \"Мосфильм\"                           341\n",
       "ООО \"Мульт в кино\"                               57\n",
       "Анимаккорд Лтд                                   23\n",
       "ООО \"Мульт в кино\"                               18\n",
       "ФГУП \"ТПО \"Киностудия \"Союзмультфильм\"           16\n",
       "ООО \"ТаББаК\"                                     15\n",
       "Опус Арте                                        14\n",
       "Р А И Синема                                     14\n",
       "ООО \"Студия анимационного кино \"Мельница\"        14\n",
       "Пиксар Анимейшн Студиос, Уолт Дисней Пикчерз     13\n",
       "Name: film_studio, dtype: int64"
      ]
     },
     "metadata": {},
     "output_type": "display_data"
    }
   ],
   "source": [
    "display(data['genres'].value_counts().head(10))# рассмотрим уникальные значения в категориальных стобцах \n",
    "display(data['production_country'].value_counts().head(10))\n",
    "display(data['film_studio'].value_counts().head(10))"
   ]
  },
  {
   "cell_type": "markdown",
   "metadata": {},
   "source": [
    "* В столбце `production_country` мы обнаружили, что страна производства фильма может быть написана по разному, например \n",
    "    `Великобритания - США`,  `США - Великобритания`,  `США-Великобритания` и т.д.\n",
    "* В столбце `film_studio`, мы обнаружили следующую ошибку `Эр А И Синема`   и   `Р А И Синема`\n",
    "* В столбце `financing_source` мы обнаружили, что некотырые фильмы спонсировались `Министерством культуры` и `Фондом кино` одновременно\n",
    "* В столбце `director` и `producer`, мы так же обнаружили значения написанные по разному  \n",
    "\n",
    "Общая проблема — это данные, которые записаны через запятые, тире."
   ]
  },
  {
   "cell_type": "markdown",
   "metadata": {
    "id": "XFSN5lrEgFyR"
   },
   "source": [
    "#### Шаг 2.5. Количественные значения\n",
    "Исследуем количественные переменные и посмотрим, есть ли в данных подозрительные значения"
   ]
  },
  {
   "cell_type": "code",
   "execution_count": 74,
   "metadata": {},
   "outputs": [
    {
     "data": {
      "text/html": [
       "<div>\n",
       "<style scoped>\n",
       "    .dataframe tbody tr th:only-of-type {\n",
       "        vertical-align: middle;\n",
       "    }\n",
       "\n",
       "    .dataframe tbody tr th {\n",
       "        vertical-align: top;\n",
       "    }\n",
       "\n",
       "    .dataframe thead th {\n",
       "        text-align: right;\n",
       "    }\n",
       "</style>\n",
       "<table border=\"1\" class=\"dataframe\">\n",
       "  <thead>\n",
       "    <tr style=\"text-align: right;\">\n",
       "      <th></th>\n",
       "      <th>title</th>\n",
       "      <th>puNumber</th>\n",
       "      <th>show_start_date</th>\n",
       "      <th>type</th>\n",
       "      <th>film_studio</th>\n",
       "      <th>production_country</th>\n",
       "      <th>director</th>\n",
       "      <th>producer</th>\n",
       "      <th>age_restriction</th>\n",
       "      <th>refundable_support</th>\n",
       "      <th>nonrefundable_support</th>\n",
       "      <th>budget</th>\n",
       "      <th>financing_source</th>\n",
       "      <th>ratings</th>\n",
       "      <th>genres</th>\n",
       "      <th>box_office</th>\n",
       "    </tr>\n",
       "  </thead>\n",
       "  <tbody>\n",
       "    <tr>\n",
       "      <th>2053</th>\n",
       "      <td>14+</td>\n",
       "      <td>111023614</td>\n",
       "      <td>2014-12-19T12:00:00.000Z</td>\n",
       "      <td>Художественный</td>\n",
       "      <td>ООО Киностудия  \"Сентябрь\"</td>\n",
       "      <td>Россия</td>\n",
       "      <td>А.Зайцев</td>\n",
       "      <td>О.Гранина, А.Зайцев</td>\n",
       "      <td>«16+» - для детей старше 16 лет</td>\n",
       "      <td>0.00</td>\n",
       "      <td>23000000.00</td>\n",
       "      <td>0.00</td>\n",
       "      <td>Министерство культуры, Фонд кино</td>\n",
       "      <td>6.6</td>\n",
       "      <td>мелодрама</td>\n",
       "      <td>10234016.10</td>\n",
       "    </tr>\n",
       "    <tr>\n",
       "      <th>2058</th>\n",
       "      <td>Дуxless 2</td>\n",
       "      <td>111000415</td>\n",
       "      <td>2015-01-26T12:00:00.000Z</td>\n",
       "      <td>Художественный</td>\n",
       "      <td>ООО \"Киностудия \"Слово\", ООО \"Арт Пикчерс Студия\"</td>\n",
       "      <td>Россия</td>\n",
       "      <td>Р.Прыгунов</td>\n",
       "      <td>П.Ануров, Ф.Бондарчук, Д.Рудовский</td>\n",
       "      <td>«16+» - для детей старше 16 лет</td>\n",
       "      <td>0.00</td>\n",
       "      <td>75000000.00</td>\n",
       "      <td>0.00</td>\n",
       "      <td>Фонд кино</td>\n",
       "      <td>6.6</td>\n",
       "      <td>драма</td>\n",
       "      <td>446163511.00</td>\n",
       "    </tr>\n",
       "    <tr>\n",
       "      <th>2472</th>\n",
       "      <td>Воин (2015)</td>\n",
       "      <td>111017315</td>\n",
       "      <td>2015-09-28T12:00:00.000Z</td>\n",
       "      <td>Художественный</td>\n",
       "      <td>ООО \"Форпост Продакшн\", ООО \"Арт Пикчерс Студия\"</td>\n",
       "      <td>Россия</td>\n",
       "      <td>А.Андрианов</td>\n",
       "      <td>ООО \"Арт Пикчерс Студия\"</td>\n",
       "      <td>«12+» - для детей старше 12 лет</td>\n",
       "      <td>10000000.00</td>\n",
       "      <td>70000000.00</td>\n",
       "      <td>0.00</td>\n",
       "      <td>Фонд кино</td>\n",
       "      <td>7.8</td>\n",
       "      <td>боевик,драма,криминал</td>\n",
       "      <td>196572438.40</td>\n",
       "    </tr>\n",
       "    <tr>\n",
       "      <th>2532</th>\n",
       "      <td>Бармен.</td>\n",
       "      <td>111009615</td>\n",
       "      <td>2015-05-26T12:00:00.000Z</td>\n",
       "      <td>Художественный</td>\n",
       "      <td>АО \"ВайТ Медиа\", ООО \"Арт Пикчерс Студия\"</td>\n",
       "      <td>Россия</td>\n",
       "      <td>Д.Штурманова</td>\n",
       "      <td>Т.Вайнштейн</td>\n",
       "      <td>«16+» - для детей старше 16 лет</td>\n",
       "      <td>20000000.00</td>\n",
       "      <td>0.00</td>\n",
       "      <td>0.00</td>\n",
       "      <td>Фонд кино</td>\n",
       "      <td>6.2</td>\n",
       "      <td>комедия,фэнтези</td>\n",
       "      <td>67418974.80</td>\n",
       "    </tr>\n",
       "    <tr>\n",
       "      <th>2615</th>\n",
       "      <td>Савва. Сердце воина</td>\n",
       "      <td>114001715</td>\n",
       "      <td>2015-07-21T12:00:00.000Z</td>\n",
       "      <td>Анимационный</td>\n",
       "      <td>ООО \"Глюкоза Продакшн\", ООО \"Арт Пикчерс Студия\"</td>\n",
       "      <td>Россия</td>\n",
       "      <td>М.Фадеев</td>\n",
       "      <td>А.Чистяков</td>\n",
       "      <td>«6+» - для детей старше 6 лет</td>\n",
       "      <td>60000000.00</td>\n",
       "      <td>100000000.00</td>\n",
       "      <td>0.00</td>\n",
       "      <td>Фонд кино</td>\n",
       "      <td>4.6</td>\n",
       "      <td>мультфильм,приключения,фэнтези</td>\n",
       "      <td>184487551.40</td>\n",
       "    </tr>\n",
       "    <tr>\n",
       "      <th>2684</th>\n",
       "      <td>Тряпичный союз</td>\n",
       "      <td>111010215</td>\n",
       "      <td>2015-06-08T12:00:00.000Z</td>\n",
       "      <td>Художественный</td>\n",
       "      <td>ООО \"Кинокомпания \"КОКТЕБЕЛЬ\"</td>\n",
       "      <td>Россия</td>\n",
       "      <td>М.Местецкий</td>\n",
       "      <td>Р.Борисевич, А.Кушаев</td>\n",
       "      <td>«18+» - запрещено для детей</td>\n",
       "      <td>0.00</td>\n",
       "      <td>59000000.00</td>\n",
       "      <td>0.00</td>\n",
       "      <td>Фонд кино</td>\n",
       "      <td>6.3</td>\n",
       "      <td>комедия,драма</td>\n",
       "      <td>1957738.51</td>\n",
       "    </tr>\n",
       "    <tr>\n",
       "      <th>2788</th>\n",
       "      <td>Срочно выйду замуж</td>\n",
       "      <td>111017115</td>\n",
       "      <td>2015-09-30T12:00:00.000Z</td>\n",
       "      <td>Художественный</td>\n",
       "      <td>АО \"ВайТ Медиа\", ООО \"Арт Пикчерс Студия\"</td>\n",
       "      <td>Россия</td>\n",
       "      <td>С Чекалов</td>\n",
       "      <td>Ф.Бондарчук, Т.Вайнштейн, Д.Рудовский</td>\n",
       "      <td>«16+» - для детей старше 16 лет</td>\n",
       "      <td>0.00</td>\n",
       "      <td>35000000.00</td>\n",
       "      <td>0.00</td>\n",
       "      <td>Фонд кино</td>\n",
       "      <td>5.1</td>\n",
       "      <td>комедия,мелодрама</td>\n",
       "      <td>72937783.20</td>\n",
       "    </tr>\n",
       "    <tr>\n",
       "      <th>2874</th>\n",
       "      <td>Помню - не помню!</td>\n",
       "      <td>111004916</td>\n",
       "      <td>2016-03-01T12:00:00.000Z</td>\n",
       "      <td>Художественный</td>\n",
       "      <td>ООО \"КиноФирма\"</td>\n",
       "      <td>Россия</td>\n",
       "      <td>В.Ровенский</td>\n",
       "      <td>ООО \"КиноФирма\"</td>\n",
       "      <td>«12+» - для детей старше 12 лет</td>\n",
       "      <td>0.00</td>\n",
       "      <td>6000000.00</td>\n",
       "      <td>0.00</td>\n",
       "      <td>Министерство культуры</td>\n",
       "      <td>4.3</td>\n",
       "      <td>комедия</td>\n",
       "      <td>15362931.43</td>\n",
       "    </tr>\n",
       "    <tr>\n",
       "      <th>3047</th>\n",
       "      <td>Любовь с ограничениями</td>\n",
       "      <td>111008216</td>\n",
       "      <td>2016-04-29T12:00:00.000Z</td>\n",
       "      <td>Художественный</td>\n",
       "      <td>АО \"ВайТ Медиа\", ООО \"Арт Пикчерс Студия\"</td>\n",
       "      <td>Россия</td>\n",
       "      <td>Д.Тюрин</td>\n",
       "      <td>Ф.Бондарчук, Т.Вайнштейн, Д.Рудовский</td>\n",
       "      <td>«16+» - для детей старше 16 лет</td>\n",
       "      <td>19000000.00</td>\n",
       "      <td>51000000.00</td>\n",
       "      <td>0.00</td>\n",
       "      <td>Фонд кино</td>\n",
       "      <td>6.3</td>\n",
       "      <td>комедия,мелодрама</td>\n",
       "      <td>70299052.00</td>\n",
       "    </tr>\n",
       "    <tr>\n",
       "      <th>3565</th>\n",
       "      <td>Притяжение (2016)</td>\n",
       "      <td>111018116</td>\n",
       "      <td>2016-12-16T12:00:00.000Z</td>\n",
       "      <td>Художественный</td>\n",
       "      <td>ООО \"Водород 2011\",  ООО \"Арт Пикчерс Студия\"</td>\n",
       "      <td>Россия</td>\n",
       "      <td>Ф.Бондарчук</td>\n",
       "      <td>ООО \"Арт Пикчерс Студия\"</td>\n",
       "      <td>«12+» - для детей старше 12 лет</td>\n",
       "      <td>0.00</td>\n",
       "      <td>250000000.00</td>\n",
       "      <td>0.00</td>\n",
       "      <td>Фонд кино</td>\n",
       "      <td>5.6</td>\n",
       "      <td>фантастика</td>\n",
       "      <td>1038321489.00</td>\n",
       "    </tr>\n",
       "    <tr>\n",
       "      <th>3675</th>\n",
       "      <td>Чудо-юдо</td>\n",
       "      <td>114001817</td>\n",
       "      <td>2017-06-27T12:00:00.000Z</td>\n",
       "      <td>Анимационный</td>\n",
       "      <td>ООО \"КиноФирма\"</td>\n",
       "      <td>Россия</td>\n",
       "      <td>А.Лукичев</td>\n",
       "      <td>ООО \"КиноФирма\"</td>\n",
       "      <td>«6+» - для детей старше 6 лет</td>\n",
       "      <td>20000000.00</td>\n",
       "      <td>20000000.00</td>\n",
       "      <td>0.00</td>\n",
       "      <td>Фонд кино</td>\n",
       "      <td>5.2</td>\n",
       "      <td>мультфильм,фэнтези,семейный</td>\n",
       "      <td>55108014.76</td>\n",
       "    </tr>\n",
       "    <tr>\n",
       "      <th>3739</th>\n",
       "      <td>Мифы</td>\n",
       "      <td>111004317</td>\n",
       "      <td>2017-06-07T12:00:00.000Z</td>\n",
       "      <td>Художественный</td>\n",
       "      <td>ООО \"ХАЙПФИЛМ\", ООО \"Арт Пикчерс Студия\"</td>\n",
       "      <td>Россия</td>\n",
       "      <td>А.Молочников</td>\n",
       "      <td>Ф.Бондарчук, Д.Рудовский, И.Стюарт, М.Османн, ...</td>\n",
       "      <td>«16+» - для детей старше 16 лет</td>\n",
       "      <td>25000000.00</td>\n",
       "      <td>20000000.00</td>\n",
       "      <td>0.00</td>\n",
       "      <td>Фонд кино</td>\n",
       "      <td>4.8</td>\n",
       "      <td>комедия</td>\n",
       "      <td>50451949.00</td>\n",
       "    </tr>\n",
       "    <tr>\n",
       "      <th>5673</th>\n",
       "      <td>Селфи</td>\n",
       "      <td>111012117</td>\n",
       "      <td>2018-02-01T12:00:00.000Z</td>\n",
       "      <td>Художественный</td>\n",
       "      <td>ООО \"Киностудия \"Слово\", ООО \"Арт Пикчерс Студия\"</td>\n",
       "      <td>Россия</td>\n",
       "      <td>Н.Хомерики</td>\n",
       "      <td>П.Ануров, Ф.Бондарчук, Д.Рудовский</td>\n",
       "      <td>«16+» - для детей старше 16 лет</td>\n",
       "      <td>20000000.00</td>\n",
       "      <td>40000000.00</td>\n",
       "      <td>0.00</td>\n",
       "      <td>Фонд кино</td>\n",
       "      <td>5.8</td>\n",
       "      <td>триллер,драма</td>\n",
       "      <td>225196400.03</td>\n",
       "    </tr>\n",
       "    <tr>\n",
       "      <th>5806</th>\n",
       "      <td>Два хвоста</td>\n",
       "      <td>114001018</td>\n",
       "      <td>2018-05-31T12:00:00.000Z</td>\n",
       "      <td>Анимационный</td>\n",
       "      <td>ООО \"ЛИЦЕНЗИОННЫЕ БРЕНДЫ\"</td>\n",
       "      <td>Россия</td>\n",
       "      <td>В.Ровенский, Н.Лопато, В.Азеев</td>\n",
       "      <td>ООО \"ЛИЦЕНЗИОННЫЕ БРЕНДЫ\"</td>\n",
       "      <td>«6+» - для детей старше 6 лет</td>\n",
       "      <td>10000000.00</td>\n",
       "      <td>60000000.00</td>\n",
       "      <td>0.00</td>\n",
       "      <td>Фонд кино</td>\n",
       "      <td>5.0</td>\n",
       "      <td>мультфильм,детский</td>\n",
       "      <td>106514301.03</td>\n",
       "    </tr>\n",
       "    <tr>\n",
       "      <th>6008</th>\n",
       "      <td>Принцесса и дракон</td>\n",
       "      <td>114003018</td>\n",
       "      <td>2018-08-23T12:00:00.000Z</td>\n",
       "      <td>Анимационный</td>\n",
       "      <td>ООО \"ЛИЦЕНЗИОННЫЕ БРЕНДЫ\"</td>\n",
       "      <td>Россия</td>\n",
       "      <td>М.Нефедова</td>\n",
       "      <td>ООО \"ЛИЦЕНЗИОННЫЕ БРЕНДЫ\"</td>\n",
       "      <td>«6+» - для детей старше 6 лет</td>\n",
       "      <td>40000000.00</td>\n",
       "      <td>40000000.00</td>\n",
       "      <td>0.00</td>\n",
       "      <td>Фонд кино</td>\n",
       "      <td>5.2</td>\n",
       "      <td>мультфильм,фэнтези,детский</td>\n",
       "      <td>83366328.66</td>\n",
       "    </tr>\n",
       "    <tr>\n",
       "      <th>6323</th>\n",
       "      <td>Баба Яга</td>\n",
       "      <td>114006518</td>\n",
       "      <td>2018-11-08T12:00:00.000Z</td>\n",
       "      <td>Анимационный</td>\n",
       "      <td>ООО \"Арт Пикчерс Студия\"</td>\n",
       "      <td>Россия</td>\n",
       "      <td>В.Саков</td>\n",
       "      <td>ООО \"Арт Пикчерс Студия\", ООО \"КРИЭЙТИВ АНИМЭЙ...</td>\n",
       "      <td>«6+» - для детей старше 6 лет</td>\n",
       "      <td>0.00</td>\n",
       "      <td>138969465.00</td>\n",
       "      <td>0.00</td>\n",
       "      <td>Фонд кино</td>\n",
       "      <td>NaN</td>\n",
       "      <td>NaN</td>\n",
       "      <td>1334699.40</td>\n",
       "    </tr>\n",
       "    <tr>\n",
       "      <th>6823</th>\n",
       "      <td>Большое путешествие</td>\n",
       "      <td>114002419</td>\n",
       "      <td>2019-04-20T12:00:00.000Z</td>\n",
       "      <td>Анимационный</td>\n",
       "      <td>ООО \"ЛИЦЕНЗИОННЫЕ БРЕНДЫ\"</td>\n",
       "      <td>Россия</td>\n",
       "      <td>Н.Лопато, В.Ровенский</td>\n",
       "      <td>ООО \"ЛИЦЕНЗИОННЫЕ БРЕНДЫ\"</td>\n",
       "      <td>«6+» - для детей старше 6 лет</td>\n",
       "      <td>60000000.00</td>\n",
       "      <td>120000000.00</td>\n",
       "      <td>0.00</td>\n",
       "      <td>Фонд кино</td>\n",
       "      <td>6.2</td>\n",
       "      <td>мультфильм,комедия,приключения</td>\n",
       "      <td>147606826.51</td>\n",
       "    </tr>\n",
       "  </tbody>\n",
       "</table>\n",
       "</div>"
      ],
      "text/plain": [
       "                       title   puNumber           show_start_date  \\\n",
       "2053                     14+  111023614  2014-12-19T12:00:00.000Z   \n",
       "2058               Дуxless 2  111000415  2015-01-26T12:00:00.000Z   \n",
       "2472             Воин (2015)  111017315  2015-09-28T12:00:00.000Z   \n",
       "2532                 Бармен.  111009615  2015-05-26T12:00:00.000Z   \n",
       "2615     Савва. Сердце воина  114001715  2015-07-21T12:00:00.000Z   \n",
       "2684          Тряпичный союз  111010215  2015-06-08T12:00:00.000Z   \n",
       "2788      Срочно выйду замуж  111017115  2015-09-30T12:00:00.000Z   \n",
       "2874       Помню - не помню!  111004916  2016-03-01T12:00:00.000Z   \n",
       "3047  Любовь с ограничениями  111008216  2016-04-29T12:00:00.000Z   \n",
       "3565       Притяжение (2016)  111018116  2016-12-16T12:00:00.000Z   \n",
       "3675                Чудо-юдо  114001817  2017-06-27T12:00:00.000Z   \n",
       "3739                    Мифы  111004317  2017-06-07T12:00:00.000Z   \n",
       "5673                   Селфи  111012117  2018-02-01T12:00:00.000Z   \n",
       "5806              Два хвоста  114001018  2018-05-31T12:00:00.000Z   \n",
       "6008      Принцесса и дракон  114003018  2018-08-23T12:00:00.000Z   \n",
       "6323                Баба Яга  114006518  2018-11-08T12:00:00.000Z   \n",
       "6823     Большое путешествие  114002419  2019-04-20T12:00:00.000Z   \n",
       "\n",
       "                 type                                        film_studio  \\\n",
       "2053   Художественный                         ООО Киностудия  \"Сентябрь\"   \n",
       "2058   Художественный  ООО \"Киностудия \"Слово\", ООО \"Арт Пикчерс Студия\"   \n",
       "2472   Художественный   ООО \"Форпост Продакшн\", ООО \"Арт Пикчерс Студия\"   \n",
       "2532   Художественный          АО \"ВайТ Медиа\", ООО \"Арт Пикчерс Студия\"   \n",
       "2615     Анимационный   ООО \"Глюкоза Продакшн\", ООО \"Арт Пикчерс Студия\"   \n",
       "2684   Художественный                      ООО \"Кинокомпания \"КОКТЕБЕЛЬ\"   \n",
       "2788   Художественный          АО \"ВайТ Медиа\", ООО \"Арт Пикчерс Студия\"   \n",
       "2874   Художественный                                    ООО \"КиноФирма\"   \n",
       "3047   Художественный          АО \"ВайТ Медиа\", ООО \"Арт Пикчерс Студия\"   \n",
       "3565   Художественный      ООО \"Водород 2011\",  ООО \"Арт Пикчерс Студия\"   \n",
       "3675     Анимационный                                    ООО \"КиноФирма\"   \n",
       "3739   Художественный           ООО \"ХАЙПФИЛМ\", ООО \"Арт Пикчерс Студия\"   \n",
       "5673   Художественный  ООО \"Киностудия \"Слово\", ООО \"Арт Пикчерс Студия\"   \n",
       "5806     Анимационный                          ООО \"ЛИЦЕНЗИОННЫЕ БРЕНДЫ\"   \n",
       "6008     Анимационный                          ООО \"ЛИЦЕНЗИОННЫЕ БРЕНДЫ\"   \n",
       "6323     Анимационный                           ООО \"Арт Пикчерс Студия\"   \n",
       "6823     Анимационный                          ООО \"ЛИЦЕНЗИОННЫЕ БРЕНДЫ\"   \n",
       "\n",
       "     production_country                        director  \\\n",
       "2053             Россия                        А.Зайцев   \n",
       "2058             Россия                      Р.Прыгунов   \n",
       "2472             Россия                     А.Андрианов   \n",
       "2532             Россия                    Д.Штурманова   \n",
       "2615             Россия                        М.Фадеев   \n",
       "2684             Россия                     М.Местецкий   \n",
       "2788             Россия                       С Чекалов   \n",
       "2874             Россия                     В.Ровенский   \n",
       "3047             Россия                         Д.Тюрин   \n",
       "3565             Россия                     Ф.Бондарчук   \n",
       "3675             Россия                       А.Лукичев   \n",
       "3739             Россия                    А.Молочников   \n",
       "5673             Россия                      Н.Хомерики   \n",
       "5806             Россия  В.Ровенский, Н.Лопато, В.Азеев   \n",
       "6008             Россия                      М.Нефедова   \n",
       "6323             Россия                         В.Саков   \n",
       "6823             Россия           Н.Лопато, В.Ровенский   \n",
       "\n",
       "                                               producer  \\\n",
       "2053                                О.Гранина, А.Зайцев   \n",
       "2058                 П.Ануров, Ф.Бондарчук, Д.Рудовский   \n",
       "2472                           ООО \"Арт Пикчерс Студия\"   \n",
       "2532                                        Т.Вайнштейн   \n",
       "2615                                         А.Чистяков   \n",
       "2684                              Р.Борисевич, А.Кушаев   \n",
       "2788              Ф.Бондарчук, Т.Вайнштейн, Д.Рудовский   \n",
       "2874                                    ООО \"КиноФирма\"   \n",
       "3047              Ф.Бондарчук, Т.Вайнштейн, Д.Рудовский   \n",
       "3565                           ООО \"Арт Пикчерс Студия\"   \n",
       "3675                                    ООО \"КиноФирма\"   \n",
       "3739  Ф.Бондарчук, Д.Рудовский, И.Стюарт, М.Османн, ...   \n",
       "5673                 П.Ануров, Ф.Бондарчук, Д.Рудовский   \n",
       "5806                          ООО \"ЛИЦЕНЗИОННЫЕ БРЕНДЫ\"   \n",
       "6008                          ООО \"ЛИЦЕНЗИОННЫЕ БРЕНДЫ\"   \n",
       "6323  ООО \"Арт Пикчерс Студия\", ООО \"КРИЭЙТИВ АНИМЭЙ...   \n",
       "6823                          ООО \"ЛИЦЕНЗИОННЫЕ БРЕНДЫ\"   \n",
       "\n",
       "                      age_restriction  refundable_support  \\\n",
       "2053  «16+» - для детей старше 16 лет                0.00   \n",
       "2058  «16+» - для детей старше 16 лет                0.00   \n",
       "2472  «12+» - для детей старше 12 лет         10000000.00   \n",
       "2532  «16+» - для детей старше 16 лет         20000000.00   \n",
       "2615    «6+» - для детей старше 6 лет         60000000.00   \n",
       "2684      «18+» - запрещено для детей                0.00   \n",
       "2788  «16+» - для детей старше 16 лет                0.00   \n",
       "2874  «12+» - для детей старше 12 лет                0.00   \n",
       "3047  «16+» - для детей старше 16 лет         19000000.00   \n",
       "3565  «12+» - для детей старше 12 лет                0.00   \n",
       "3675    «6+» - для детей старше 6 лет         20000000.00   \n",
       "3739  «16+» - для детей старше 16 лет         25000000.00   \n",
       "5673  «16+» - для детей старше 16 лет         20000000.00   \n",
       "5806    «6+» - для детей старше 6 лет         10000000.00   \n",
       "6008    «6+» - для детей старше 6 лет         40000000.00   \n",
       "6323    «6+» - для детей старше 6 лет                0.00   \n",
       "6823    «6+» - для детей старше 6 лет         60000000.00   \n",
       "\n",
       "      nonrefundable_support  budget                  financing_source ratings  \\\n",
       "2053            23000000.00    0.00  Министерство культуры, Фонд кино     6.6   \n",
       "2058            75000000.00    0.00                         Фонд кино     6.6   \n",
       "2472            70000000.00    0.00                         Фонд кино     7.8   \n",
       "2532                   0.00    0.00                         Фонд кино     6.2   \n",
       "2615           100000000.00    0.00                         Фонд кино     4.6   \n",
       "2684            59000000.00    0.00                         Фонд кино     6.3   \n",
       "2788            35000000.00    0.00                         Фонд кино     5.1   \n",
       "2874             6000000.00    0.00             Министерство культуры     4.3   \n",
       "3047            51000000.00    0.00                         Фонд кино     6.3   \n",
       "3565           250000000.00    0.00                         Фонд кино     5.6   \n",
       "3675            20000000.00    0.00                         Фонд кино     5.2   \n",
       "3739            20000000.00    0.00                         Фонд кино     4.8   \n",
       "5673            40000000.00    0.00                         Фонд кино     5.8   \n",
       "5806            60000000.00    0.00                         Фонд кино     5.0   \n",
       "6008            40000000.00    0.00                         Фонд кино     5.2   \n",
       "6323           138969465.00    0.00                         Фонд кино     NaN   \n",
       "6823           120000000.00    0.00                         Фонд кино     6.2   \n",
       "\n",
       "                              genres    box_office  \n",
       "2053                       мелодрама   10234016.10  \n",
       "2058                           драма  446163511.00  \n",
       "2472           боевик,драма,криминал  196572438.40  \n",
       "2532                 комедия,фэнтези   67418974.80  \n",
       "2615  мультфильм,приключения,фэнтези  184487551.40  \n",
       "2684                   комедия,драма    1957738.51  \n",
       "2788               комедия,мелодрама   72937783.20  \n",
       "2874                         комедия   15362931.43  \n",
       "3047               комедия,мелодрама   70299052.00  \n",
       "3565                      фантастика 1038321489.00  \n",
       "3675     мультфильм,фэнтези,семейный   55108014.76  \n",
       "3739                         комедия   50451949.00  \n",
       "5673                   триллер,драма  225196400.03  \n",
       "5806              мультфильм,детский  106514301.03  \n",
       "6008      мультфильм,фэнтези,детский   83366328.66  \n",
       "6323                             NaN    1334699.40  \n",
       "6823  мультфильм,комедия,приключения  147606826.51  "
      ]
     },
     "metadata": {},
     "output_type": "display_data"
    },
    {
     "data": {
      "image/png": "[encoded data removed]",
      "text/plain": [
       "<Figure size 360x360 with 1 Axes>"
      ]
     },
     "metadata": {
      "needs_background": "light"
     },
     "output_type": "display_data"
    }
   ],
   "source": [
    "data.boxplot('box_office')#вызовем диаграмму с усами для box_office\n",
    "display(data.query('(nonrefundable_support + refundable_support) > budget'))# найдем фильмы где бюджет меньше гос. поддержки \n",
    "\n"
   ]
  },
  {
   "cell_type": "markdown",
   "metadata": {},
   "source": [
    "Построим гистограммы для столбцов `budget`, `refundable_support`, `nonrefundable_support`,`ratings`,`box_office`"
   ]
  },
  {
   "cell_type": "code",
   "execution_count": 31,
   "metadata": {
    "id": "YbzClBxagFyS"
   },
   "outputs": [
    {
     "data": {
      "text/plain": [
       "array([[<AxesSubplot:title={'center':'box_office'}>]], dtype=object)"
      ]
     },
     "execution_count": 31,
     "metadata": {},
     "output_type": "execute_result"
    },
    {
     "data": {
      "image/png": "[encoded data removed]",
      "text/plain": [
       "<Figure size 432x288 with 1 Axes>"
      ]
     },
     "metadata": {
      "needs_background": "light"
     },
     "output_type": "display_data"
    },
    {
     "data": {
      "image/png": "[encoded data removed]",
      "text/plain": [
       "<Figure size 432x288 with 1 Axes>"
      ]
     },
     "metadata": {
      "needs_background": "light"
     },
     "output_type": "display_data"
    },
    {
     "data": {
      "image/png": "[encoded data removed]",
      "text/plain": [
       "<Figure size 432x288 with 1 Axes>"
      ]
     },
     "metadata": {
      "needs_background": "light"
     },
     "output_type": "display_data"
    },
    {
     "data": {
      "image/png": "[encoded data removed]",
      "text/plain": [
       "<Figure size 432x288 with 1 Axes>"
      ]
     },
     "metadata": {
      "needs_background": "light"
     },
     "output_type": "display_data"
    },
    {
     "data": {
      "image/png": "[encoded data removed]",
      "text/plain": [
       "<Figure size 432x288 with 1 Axes>"
      ]
     },
     "metadata": {
      "needs_background": "light"
     },
     "output_type": "display_data"
    }
   ],
   "source": [
    "(\n",
    "data.query('budget != 0') #изучим столбец бюджет, \n",
    "    .hist('budget',bins=100,range=(0,259999999))\n",
    ")\n",
    "(\n",
    "data.query('refundable_support != 0') #изучим столбец refundable_support\n",
    "    .hist('refundable_support',bins=30,range=(0,200000000))\n",
    ")\n",
    "(\n",
    "data.query('nonrefundable_support != 0') #изучим столбец nonrefundable_support\n",
    "    .hist('nonrefundable_support',bins=30,range=(0,500000000))\n",
    ")\n",
    "data.hist('ratings',bins=10,range=(0,10)) #изучим столбец ratings\n",
    "\n",
    "(\n",
    "data.query('box_office != 0') #изучим столбец box_office\n",
    "    .hist('box_office',bins=100,range=(0,20000000))\n",
    ")"
   ]
  },
  {
   "cell_type": "markdown",
   "metadata": {},
   "source": [
    "В столбцах `budget`, `refundable_support`, `nonrefundable_support`, `ratings` данные распределены правдоподобно\n",
    "Данные в столбце `box_office` смущают больше всего, мы могли бы отфильтровать таблицу по условия `box_office` > 10000000, но мы потеряем значительный объем данных. Так же мы выяснили, что фильмы где бюджет оказался меньше суммарной поддержки существуют, их 17 штук, у всех 0-ой бюджет."
   ]
  },
  {
   "cell_type": "markdown",
   "metadata": {
    "id": "Eu6oWp2CgFyS"
   },
   "source": [
    "#### Шаг 2.6. Добавим новые столбцы"
   ]
  },
  {
   "cell_type": "markdown",
   "metadata": {},
   "source": [
    "Выделим год из даты для дальнейшего анализа"
   ]
  },
  {
   "cell_type": "code",
   "execution_count": 76,
   "metadata": {
    "id": "I-yd1DkWgFyT"
   },
   "outputs": [],
   "source": [
    "data['year'] = pd.DatetimeIndex(data['show_start_date']).year#выделим год из даты"
   ]
  },
  {
   "cell_type": "markdown",
   "metadata": {
    "id": "nFTDLDYOgFyT"
   },
   "source": [
    "Создадим два столбца: с именем и фамилией главного режиссёра и основным жанром фильма. В столбцы войдут первые значения из списка режиссёров и жанров соответственно."
   ]
  },
  {
   "cell_type": "code",
   "execution_count": 77,
   "metadata": {
    "id": "LSbRZKbMgFyU"
   },
   "outputs": [
    {
     "data": {
      "text/html": [
       "<div>\n",
       "<style scoped>\n",
       "    .dataframe tbody tr th:only-of-type {\n",
       "        vertical-align: middle;\n",
       "    }\n",
       "\n",
       "    .dataframe tbody tr th {\n",
       "        vertical-align: top;\n",
       "    }\n",
       "\n",
       "    .dataframe thead th {\n",
       "        text-align: right;\n",
       "    }\n",
       "</style>\n",
       "<table border=\"1\" class=\"dataframe\">\n",
       "  <thead>\n",
       "    <tr style=\"text-align: right;\">\n",
       "      <th></th>\n",
       "      <th>title</th>\n",
       "      <th>puNumber</th>\n",
       "      <th>show_start_date</th>\n",
       "      <th>type</th>\n",
       "      <th>film_studio</th>\n",
       "      <th>production_country</th>\n",
       "      <th>director</th>\n",
       "      <th>producer</th>\n",
       "      <th>age_restriction</th>\n",
       "      <th>refundable_support</th>\n",
       "      <th>nonrefundable_support</th>\n",
       "      <th>budget</th>\n",
       "      <th>financing_source</th>\n",
       "      <th>ratings</th>\n",
       "      <th>genres</th>\n",
       "      <th>box_office</th>\n",
       "      <th>year</th>\n",
       "      <th>name</th>\n",
       "      <th>general_genre</th>\n",
       "    </tr>\n",
       "  </thead>\n",
       "  <tbody>\n",
       "    <tr>\n",
       "      <th>0</th>\n",
       "      <td>Открытый простор</td>\n",
       "      <td>221048915</td>\n",
       "      <td>2015-11-27T12:00:00.000Z</td>\n",
       "      <td>Художественный</td>\n",
       "      <td>Тачстоун Пикчерз, Кобальт Пикчерз, Бикон Пикче...</td>\n",
       "      <td>США</td>\n",
       "      <td>Кевин Костнер</td>\n",
       "      <td>Дэвид Валдес, Кевин Костнер, Джейк Эбертс</td>\n",
       "      <td>«18+» - запрещено для детей</td>\n",
       "      <td>NaN</td>\n",
       "      <td>NaN</td>\n",
       "      <td>NaN</td>\n",
       "      <td>Без источника финансирования</td>\n",
       "      <td>7.2</td>\n",
       "      <td>боевик,драма,мелодрама</td>\n",
       "      <td>NaN</td>\n",
       "      <td>2015</td>\n",
       "      <td>Дэвид Валдес</td>\n",
       "      <td>боевик</td>\n",
       "    </tr>\n",
       "    <tr>\n",
       "      <th>1</th>\n",
       "      <td>Особо важное задание</td>\n",
       "      <td>111013716</td>\n",
       "      <td>2016-09-13T12:00:00.000Z</td>\n",
       "      <td>Художественный</td>\n",
       "      <td>Киностудия \"Мосфильм\"</td>\n",
       "      <td>СССР</td>\n",
       "      <td>Е.Матвеев</td>\n",
       "      <td>Е.Матвеев</td>\n",
       "      <td>«6+» - для детей старше 6 лет</td>\n",
       "      <td>NaN</td>\n",
       "      <td>NaN</td>\n",
       "      <td>NaN</td>\n",
       "      <td>Без источника финансирования</td>\n",
       "      <td>6.6</td>\n",
       "      <td>драма,военный</td>\n",
       "      <td>NaN</td>\n",
       "      <td>2016</td>\n",
       "      <td>Е.Матвеев</td>\n",
       "      <td>драма</td>\n",
       "    </tr>\n",
       "    <tr>\n",
       "      <th>2</th>\n",
       "      <td>Особо опасен</td>\n",
       "      <td>221038416</td>\n",
       "      <td>2016-10-10T12:00:00.000Z</td>\n",
       "      <td>Художественный</td>\n",
       "      <td>Юниверсал Пикчерз, Кикстарт Продакшнз, Марк Пл...</td>\n",
       "      <td>США</td>\n",
       "      <td>Тимур Бекмамбетов</td>\n",
       "      <td>Джим Лемли, Джейсон Нетер, Марк Е.Платт, Яйн Смит</td>\n",
       "      <td>«18+» - запрещено для детей</td>\n",
       "      <td>NaN</td>\n",
       "      <td>NaN</td>\n",
       "      <td>NaN</td>\n",
       "      <td>Без источника финансирования</td>\n",
       "      <td>6.8</td>\n",
       "      <td>фантастика,боевик,триллер</td>\n",
       "      <td>NaN</td>\n",
       "      <td>2016</td>\n",
       "      <td>Джим Лемли</td>\n",
       "      <td>фантастика</td>\n",
       "    </tr>\n",
       "    <tr>\n",
       "      <th>3</th>\n",
       "      <td>Особо опасен</td>\n",
       "      <td>221026916</td>\n",
       "      <td>2016-06-10T12:00:00.000Z</td>\n",
       "      <td>Художественный</td>\n",
       "      <td>Юниверсал Пикчерз, Кикстарт Продакшнз, Марк Пл...</td>\n",
       "      <td>США</td>\n",
       "      <td>Тимур Бекмамбетов</td>\n",
       "      <td>Джим Лемли, Джейсон Нетер, Марк Е.Платт, Яйн Смит</td>\n",
       "      <td>«18+» - запрещено для детей</td>\n",
       "      <td>NaN</td>\n",
       "      <td>NaN</td>\n",
       "      <td>NaN</td>\n",
       "      <td>Без источника финансирования</td>\n",
       "      <td>6.8</td>\n",
       "      <td>фантастика,боевик,триллер</td>\n",
       "      <td>NaN</td>\n",
       "      <td>2016</td>\n",
       "      <td>Джим Лемли</td>\n",
       "      <td>фантастика</td>\n",
       "    </tr>\n",
       "    <tr>\n",
       "      <th>4</th>\n",
       "      <td>Особо опасен</td>\n",
       "      <td>221030815</td>\n",
       "      <td>2015-07-29T12:00:00.000Z</td>\n",
       "      <td>Художественный</td>\n",
       "      <td>Юниверсал Пикчерз, Кикстарт Продакшнз, Марк Пл...</td>\n",
       "      <td>США</td>\n",
       "      <td>Тимур Бекмамбетов</td>\n",
       "      <td>Джим Лемли, Джейсон Нетер, Марк Е.Платт, Яйн Смит</td>\n",
       "      <td>«18+» - запрещено для детей</td>\n",
       "      <td>NaN</td>\n",
       "      <td>NaN</td>\n",
       "      <td>NaN</td>\n",
       "      <td>Без источника финансирования</td>\n",
       "      <td>6.8</td>\n",
       "      <td>фантастика,боевик,триллер</td>\n",
       "      <td>NaN</td>\n",
       "      <td>2015</td>\n",
       "      <td>Джим Лемли</td>\n",
       "      <td>фантастика</td>\n",
       "    </tr>\n",
       "  </tbody>\n",
       "</table>\n",
       "</div>"
      ],
      "text/plain": [
       "                  title   puNumber           show_start_date            type  \\\n",
       "0      Открытый простор  221048915  2015-11-27T12:00:00.000Z  Художественный   \n",
       "1  Особо важное задание  111013716  2016-09-13T12:00:00.000Z  Художественный   \n",
       "2          Особо опасен  221038416  2016-10-10T12:00:00.000Z  Художественный   \n",
       "3          Особо опасен  221026916  2016-06-10T12:00:00.000Z  Художественный   \n",
       "4          Особо опасен  221030815  2015-07-29T12:00:00.000Z  Художественный   \n",
       "\n",
       "                                         film_studio production_country  \\\n",
       "0  Тачстоун Пикчерз, Кобальт Пикчерз, Бикон Пикче...                США   \n",
       "1                              Киностудия \"Мосфильм\"               СССР   \n",
       "2  Юниверсал Пикчерз, Кикстарт Продакшнз, Марк Пл...                США   \n",
       "3  Юниверсал Пикчерз, Кикстарт Продакшнз, Марк Пл...                США   \n",
       "4  Юниверсал Пикчерз, Кикстарт Продакшнз, Марк Пл...                США   \n",
       "\n",
       "            director                                           producer  \\\n",
       "0      Кевин Костнер          Дэвид Валдес, Кевин Костнер, Джейк Эбертс   \n",
       "1          Е.Матвеев                                          Е.Матвеев   \n",
       "2  Тимур Бекмамбетов  Джим Лемли, Джейсон Нетер, Марк Е.Платт, Яйн Смит   \n",
       "3  Тимур Бекмамбетов  Джим Лемли, Джейсон Нетер, Марк Е.Платт, Яйн Смит   \n",
       "4  Тимур Бекмамбетов  Джим Лемли, Джейсон Нетер, Марк Е.Платт, Яйн Смит   \n",
       "\n",
       "                 age_restriction  refundable_support  nonrefundable_support  \\\n",
       "0    «18+» - запрещено для детей                 NaN                    NaN   \n",
       "1  «6+» - для детей старше 6 лет                 NaN                    NaN   \n",
       "2    «18+» - запрещено для детей                 NaN                    NaN   \n",
       "3    «18+» - запрещено для детей                 NaN                    NaN   \n",
       "4    «18+» - запрещено для детей                 NaN                    NaN   \n",
       "\n",
       "   budget              financing_source ratings                     genres  \\\n",
       "0     NaN  Без источника финансирования     7.2     боевик,драма,мелодрама   \n",
       "1     NaN  Без источника финансирования     6.6              драма,военный   \n",
       "2     NaN  Без источника финансирования     6.8  фантастика,боевик,триллер   \n",
       "3     NaN  Без источника финансирования     6.8  фантастика,боевик,триллер   \n",
       "4     NaN  Без источника финансирования     6.8  фантастика,боевик,триллер   \n",
       "\n",
       "   box_office  year          name general_genre  \n",
       "0         NaN  2015  Дэвид Валдес        боевик  \n",
       "1         NaN  2016     Е.Матвеев         драма  \n",
       "2         NaN  2016    Джим Лемли    фантастика  \n",
       "3         NaN  2016    Джим Лемли    фантастика  \n",
       "4         NaN  2015    Джим Лемли    фантастика  "
      ]
     },
     "execution_count": 77,
     "metadata": {},
     "output_type": "execute_result"
    }
   ],
   "source": [
    "data['producer'] = data['producer'].astype('str')# меняем тип для создания функции \n",
    "data['genres'] = data['genres'].astype('str')# меняем тип для создания функции \n",
    "data['director'] = data['director'].astype('str')\n",
    "\n",
    "\n",
    "def distribution(row):#создадим функцию, которая выделит имя главного режиссера и название основного жанра\n",
    "    row = row.split(',')\n",
    "    for i in row:\n",
    "        return row[0]    \n",
    "data['name'] = data['producer'].apply(distribution) #применили функцию к столбцу producer  \n",
    "data['general_genre'] = data['genres'].apply(distribution) #применили функцию к столбцу producer genres\n",
    "   \n",
    "\n",
    "data['producer'] = data['producer'].astype('object') \n",
    "data['genres'] = data['genres'].astype('object')\n",
    "data['director'] = data['director'].astype('object')\n",
    "\n",
    "data.head()# проверим работу функции"
   ]
  },
  {
   "cell_type": "markdown",
   "metadata": {
    "id": "1FsCXHwdgFyU"
   },
   "source": [
    "Посчитаем, какую долю от общего бюджета составляет государственная поддержка и добавим значения в новый столбец `ratio_support_to_budget`"
   ]
  },
  {
   "cell_type": "code",
   "execution_count": 79,
   "metadata": {
    "id": "LV6qFuZLgFyV"
   },
   "outputs": [],
   "source": [
    "data['budget'] = data['budget'].replace(float('inf'), np.nan)#заменим inf на NaN\n",
    "data['ratio_support_to_budget'] = ((data['refundable_support'] + data['nonrefundable_support'])/data['budget'])\n",
    "data['ratio_support_to_budget'] = data['ratio_support_to_budget'].replace(float('inf'), np.nan)#заменим inf на NaN"
   ]
  },
  {
   "cell_type": "markdown",
   "metadata": {
    "id": "6t4EukPLgFyV"
   },
   "source": [
    "### Шаг 3. Исследовательский анализ данных\n",
    "Нам необходимо посмотреть сколько фильмов выходило в прокат каждый год. Изучить, как менялась динамика проката по годам и определить, влияет ли возрастное ограничение на сборы фильма"
   ]
  },
  {
   "cell_type": "code",
   "execution_count": 40,
   "metadata": {
    "id": "ABeV47y7gFyW"
   },
   "outputs": [
    {
     "data": {
      "text/html": [
       "<div>\n",
       "<style scoped>\n",
       "    .dataframe tbody tr th:only-of-type {\n",
       "        vertical-align: middle;\n",
       "    }\n",
       "\n",
       "    .dataframe tbody tr th {\n",
       "        vertical-align: top;\n",
       "    }\n",
       "\n",
       "    .dataframe thead th {\n",
       "        text-align: right;\n",
       "    }\n",
       "</style>\n",
       "<table border=\"1\" class=\"dataframe\">\n",
       "  <thead>\n",
       "    <tr style=\"text-align: right;\">\n",
       "      <th></th>\n",
       "      <th>box_office</th>\n",
       "    </tr>\n",
       "    <tr>\n",
       "      <th>year</th>\n",
       "      <th></th>\n",
       "    </tr>\n",
       "  </thead>\n",
       "  <tbody>\n",
       "    <tr>\n",
       "      <th>2010</th>\n",
       "      <td>88</td>\n",
       "    </tr>\n",
       "    <tr>\n",
       "      <th>2011</th>\n",
       "      <td>98</td>\n",
       "    </tr>\n",
       "    <tr>\n",
       "      <th>2012</th>\n",
       "      <td>116</td>\n",
       "    </tr>\n",
       "    <tr>\n",
       "      <th>2013</th>\n",
       "      <td>176</td>\n",
       "    </tr>\n",
       "    <tr>\n",
       "      <th>2014</th>\n",
       "      <td>257</td>\n",
       "    </tr>\n",
       "    <tr>\n",
       "      <th>2015</th>\n",
       "      <td>431</td>\n",
       "    </tr>\n",
       "    <tr>\n",
       "      <th>2016</th>\n",
       "      <td>501</td>\n",
       "    </tr>\n",
       "    <tr>\n",
       "      <th>2017</th>\n",
       "      <td>356</td>\n",
       "    </tr>\n",
       "    <tr>\n",
       "      <th>2018</th>\n",
       "      <td>472</td>\n",
       "    </tr>\n",
       "    <tr>\n",
       "      <th>2019</th>\n",
       "      <td>522</td>\n",
       "    </tr>\n",
       "  </tbody>\n",
       "</table>\n",
       "</div>"
      ],
      "text/plain": [
       "      box_office\n",
       "year            \n",
       "2010          88\n",
       "2011          98\n",
       "2012         116\n",
       "2013         176\n",
       "2014         257\n",
       "2015         431\n",
       "2016         501\n",
       "2017         356\n",
       "2018         472\n",
       "2019         522"
      ]
     },
     "metadata": {},
     "output_type": "display_data"
    },
    {
     "name": "stdout",
     "output_type": "stream",
     "text": [
      "Доля фильмов с указанной информацией о дате выхода составляет: 44.20%\n"
     ]
    },
    {
     "data": {
      "text/plain": [
       "<AxesSubplot:title={'center':'Динамика выхода фильмов'}, xlabel='Годы', ylabel='Количество фильмов вышедших в прокат'>"
      ]
     },
     "execution_count": 40,
     "metadata": {},
     "output_type": "execute_result"
    },
    {
     "data": {
      "image/png": "[encoded data removed]",
      "text/plain": [
       "<Figure size 864x432 with 1 Axes>"
      ]
     },
     "metadata": {
      "needs_background": "light"
     },
     "output_type": "display_data"
    }
   ],
   "source": [
    "display(data.pivot_table(index='year',values='box_office',aggfunc='count'))# построим сводную таблицу\n",
    "ratio = data['box_office'][data['box_office'] > 0].count() / len(data)# посчитаем долю фильмов с указанной. информацие о сборах\n",
    "print(f'Доля фильмов с указанной информацией о дате выхода составляет: {ratio:.2%}')\n",
    "#построим линейный график\n",
    "(\n",
    "data\n",
    "    .query('box_office > 0')\n",
    "    .pivot_table(index='year',values='box_office',aggfunc='count')\n",
    "    .plot(title='Динамика выхода фильмов',xlabel='Годы',ylabel='Количество фильмов вышедших в прокат',color='orange',figsize=(12,6),grid=True)\n",
    ")    "
   ]
  },
  {
   "cell_type": "markdown",
   "metadata": {},
   "source": [
    "Количество фильмов выходящих в прокат отображено в сводной таблице по годам. Доля фильмов с указанной информацией о бюджете составляет: `44.20%`\n",
    "\n",
    "На рафике изображено, как менялась доля фильмов в которых есть информация о сборах. Мы видим, что количество фильмов росло до `2016` года, далее последовал небольшой спад, а в `2019` году кол-во вернулось на уровень `2016` года\n",
    "\n",
    "Наиболее большой период представленный в данных это отрезок с `2015` г. по `2019` г."
   ]
  },
  {
   "cell_type": "markdown",
   "metadata": {},
   "source": [
    "Построим график динамики сборов по годам"
   ]
  },
  {
   "cell_type": "code",
   "execution_count": 41,
   "metadata": {},
   "outputs": [
    {
     "data": {
      "text/plain": [
       "Text(0, 0.5, 'Сборы')"
      ]
     },
     "execution_count": 41,
     "metadata": {},
     "output_type": "execute_result"
    },
    {
     "data": {
      "image/png": "[encoded data removed]",
      "text/plain": [
       "<Figure size 432x288 with 1 Axes>"
      ]
     },
     "metadata": {
      "needs_background": "light"
     },
     "output_type": "display_data"
    }
   ],
   "source": [
    "# построим barplot для того, чтобы понять динамику изменений сборов по годам\n",
    "sns.barplot(x=\"year\", \n",
    "            y=\"box_office\",\n",
    "            palette='hls', \n",
    "            order= [2014,2015,2016,2017,2018,2019],\n",
    "            data=data)\n",
    "plt.title('Динамика сборов по годам')\n",
    "plt.xlabel('Годы')\n",
    "plt.ylabel('Сборы')"
   ]
  },
  {
   "cell_type": "markdown",
   "metadata": {},
   "source": [
    "График показывает рост с `2014` года по `2017` год, далее следует спад до уровня `2016` года."
   ]
  },
  {
   "cell_type": "code",
   "execution_count": 18,
   "metadata": {},
   "outputs": [
    {
     "data": {
      "text/html": [
       "<div>\n",
       "<style scoped>\n",
       "    .dataframe tbody tr th:only-of-type {\n",
       "        vertical-align: middle;\n",
       "    }\n",
       "\n",
       "    .dataframe tbody tr th {\n",
       "        vertical-align: top;\n",
       "    }\n",
       "\n",
       "    .dataframe thead tr th {\n",
       "        text-align: left;\n",
       "    }\n",
       "\n",
       "    .dataframe thead tr:last-of-type th {\n",
       "        text-align: right;\n",
       "    }\n",
       "</style>\n",
       "<table border=\"1\" class=\"dataframe\">\n",
       "  <thead>\n",
       "    <tr>\n",
       "      <th></th>\n",
       "      <th>min</th>\n",
       "      <th>max</th>\n",
       "    </tr>\n",
       "    <tr>\n",
       "      <th></th>\n",
       "      <th>box_office</th>\n",
       "      <th>box_office</th>\n",
       "    </tr>\n",
       "    <tr>\n",
       "      <th>year</th>\n",
       "      <th></th>\n",
       "      <th></th>\n",
       "    </tr>\n",
       "  </thead>\n",
       "  <tbody>\n",
       "    <tr>\n",
       "      <th>2010</th>\n",
       "      <td>75.00</td>\n",
       "      <td>1446400.00</td>\n",
       "    </tr>\n",
       "    <tr>\n",
       "      <th>2011</th>\n",
       "      <td>125.00</td>\n",
       "      <td>11618085.00</td>\n",
       "    </tr>\n",
       "    <tr>\n",
       "      <th>2012</th>\n",
       "      <td>80.00</td>\n",
       "      <td>2311220.00</td>\n",
       "    </tr>\n",
       "    <tr>\n",
       "      <th>2013</th>\n",
       "      <td>40.00</td>\n",
       "      <td>19957031.50</td>\n",
       "    </tr>\n",
       "    <tr>\n",
       "      <th>2014</th>\n",
       "      <td>50.00</td>\n",
       "      <td>1016410635.30</td>\n",
       "    </tr>\n",
       "    <tr>\n",
       "      <th>2015</th>\n",
       "      <td>100.00</td>\n",
       "      <td>1646580645.70</td>\n",
       "    </tr>\n",
       "    <tr>\n",
       "      <th>2016</th>\n",
       "      <td>200.00</td>\n",
       "      <td>2048126108.00</td>\n",
       "    </tr>\n",
       "    <tr>\n",
       "      <th>2017</th>\n",
       "      <td>7900.00</td>\n",
       "      <td>2779686144.00</td>\n",
       "    </tr>\n",
       "    <tr>\n",
       "      <th>2018</th>\n",
       "      <td>41225.00</td>\n",
       "      <td>2271754004.52</td>\n",
       "    </tr>\n",
       "    <tr>\n",
       "      <th>2019</th>\n",
       "      <td>4398.40</td>\n",
       "      <td>3073568690.79</td>\n",
       "    </tr>\n",
       "  </tbody>\n",
       "</table>\n",
       "</div>"
      ],
      "text/plain": [
       "            min           max\n",
       "     box_office    box_office\n",
       "year                         \n",
       "2010      75.00    1446400.00\n",
       "2011     125.00   11618085.00\n",
       "2012      80.00    2311220.00\n",
       "2013      40.00   19957031.50\n",
       "2014      50.00 1016410635.30\n",
       "2015     100.00 1646580645.70\n",
       "2016     200.00 2048126108.00\n",
       "2017    7900.00 2779686144.00\n",
       "2018   41225.00 2271754004.52\n",
       "2019    4398.40 3073568690.79"
      ]
     },
     "metadata": {},
     "output_type": "display_data"
    }
   ],
   "source": [
    "# найдем минимальную и максимальную сумму сборов по годам с помощью сводной таблицы\n",
    "display(data\n",
    "        .query('box_office > 0')\n",
    "        .pivot_table(index='year',values='box_office',aggfunc=['min','max']))"
   ]
  },
  {
   "cell_type": "markdown",
   "metadata": {},
   "source": [
    "В построенной сводной таблицах мы видим, как менялась минимальная и максимальная сумма сборов по годам"
   ]
  },
  {
   "cell_type": "markdown",
   "metadata": {},
   "source": [
    "С помощью сводной таблицы посчитаем среднюю и медианную сумму сборов для каждого года."
   ]
  },
  {
   "cell_type": "code",
   "execution_count": 42,
   "metadata": {
    "id": "jmp-rgg9gFyY"
   },
   "outputs": [
    {
     "data": {
      "text/html": [
       "<div>\n",
       "<style scoped>\n",
       "    .dataframe tbody tr th:only-of-type {\n",
       "        vertical-align: middle;\n",
       "    }\n",
       "\n",
       "    .dataframe tbody tr th {\n",
       "        vertical-align: top;\n",
       "    }\n",
       "\n",
       "    .dataframe thead tr th {\n",
       "        text-align: left;\n",
       "    }\n",
       "\n",
       "    .dataframe thead tr:last-of-type th {\n",
       "        text-align: right;\n",
       "    }\n",
       "</style>\n",
       "<table border=\"1\" class=\"dataframe\">\n",
       "  <thead>\n",
       "    <tr>\n",
       "      <th></th>\n",
       "      <th>mean</th>\n",
       "      <th>median</th>\n",
       "    </tr>\n",
       "    <tr>\n",
       "      <th></th>\n",
       "      <th>box_office</th>\n",
       "      <th>box_office</th>\n",
       "    </tr>\n",
       "    <tr>\n",
       "      <th>year</th>\n",
       "      <th></th>\n",
       "      <th></th>\n",
       "    </tr>\n",
       "  </thead>\n",
       "  <tbody>\n",
       "    <tr>\n",
       "      <th>2010</th>\n",
       "      <td>28265.95</td>\n",
       "      <td>2085.00</td>\n",
       "    </tr>\n",
       "    <tr>\n",
       "      <th>2011</th>\n",
       "      <td>142289.69</td>\n",
       "      <td>3042.50</td>\n",
       "    </tr>\n",
       "    <tr>\n",
       "      <th>2012</th>\n",
       "      <td>58244.24</td>\n",
       "      <td>6900.00</td>\n",
       "    </tr>\n",
       "    <tr>\n",
       "      <th>2013</th>\n",
       "      <td>174084.98</td>\n",
       "      <td>3880.00</td>\n",
       "    </tr>\n",
       "    <tr>\n",
       "      <th>2014</th>\n",
       "      <td>29372902.68</td>\n",
       "      <td>28150.00</td>\n",
       "    </tr>\n",
       "    <tr>\n",
       "      <th>2015</th>\n",
       "      <td>74964135.18</td>\n",
       "      <td>4398303.75</td>\n",
       "    </tr>\n",
       "    <tr>\n",
       "      <th>2016</th>\n",
       "      <td>87462889.38</td>\n",
       "      <td>3650260.90</td>\n",
       "    </tr>\n",
       "    <tr>\n",
       "      <th>2017</th>\n",
       "      <td>136408860.30</td>\n",
       "      <td>10177833.50</td>\n",
       "    </tr>\n",
       "    <tr>\n",
       "      <th>2018</th>\n",
       "      <td>101633460.88</td>\n",
       "      <td>8821498.98</td>\n",
       "    </tr>\n",
       "    <tr>\n",
       "      <th>2019</th>\n",
       "      <td>92738314.84</td>\n",
       "      <td>4774520.50</td>\n",
       "    </tr>\n",
       "  </tbody>\n",
       "</table>\n",
       "</div>"
      ],
      "text/plain": [
       "             mean      median\n",
       "       box_office  box_office\n",
       "year                         \n",
       "2010     28265.95     2085.00\n",
       "2011    142289.69     3042.50\n",
       "2012     58244.24     6900.00\n",
       "2013    174084.98     3880.00\n",
       "2014  29372902.68    28150.00\n",
       "2015  74964135.18  4398303.75\n",
       "2016  87462889.38  3650260.90\n",
       "2017 136408860.30 10177833.50\n",
       "2018 101633460.88  8821498.98\n",
       "2019  92738314.84  4774520.50"
      ]
     },
     "metadata": {},
     "output_type": "display_data"
    },
    {
     "data": {
      "image/png": "[encoded data removed]",
      "text/plain": [
       "<Figure size 432x288 with 1 Axes>"
      ]
     },
     "metadata": {
      "needs_background": "light"
     },
     "output_type": "display_data"
    }
   ],
   "source": [
    "pivot_mean_median = (data\n",
    "            .query('box_office > 0')\n",
    "            .pivot_table(index='year',values='box_office',aggfunc=['mean','median']))\n",
    "display(pivot_mean_median)\n",
    "plt.plot(pivot_mean_median['mean'],color='orange',linestyle='-',marker='o',label='Средняя')\n",
    "plt.plot(pivot_mean_median['median'],color='black',linestyle='--',marker='o',label='Медиана')\n",
    "plt.title('Динамика сборов по годам')\n",
    "plt.xlabel('Год')\n",
    "plt.ylabel('Сборы')\n",
    "plt.grid()"
   ]
  },
  {
   "cell_type": "markdown",
   "metadata": {},
   "source": [
    "Видим, как средняя отличается от медианы. Это говорит о том, что часть фильмов в перид с `2013` по `2019` собрала гораздо больше сборов, чем остальная масса "
   ]
  },
  {
   "cell_type": "markdown",
   "metadata": {
    "id": "Ok89WFwJgFyZ"
   },
   "source": [
    "Определим, влияет ли возрастное ограничение аудитории («6+», «12+», «16+», «18+» и т. д.) на сборы фильма в прокате в период с 2015 по 2019 год? Меняется ли картина в зависимости от года? "
   ]
  },
  {
   "cell_type": "code",
   "execution_count": 35,
   "metadata": {
    "id": "jsSbEqfjgFya"
   },
   "outputs": [
    {
     "data": {
      "text/plain": [
       "<AxesSubplot:title={'center':'Динамика сборов для возрастных групп'}, xlabel='Годы', ylabel='Сборы'>"
      ]
     },
     "metadata": {},
     "output_type": "display_data"
    },
    {
     "data": {
      "text/plain": [
       "([<matplotlib.axis.XTick at 0x7f1ca23e3820>,\n",
       "  <matplotlib.axis.XTick at 0x7f1ca23e3c10>,\n",
       "  <matplotlib.axis.XTick at 0x7f1ca2385e50>,\n",
       "  <matplotlib.axis.XTick at 0x7f1ca2211130>,\n",
       "  <matplotlib.axis.XTick at 0x7f1ca22116a0>],\n",
       " [Text(0, 0, ''),\n",
       "  Text(0, 0, ''),\n",
       "  Text(0, 0, ''),\n",
       "  Text(0, 0, ''),\n",
       "  Text(0, 0, '')])"
      ]
     },
     "execution_count": 35,
     "metadata": {},
     "output_type": "execute_result"
    },
    {
     "data": {
      "image/png": "[encoded data removed]",
      "text/plain": [
       "<Figure size 1440x504 with 1 Axes>"
      ]
     },
     "metadata": {
      "needs_background": "light"
     },
     "output_type": "display_data"
    }
   ],
   "source": [
    "display(data\n",
    "       .query('box_office > 0 and year >=2015')\n",
    "       .pivot_table(index='year',columns='age_restriction',values='box_office',aggfunc='mean')\n",
    "       .plot(title='Динамика сборов для возрастных групп',xlabel='Годы',ylabel='Сборы',marker='o',figsize=(20,7),grid=True))\n",
    "plt.xticks(range(2015, 2020, 1))"
   ]
  },
  {
   "cell_type": "markdown",
   "metadata": {},
   "source": [
    "На графике видим как менялась динамика сборов по годам для возрастных групп. Больше всего сборов у групп: `6+` и `12+`, \n",
    "У групп `0+` и `18+` минимальные сборы, возможно это связано с тем, что группа `0+` - это мультики и взрослое насаление не смотрит их, а в категорию `18+` входят ужасы и фильмы с ненормативной лексикой.\n",
    "Так же видим всплеск динамики сборов на уровне `2017 года` у всех групп, такой же всплекс мы видели на прошлых графиках. Это говорит о большом кол-ве фильмов вышедших в прокат или о большом кол-ве сборов в этот период."
   ]
  },
  {
   "cell_type": "markdown",
   "metadata": {
    "id": "l_Kg6Ku4gFya"
   },
   "source": [
    "### Шаг 4. Исследование фильмов, которые получили государственную поддержку\n",
    "Посмотрим окупаемость фильмов"
   ]
  },
  {
   "cell_type": "code",
   "execution_count": 43,
   "metadata": {
    "id": "W9QKpjUdgFyb"
   },
   "outputs": [
    {
     "name": "stdout",
     "output_type": "stream",
     "text": [
      "Кол-во фильмов с государственной поддержкой: 329\n",
      "Средний рейтинг фильмов с государственной поддрежкой: 6.0\n",
      "Средний рейтинг фильмов без государственной поддрежкой: 6.5\n",
      "Доля фильмов с гос.поддержкой: 4.86%\n",
      "Средняя окупаемость фильмов с государственной поддрежкой: 530.15%\n",
      "Средняя окупаемость фильмов без государственной поддрежкой: 530.15%\n"
     ]
    }
   ],
   "source": [
    "data['payback'] = data['budget'] / data['box_office']#добавим столбец окупаемость в data\n",
    "gos_data = data.query('(refundable_support > 0) or (nonrefundable_support > 0)')\n",
    "gos_data = gos_data.reset_index()\n",
    "\n",
    "print('Кол-во фильмов с государственной поддержкой:',len(gos_data))\n",
    "raiting_gos_film = gos_data['ratings'].mean()\n",
    "raiting_film = data['ratings'].mean()\n",
    "print(f'Средний рейтинг фильмов с государственной поддрежкой: {raiting_gos_film:.2}')\n",
    "print(f'Средний рейтинг фильмов без государственной поддрежкой: {raiting_film:.2}')\n",
    "\n",
    "gos_data = gos_data.replace(np.inf, np.nan)\n",
    "data = data.replace(np.inf, np.nan)\n",
    "\n",
    "ratio_gos_to_film = len(gos_data)/len(data)\n",
    "print(f'Доля фильмов с гос.поддержкой: {ratio_gos_to_film:.2%}')\n",
    "\n",
    "payback_gos_film = gos_data['payback'].median()\n",
    "payback_film = data['payback'].median()\n",
    "print(f'Средняя окупаемость фильмов с государственной поддрежкой: {payback_gos_film:.2%}')\n",
    "print(f'Средняя окупаемость фильмов без государственной поддрежкой: {payback_film:.2%}')\n",
    "gos_data['Сумма поддержки'] = gos_data['refundable_support'] + gos_data['nonrefundable_support']"
   ]
  },
  {
   "cell_type": "markdown",
   "metadata": {},
   "source": [
    "Средняя окупаемость фильмов с государственной поддрежкой и без нее одинаковы, потому что если мы посмотрим, бюджет известен только для фильмов с государственной поддержкой, а для всех остальных нет."
   ]
  },
  {
   "cell_type": "markdown",
   "metadata": {},
   "source": [
    "Посмтроим графики для определения динамики выделенных средств государством в период с `2013` по `2019` год"
   ]
  },
  {
   "cell_type": "code",
   "execution_count": 83,
   "metadata": {},
   "outputs": [
    {
     "data": {
      "text/plain": [
       "<AxesSubplot:title={'center':'Динамика средств выделенных государством'}, xlabel='Годы', ylabel='Выделенные средства'>"
      ]
     },
     "execution_count": 83,
     "metadata": {},
     "output_type": "execute_result"
    },
    {
     "data": {
      "image/png": "[encoded data removed]",
      "text/plain": [
       "<Figure size 1440x504 with 1 Axes>"
      ]
     },
     "metadata": {
      "needs_background": "light"
     },
     "output_type": "display_data"
    },
    {
     "data": {
      "image/png": "[encoded data removed]",
      "text/plain": [
       "<Figure size 1440x504 with 1 Axes>"
      ]
     },
     "metadata": {
      "needs_background": "light"
     },
     "output_type": "display_data"
    }
   ],
   "source": [
    "# построим график для средних значений\n",
    "(\n",
    "gos_data\n",
    "    .pivot_table(index='year',values='Сумма поддержки',aggfunc='mean')\n",
    "    .plot(title='Динамика средств выделенных государством',\n",
    "          xlabel='Годы',\n",
    "          ylabel='Выделенные средства',\n",
    "          marker='o',\n",
    "          color='orange',\n",
    "          figsize=(20,7),\n",
    "          grid=True)\n",
    ")\n",
    "# построим график для медианных значений\n",
    "(\n",
    "gos_data\n",
    "    .pivot_table(index='year',values='Сумма поддержки',aggfunc='median')\n",
    "    .plot(title='Динамика средств выделенных государством',\n",
    "          xlabel='Годы',\n",
    "          ylabel='Выделенные средства',\n",
    "          marker='o',\n",
    "          color='orange',\n",
    "          figsize=(20,7),\n",
    "          grid=True)\n",
    ")"
   ]
  },
  {
   "cell_type": "markdown",
   "metadata": {},
   "source": [
    "На графике изображена динамика выделенных средств государством на поддержку кино, из года в год среднеяя сумма выделенных средств растетб за исключением резкого падения в `2014` году\n",
    "\n"
   ]
  },
  {
   "cell_type": "markdown",
   "metadata": {},
   "source": [
    "Исследуем `источники государственный поддержки`, постоив графики"
   ]
  },
  {
   "cell_type": "code",
   "execution_count": 45,
   "metadata": {},
   "outputs": [
    {
     "data": {
      "text/plain": [
       "<AxesSubplot:title={'center':'Динамика выделенных средств по годам'}, xlabel='Годы', ylabel='Средняя сумма выделенных средств'>"
      ]
     },
     "execution_count": 45,
     "metadata": {},
     "output_type": "execute_result"
    },
    {
     "data": {
      "image/png": "[encoded data removed]",
      "text/plain": [
       "<Figure size 432x288 with 1 Axes>"
      ]
     },
     "metadata": {
      "needs_background": "light"
     },
     "output_type": "display_data"
    },
    {
     "data": {
      "image/png": "[encoded data removed]",
      "text/plain": [
       "<Figure size 432x288 with 1 Axes>"
      ]
     },
     "metadata": {
      "needs_background": "light"
     },
     "output_type": "display_data"
    }
   ],
   "source": [
    "# построим barplot чтобы узнать, кто финансирует кино больше всех\n",
    "sns.barplot(x=\"financing_source\", \n",
    "            y=\"Сумма поддержки\",\n",
    "            palette='hls', \n",
    "            data=gos_data)\n",
    "# построим линейный график чтобы понять динамику изменения выделенных средств\n",
    "pivot_fond = (\n",
    "    gos_data\n",
    "    .pivot_table(index='year',columns='financing_source',values='Сумма поддержки',aggfunc='mean')\n",
    "    .plot(marker='o',grid=True,title='Динамика выделенных средств по годам',xlabel='Годы',ylabel='Средняя сумма выделенных средств')\n",
    ")\n",
    "pivot_fond"
   ]
  },
  {
   "cell_type": "markdown",
   "metadata": {},
   "source": [
    "На данном графике видно, что фонд кино выделяет больше средств, чем мин.культуры"
   ]
  },
  {
   "cell_type": "markdown",
   "metadata": {},
   "source": [
    "Зависит ли рейтинг фильма, от того кто выделяет средства на бюджетирование фильма?"
   ]
  },
  {
   "cell_type": "code",
   "execution_count": 46,
   "metadata": {},
   "outputs": [
    {
     "data": {
      "text/html": [
       "<div>\n",
       "<style scoped>\n",
       "    .dataframe tbody tr th:only-of-type {\n",
       "        vertical-align: middle;\n",
       "    }\n",
       "\n",
       "    .dataframe tbody tr th {\n",
       "        vertical-align: top;\n",
       "    }\n",
       "\n",
       "    .dataframe thead th {\n",
       "        text-align: right;\n",
       "    }\n",
       "</style>\n",
       "<table border=\"1\" class=\"dataframe\">\n",
       "  <thead>\n",
       "    <tr style=\"text-align: right;\">\n",
       "      <th></th>\n",
       "      <th>ratings</th>\n",
       "    </tr>\n",
       "    <tr>\n",
       "      <th>financing_source</th>\n",
       "      <th></th>\n",
       "    </tr>\n",
       "  </thead>\n",
       "  <tbody>\n",
       "    <tr>\n",
       "      <th>Министерство культуры</th>\n",
       "      <td>6.12</td>\n",
       "    </tr>\n",
       "    <tr>\n",
       "      <th>Министерство культуры, Фонд кино</th>\n",
       "      <td>6.44</td>\n",
       "    </tr>\n",
       "    <tr>\n",
       "      <th>Фонд кино</th>\n",
       "      <td>5.80</td>\n",
       "    </tr>\n",
       "  </tbody>\n",
       "</table>\n",
       "</div>"
      ],
      "text/plain": [
       "                                  ratings\n",
       "financing_source                         \n",
       "Министерство культуры                6.12\n",
       "Министерство культуры, Фонд кино     6.44\n",
       "Фонд кино                            5.80"
      ]
     },
     "metadata": {},
     "output_type": "display_data"
    },
    {
     "name": "stdout",
     "output_type": "stream",
     "text": [
      "Средний рейтинг фильмов финансируемых Министерством культуры: 6.12\n",
      "Средний рейтинг фильмов финансируемых Фондом кино и Министерством культуры: 6.44\n",
      "Средний рейтинг фильмов финансируемых Фондом кино: 5.80\n"
     ]
    }
   ],
   "source": [
    "display(gos_data.pivot_table(index='financing_source',values='ratings',aggfunc='mean'))\n",
    "print('Средний рейтинг фильмов финансируемых Министерством культуры: 6.12')\n",
    "print('Средний рейтинг фильмов финансируемых Фондом кино и Министерством культуры: 6.44')\n",
    "print('Средний рейтинг фильмов финансируемых Фондом кино: 5.80')"
   ]
  },
  {
   "cell_type": "markdown",
   "metadata": {},
   "source": [
    "Можно заметить, что те фильмы, на которые выделяются совместные средства Министерства культуры и Фонда кино набирают больший рейтинг"
   ]
  },
  {
   "cell_type": "code",
   "execution_count": 47,
   "metadata": {},
   "outputs": [
    {
     "data": {
      "text/html": [
       "<div>\n",
       "<style scoped>\n",
       "    .dataframe tbody tr th:only-of-type {\n",
       "        vertical-align: middle;\n",
       "    }\n",
       "\n",
       "    .dataframe tbody tr th {\n",
       "        vertical-align: top;\n",
       "    }\n",
       "\n",
       "    .dataframe thead tr th {\n",
       "        text-align: left;\n",
       "    }\n",
       "\n",
       "    .dataframe thead tr:last-of-type th {\n",
       "        text-align: right;\n",
       "    }\n",
       "</style>\n",
       "<table border=\"1\" class=\"dataframe\">\n",
       "  <thead>\n",
       "    <tr>\n",
       "      <th></th>\n",
       "      <th>mean</th>\n",
       "      <th>median</th>\n",
       "    </tr>\n",
       "    <tr>\n",
       "      <th></th>\n",
       "      <th>box_office</th>\n",
       "      <th>box_office</th>\n",
       "    </tr>\n",
       "    <tr>\n",
       "      <th>year</th>\n",
       "      <th></th>\n",
       "      <th></th>\n",
       "    </tr>\n",
       "  </thead>\n",
       "  <tbody>\n",
       "    <tr>\n",
       "      <th>2013</th>\n",
       "      <td>10161192.55</td>\n",
       "      <td>10161192.55</td>\n",
       "    </tr>\n",
       "    <tr>\n",
       "      <th>2014</th>\n",
       "      <td>63588885.41</td>\n",
       "      <td>5504517.85</td>\n",
       "    </tr>\n",
       "    <tr>\n",
       "      <th>2015</th>\n",
       "      <td>68062181.39</td>\n",
       "      <td>9200824.50</td>\n",
       "    </tr>\n",
       "    <tr>\n",
       "      <th>2016</th>\n",
       "      <td>101361797.32</td>\n",
       "      <td>17921115.61</td>\n",
       "    </tr>\n",
       "    <tr>\n",
       "      <th>2017</th>\n",
       "      <td>278591674.38</td>\n",
       "      <td>50451949.00</td>\n",
       "    </tr>\n",
       "    <tr>\n",
       "      <th>2018</th>\n",
       "      <td>177394089.47</td>\n",
       "      <td>27023390.31</td>\n",
       "    </tr>\n",
       "    <tr>\n",
       "      <th>2019</th>\n",
       "      <td>144899790.56</td>\n",
       "      <td>30287238.83</td>\n",
       "    </tr>\n",
       "  </tbody>\n",
       "</table>\n",
       "</div>"
      ],
      "text/plain": [
       "             mean      median\n",
       "       box_office  box_office\n",
       "year                         \n",
       "2013  10161192.55 10161192.55\n",
       "2014  63588885.41  5504517.85\n",
       "2015  68062181.39  9200824.50\n",
       "2016 101361797.32 17921115.61\n",
       "2017 278591674.38 50451949.00\n",
       "2018 177394089.47 27023390.31\n",
       "2019 144899790.56 30287238.83"
      ]
     },
     "metadata": {},
     "output_type": "display_data"
    },
    {
     "data": {
      "image/png": "[encoded data removed]",
      "text/plain": [
       "<Figure size 432x288 with 1 Axes>"
      ]
     },
     "metadata": {
      "needs_background": "light"
     },
     "output_type": "display_data"
    }
   ],
   "source": [
    "pivot_mean_median = (gos_data\n",
    "            .pivot_table(index='year',values='box_office',aggfunc=['mean','median']))\n",
    "display(pivot_mean_median)\n",
    "plt.plot(pivot_mean_median['mean'],color='orange',linestyle='-',marker='o',label='Средняя')\n",
    "plt.plot(pivot_mean_median['median'],color='black',linestyle='--',marker='o',label='Медиана')\n",
    "plt.title('Динамика сборов по годам')\n",
    "plt.xlabel('Год')\n",
    "plt.ylabel('Сборы')\n",
    "plt.grid()"
   ]
  },
  {
   "cell_type": "markdown",
   "metadata": {},
   "source": [
    "С помощью сводной таблице сделали график для средней и медианной суммы сборов для каждого года на основе таблицы фильмов с гос.поддержкой\n",
    "Видим, как средняя отличается от медианы. Это говорит о том, что часть фильмов в перид с `2014` по `2019` собрала гораздо больше сборов,чем остальная масса "
   ]
  },
  {
   "cell_type": "markdown",
   "metadata": {},
   "source": [
    "Посмотрим, как менялась динамика выходов фильмов в прокат с гос. поддержкой и без"
   ]
  },
  {
   "cell_type": "code",
   "execution_count": 48,
   "metadata": {},
   "outputs": [
    {
     "data": {
      "image/png": "[encoded data removed]",
      "text/plain": [
       "<Figure size 432x288 with 1 Axes>"
      ]
     },
     "metadata": {
      "needs_background": "light"
     },
     "output_type": "display_data"
    }
   ],
   "source": [
    "for_grafic_data = (\n",
    "    data\n",
    "    .query('box_office > 0')\n",
    "    .pivot_table(index='year',values='box_office',aggfunc='count')\n",
    ")   \n",
    "for_grafic_gos_data = (\n",
    "    gos_data\n",
    "    .query('box_office > 0')\n",
    "    .pivot_table(index='year',values='box_office',aggfunc='count')\n",
    ")    \n",
    "plt.plot(for_grafic_data['box_office'],color='red',linestyle='-',marker='o')\n",
    "plt.plot(for_grafic_gos_data['box_office'],color='blue',linestyle='--',marker='o')\n",
    "plt.title('Динамика выходов фильмов в прокат')\n",
    "plt.xlabel('Год')\n",
    "plt.ylabel('Количество вышедших фильмов в прокат')\n",
    "plt.grid()"
   ]
  },
  {
   "cell_type": "markdown",
   "metadata": {},
   "source": [
    "Кол-во фильмов с государственной поддержкой значительно меньше, а в период `с 2010 по 2014 фильмы не финансироварились или мы не владеем данными за этот период`"
   ]
  },
  {
   "cell_type": "markdown",
   "metadata": {},
   "source": [
    "<div class=\"alert alert-success\">\n",
    "<b> Комментарий ревьюера ✅ </b>\n",
    "\n",
    "> в период с 2010 по 2014 фильмы не финансировались\n",
    "    \n",
    "или мы не владеем данными за этот период.\n",
    "\n",
    "Получился интересный анализ фильмов с государственной поддержкой.\n",
    "    \n",
    "При желании можно дополнить исследование такими пунктами:\n",
    "    \n",
    "- изучить на какие жанры выделялось больше средств;\n",
    "    \n",
    "- посмотреть фильмы для какой возрастной категории охотнее спонсируются государством;\n",
    "    \n",
    "- посмотреть зависит ли рейтинг фильмов от бюджета;\n",
    "    \n",
    "- посмотреть каким режиссерам охотнее выделяют средства из государственного бюджета;\n",
    "    \n",
    "- и т.д.\n",
    "    \n",
    "</div>"
   ]
  },
  {
   "cell_type": "markdown",
   "metadata": {},
   "source": [
    "На какие жанры больше всего выделялось бюджетных средств?"
   ]
  },
  {
   "cell_type": "code",
   "execution_count": 49,
   "metadata": {},
   "outputs": [
    {
     "data": {
      "text/plain": [
       "Text(0, 0.5, 'Размер выделенного бюджета на жанр')"
      ]
     },
     "execution_count": 49,
     "metadata": {},
     "output_type": "execute_result"
    },
    {
     "data": {
      "image/png": "[encoded data removed]",
      "text/plain": [
       "<Figure size 432x288 with 1 Axes>"
      ]
     },
     "metadata": {
      "needs_background": "light"
     },
     "output_type": "display_data"
    }
   ],
   "source": [
    "sns.barplot(x=\"Сумма поддержки\", \n",
    "            y=\"general_genre\",\n",
    "            palette='hls', \n",
    "            data=gos_data)\n",
    "plt.rcParams['figure.figsize']=30,10\n",
    "plt.title('График распределения бюджета по жанрам')\n",
    "plt.xlabel('Жанры')\n",
    "plt.ylabel('Размер выделенного бюджета на жанр')"
   ]
  },
  {
   "cell_type": "markdown",
   "metadata": {},
   "source": [
    "На данном графике видно, что больше всего средств выделяется на жанр `история`\n"
   ]
  },
  {
   "cell_type": "markdown",
   "metadata": {},
   "source": [
    "Исследуем возрастную категорию, на которую больше всего выделялось бюджетных средств"
   ]
  },
  {
   "cell_type": "code",
   "execution_count": 50,
   "metadata": {},
   "outputs": [
    {
     "data": {
      "text/plain": [
       "Text(0, 0.5, 'Размер выделенного бюджета')"
      ]
     },
     "execution_count": 50,
     "metadata": {},
     "output_type": "execute_result"
    },
    {
     "data": {
      "image/png": "[encoded data removed]",
      "text/plain": [
       "<Figure size 2160x720 with 1 Axes>"
      ]
     },
     "metadata": {
      "needs_background": "light"
     },
     "output_type": "display_data"
    }
   ],
   "source": [
    "sns.barplot(x=\"age_restriction\", \n",
    "            y=\"Сумма поддержки\",\n",
    "            palette='hls', \n",
    "            data=gos_data)\n",
    "plt.rcParams['figure.figsize']=5,5\n",
    "plt.title('График распределения бюджета по возрастным ограничениям')\n",
    "plt.xlabel('Возраст')plt.ylabel('Размер выделенного бюджета')"
   ]
  },
  {
   "cell_type": "markdown",
   "metadata": {},
   "source": [
    "Больше всего средств государственных средств выделяется на возрастную категорию `6+`\n"
   ]
  },
  {
   "cell_type": "markdown",
   "metadata": {},
   "source": [
    "Зависит ли рейтинг от суммы выделенных средств государтсвенной поддержки?"
   ]
  },
  {
   "cell_type": "code",
   "execution_count": 51,
   "metadata": {},
   "outputs": [
    {
     "data": {
      "text/plain": [
       "<AxesSubplot:title={'center':'Рейтинг по бюджету'}, xlabel='Рейтиг', ylabel='Выделенные средства'>"
      ]
     },
     "execution_count": 51,
     "metadata": {},
     "output_type": "execute_result"
    },
    {
     "data": {
      "image/png": "[encoded data removed]",
      "text/plain": [
       "<Figure size 360x360 with 1 Axes>"
      ]
     },
     "metadata": {
      "needs_background": "light"
     },
     "output_type": "display_data"
    }
   ],
   "source": [
    "gos_data.plot(\n",
    "    title='Рейтинг по бюджету',\n",
    "    x = 'ratings',\n",
    "    y = 'Сумма поддержки',\n",
    "    xlabel='Рейтиг',\n",
    "    ylabel='Выделенные средства',\n",
    "    grid = True,\n",
    "    kind = 'scatter')"
   ]
  },
  {
   "cell_type": "markdown",
   "metadata": {},
   "source": [
    "В целом, если смотреть на диапозон рейтинга с 4 до 10, можно сказать что с увеличением бюджета рейтинг фильма растетю Можно заметить, что большинство фильмов имеющих примерно одинаковую сумму государственной поддержки имеет разные рейтинги. Но фильмы на которые выделялось больше всего средств имеют рейтинги от 6 до 7.8."
   ]
  },
  {
   "cell_type": "markdown",
   "metadata": {
    "id": "V2gYwMcPgFyd"
   },
   "source": [
    "### Шаг 5. Напишите общий вывод"
   ]
  },
  {
   "cell_type": "markdown",
   "metadata": {
    "id": "AYRg3dzXgFye"
   },
   "source": [
    "Доля фильмов финансируемых государством составляет 4.86%, средний рейтинг фильмов с гос. поддержкой меньше, чем у остальных фильмов и составлет 5.8 по данным Кинопоиска. Динамика сборов у фильмов с гос.поддержкой практически индентична динамики сборов фильмов без гос.поддержки и говорит о растущем тренде интереса к кинопрокату в целом.\n"
   ]
  }
 ],
 "metadata": {
  "ExecuteTimeLog": [
   {
    "duration": 537,
    "start_time": "2021-07-07T10:12:08.634Z"
   },
   {
    "duration": 206,
    "start_time": "2021-07-07T10:12:30.191Z"
   },
   {
    "duration": 227,
    "start_time": "2021-07-07T10:12:33.078Z"
   },
   {
    "duration": 153,
    "start_time": "2021-07-07T10:13:42.146Z"
   },
   {
    "duration": 233,
    "start_time": "2021-07-07T10:30:09.252Z"
   },
   {
    "duration": 19,
    "start_time": "2021-07-07T10:30:15.577Z"
   },
   {
    "duration": 18,
    "start_time": "2021-07-07T10:30:57.348Z"
   },
   {
    "duration": 19,
    "start_time": "2021-07-07T10:31:17.452Z"
   },
   {
    "duration": 21,
    "start_time": "2021-07-07T10:31:32.227Z"
   },
   {
    "duration": 27,
    "start_time": "2021-07-07T10:32:06.588Z"
   },
   {
    "duration": 23,
    "start_time": "2021-07-07T10:32:43.645Z"
   },
   {
    "duration": 24,
    "start_time": "2021-07-07T10:33:06.948Z"
   },
   {
    "duration": 7,
    "start_time": "2021-07-07T10:33:28.558Z"
   },
   {
    "duration": 23,
    "start_time": "2021-07-07T10:33:43.761Z"
   },
   {
    "duration": 28,
    "start_time": "2021-07-07T10:34:13.466Z"
   },
   {
    "duration": 23,
    "start_time": "2021-07-07T10:35:56.187Z"
   },
   {
    "duration": 6,
    "start_time": "2021-07-07T10:36:48.182Z"
   },
   {
    "duration": 14,
    "start_time": "2021-07-07T10:37:49.641Z"
   },
   {
    "duration": 6,
    "start_time": "2021-07-07T10:38:06.694Z"
   },
   {
    "duration": 6,
    "start_time": "2021-07-07T10:38:13.493Z"
   },
   {
    "duration": 19,
    "start_time": "2021-07-07T10:38:44.056Z"
   },
   {
    "duration": 186,
    "start_time": "2021-07-07T10:48:35.618Z"
   },
   {
    "duration": 24,
    "start_time": "2021-07-07T10:48:51.498Z"
   },
   {
    "duration": 20,
    "start_time": "2021-07-07T10:48:59.415Z"
   },
   {
    "duration": 20,
    "start_time": "2021-07-07T10:53:02.195Z"
   },
   {
    "duration": 188,
    "start_time": "2021-07-07T10:54:40.486Z"
   },
   {
    "duration": 115,
    "start_time": "2021-07-07T10:54:52.552Z"
   },
   {
    "duration": 214,
    "start_time": "2021-07-07T10:54:56.354Z"
   },
   {
    "duration": 47,
    "start_time": "2021-07-07T10:54:58.282Z"
   },
   {
    "duration": 217,
    "start_time": "2021-07-07T10:59:16.075Z"
   },
   {
    "duration": 51,
    "start_time": "2021-07-07T10:59:16.243Z"
   },
   {
    "duration": 578,
    "start_time": "2021-07-07T10:59:18.774Z"
   },
   {
    "duration": 161,
    "start_time": "2021-07-07T10:59:21.238Z"
   },
   {
    "duration": 59,
    "start_time": "2021-07-07T10:59:21.453Z"
   },
   {
    "duration": 3,
    "start_time": "2021-07-07T11:02:10.786Z"
   },
   {
    "duration": 13,
    "start_time": "2021-07-07T11:07:07.722Z"
   },
   {
    "duration": 26,
    "start_time": "2021-07-07T11:07:17.958Z"
   },
   {
    "duration": 22,
    "start_time": "2021-07-07T11:08:17.939Z"
   },
   {
    "duration": 212,
    "start_time": "2021-07-07T11:08:19.665Z"
   },
   {
    "duration": 21,
    "start_time": "2021-07-07T11:08:29.945Z"
   },
   {
    "duration": 31,
    "start_time": "2021-07-07T11:08:38.899Z"
   },
   {
    "duration": 23,
    "start_time": "2021-07-07T11:08:54.527Z"
   },
   {
    "duration": 8,
    "start_time": "2021-07-07T11:18:55.974Z"
   },
   {
    "duration": 7,
    "start_time": "2021-07-07T11:19:03.639Z"
   },
   {
    "duration": 7,
    "start_time": "2021-07-07T11:19:06.444Z"
   },
   {
    "duration": 578,
    "start_time": "2021-07-07T12:09:59.576Z"
   },
   {
    "duration": 195,
    "start_time": "2021-07-07T12:10:00.156Z"
   },
   {
    "duration": 115,
    "start_time": "2021-07-07T12:10:00.353Z"
   },
   {
    "duration": 3,
    "start_time": "2021-07-07T12:10:00.470Z"
   },
   {
    "duration": 32,
    "start_time": "2021-07-07T12:10:00.474Z"
   },
   {
    "duration": 23,
    "start_time": "2021-07-07T12:10:00.508Z"
   },
   {
    "duration": 19,
    "start_time": "2021-07-07T12:10:00.533Z"
   },
   {
    "duration": 44,
    "start_time": "2021-07-07T12:10:00.553Z"
   },
   {
    "duration": 7,
    "start_time": "2021-07-07T12:10:00.600Z"
   },
   {
    "duration": 7,
    "start_time": "2021-07-07T12:19:45.761Z"
   },
   {
    "duration": 21,
    "start_time": "2021-07-07T12:21:35.482Z"
   },
   {
    "duration": 21,
    "start_time": "2021-07-07T12:29:23.569Z"
   },
   {
    "duration": 525,
    "start_time": "2021-07-07T12:29:44.542Z"
   },
   {
    "duration": 214,
    "start_time": "2021-07-07T12:29:45.069Z"
   },
   {
    "duration": 92,
    "start_time": "2021-07-07T12:29:45.285Z"
   },
   {
    "duration": 3,
    "start_time": "2021-07-07T12:29:45.379Z"
   },
   {
    "duration": 28,
    "start_time": "2021-07-07T12:29:45.384Z"
   },
   {
    "duration": 23,
    "start_time": "2021-07-07T12:29:45.413Z"
   },
   {
    "duration": 21,
    "start_time": "2021-07-07T12:29:45.437Z"
   },
   {
    "duration": 41,
    "start_time": "2021-07-07T12:29:45.460Z"
   },
   {
    "duration": 7,
    "start_time": "2021-07-07T12:29:45.502Z"
   },
   {
    "duration": 20,
    "start_time": "2021-07-07T12:29:45.511Z"
   },
   {
    "duration": 12,
    "start_time": "2021-07-07T12:34:02.800Z"
   },
   {
    "duration": 7,
    "start_time": "2021-07-07T12:35:10.479Z"
   },
   {
    "duration": 8,
    "start_time": "2021-07-07T12:35:22.440Z"
   },
   {
    "duration": 6,
    "start_time": "2021-07-07T12:35:35.649Z"
   },
   {
    "duration": 6,
    "start_time": "2021-07-07T12:35:43.107Z"
   },
   {
    "duration": 22,
    "start_time": "2021-07-07T12:38:03.029Z"
   },
   {
    "duration": 10,
    "start_time": "2021-07-07T12:38:06.592Z"
   },
   {
    "duration": 563,
    "start_time": "2021-07-07T12:38:46.493Z"
   },
   {
    "duration": 265,
    "start_time": "2021-07-07T12:38:47.058Z"
   },
   {
    "duration": 94,
    "start_time": "2021-07-07T12:38:47.325Z"
   },
   {
    "duration": 3,
    "start_time": "2021-07-07T12:38:47.422Z"
   },
   {
    "duration": 30,
    "start_time": "2021-07-07T12:38:47.427Z"
   },
   {
    "duration": 16,
    "start_time": "2021-07-07T12:38:53.305Z"
   },
   {
    "duration": 10,
    "start_time": "2021-07-07T12:38:53.499Z"
   },
   {
    "duration": 8,
    "start_time": "2021-07-07T12:39:48.161Z"
   },
   {
    "duration": 27,
    "start_time": "2021-07-07T12:41:17.629Z"
   },
   {
    "duration": 17,
    "start_time": "2021-07-07T12:41:17.867Z"
   },
   {
    "duration": 21,
    "start_time": "2021-07-07T12:41:19.310Z"
   },
   {
    "duration": 7,
    "start_time": "2021-07-07T12:41:19.544Z"
   },
   {
    "duration": 20,
    "start_time": "2021-07-07T12:41:20.504Z"
   },
   {
    "duration": 554,
    "start_time": "2021-07-07T12:56:23.696Z"
   },
   {
    "duration": 200,
    "start_time": "2021-07-07T12:56:25.234Z"
   },
   {
    "duration": 119,
    "start_time": "2021-07-07T12:56:25.480Z"
   },
   {
    "duration": 4,
    "start_time": "2021-07-07T12:56:25.762Z"
   },
   {
    "duration": 26,
    "start_time": "2021-07-07T12:56:27.172Z"
   },
   {
    "duration": 12,
    "start_time": "2021-07-07T12:56:29.051Z"
   },
   {
    "duration": 10,
    "start_time": "2021-07-07T12:56:29.291Z"
   },
   {
    "duration": 8,
    "start_time": "2021-07-07T12:56:29.623Z"
   },
   {
    "duration": 28,
    "start_time": "2021-07-07T12:56:32.137Z"
   },
   {
    "duration": 19,
    "start_time": "2021-07-07T12:56:39.785Z"
   },
   {
    "duration": 20,
    "start_time": "2021-07-07T12:56:44.297Z"
   },
   {
    "duration": 7,
    "start_time": "2021-07-07T12:56:45.392Z"
   },
   {
    "duration": 23,
    "start_time": "2021-07-07T12:56:46.615Z"
   },
   {
    "duration": 4,
    "start_time": "2021-07-07T12:57:06.625Z"
   },
   {
    "duration": 32,
    "start_time": "2021-07-07T12:57:36.690Z"
   },
   {
    "duration": 18,
    "start_time": "2021-07-07T12:58:00.149Z"
   },
   {
    "duration": 15,
    "start_time": "2021-07-07T12:59:16.793Z"
   },
   {
    "duration": 7,
    "start_time": "2021-07-07T13:19:22.624Z"
   },
   {
    "duration": 6,
    "start_time": "2021-07-07T14:17:33.527Z"
   },
   {
    "duration": 9,
    "start_time": "2021-07-07T14:17:48.409Z"
   },
   {
    "duration": 8,
    "start_time": "2021-07-07T14:20:13.060Z"
   },
   {
    "duration": 8,
    "start_time": "2021-07-07T14:20:37.957Z"
   },
   {
    "duration": 8,
    "start_time": "2021-07-07T14:20:47.470Z"
   },
   {
    "duration": 9,
    "start_time": "2021-07-07T14:20:54.503Z"
   },
   {
    "duration": 10,
    "start_time": "2021-07-07T14:28:57.763Z"
   },
   {
    "duration": 3,
    "start_time": "2021-07-07T14:30:23.377Z"
   },
   {
    "duration": 3,
    "start_time": "2021-07-07T14:30:36.489Z"
   },
   {
    "duration": 103,
    "start_time": "2021-07-07T14:30:52.351Z"
   },
   {
    "duration": 8,
    "start_time": "2021-07-07T14:30:54.763Z"
   },
   {
    "duration": 8,
    "start_time": "2021-07-07T14:31:29.301Z"
   },
   {
    "duration": 13,
    "start_time": "2021-07-07T14:31:44.516Z"
   },
   {
    "duration": 7,
    "start_time": "2021-07-07T14:33:10.972Z"
   },
   {
    "duration": 11,
    "start_time": "2021-07-07T14:33:27.780Z"
   },
   {
    "duration": 8,
    "start_time": "2021-07-07T14:34:44.588Z"
   },
   {
    "duration": 57,
    "start_time": "2021-07-07T14:35:59.042Z"
   },
   {
    "duration": 3,
    "start_time": "2021-07-07T14:36:28.168Z"
   },
   {
    "duration": 5,
    "start_time": "2021-07-07T14:36:46.254Z"
   },
   {
    "duration": 4,
    "start_time": "2021-07-07T14:36:52.714Z"
   },
   {
    "duration": 3,
    "start_time": "2021-07-07T14:36:56.612Z"
   },
   {
    "duration": 4,
    "start_time": "2021-07-07T14:36:57.049Z"
   },
   {
    "duration": 3,
    "start_time": "2021-07-07T14:39:21.214Z"
   },
   {
    "duration": 7,
    "start_time": "2021-07-07T14:39:52.406Z"
   },
   {
    "duration": 11,
    "start_time": "2021-07-07T14:39:58.576Z"
   },
   {
    "duration": 9,
    "start_time": "2021-07-07T14:40:26.301Z"
   },
   {
    "duration": 10,
    "start_time": "2021-07-07T14:40:31.704Z"
   },
   {
    "duration": 11,
    "start_time": "2021-07-07T14:40:36.249Z"
   },
   {
    "duration": 10,
    "start_time": "2021-07-07T14:40:39.783Z"
   },
   {
    "duration": 9,
    "start_time": "2021-07-07T14:40:48.558Z"
   },
   {
    "duration": 10,
    "start_time": "2021-07-07T14:40:57.143Z"
   },
   {
    "duration": 9,
    "start_time": "2021-07-07T14:41:06.074Z"
   },
   {
    "duration": 4324,
    "start_time": "2021-07-07T14:41:22.004Z"
   },
   {
    "duration": 11,
    "start_time": "2021-07-07T14:41:33.392Z"
   },
   {
    "duration": 9,
    "start_time": "2021-07-07T14:41:39.288Z"
   },
   {
    "duration": 569,
    "start_time": "2021-07-07T14:42:14.387Z"
   },
   {
    "duration": 197,
    "start_time": "2021-07-07T14:42:14.959Z"
   },
   {
    "duration": 84,
    "start_time": "2021-07-07T14:42:16.052Z"
   },
   {
    "duration": 4,
    "start_time": "2021-07-07T14:42:16.900Z"
   },
   {
    "duration": 27,
    "start_time": "2021-07-07T14:42:19.898Z"
   },
   {
    "duration": 12,
    "start_time": "2021-07-07T14:42:21.577Z"
   },
   {
    "duration": 9,
    "start_time": "2021-07-07T14:42:21.813Z"
   },
   {
    "duration": 9,
    "start_time": "2021-07-07T14:42:22.569Z"
   },
   {
    "duration": 29,
    "start_time": "2021-07-07T14:42:25.837Z"
   },
   {
    "duration": 20,
    "start_time": "2021-07-07T14:42:27.003Z"
   },
   {
    "duration": 21,
    "start_time": "2021-07-07T14:42:28.767Z"
   },
   {
    "duration": 7,
    "start_time": "2021-07-07T14:42:29.838Z"
   },
   {
    "duration": 4,
    "start_time": "2021-07-07T14:43:25.493Z"
   },
   {
    "duration": 7,
    "start_time": "2021-07-07T14:43:26.573Z"
   },
   {
    "duration": 10,
    "start_time": "2021-07-07T14:43:31.639Z"
   },
   {
    "duration": 9,
    "start_time": "2021-07-07T14:43:32.046Z"
   },
   {
    "duration": 10,
    "start_time": "2021-07-07T14:43:33.301Z"
   },
   {
    "duration": 12,
    "start_time": "2021-07-07T14:43:33.658Z"
   },
   {
    "duration": 8,
    "start_time": "2021-07-07T14:43:34.552Z"
   },
   {
    "duration": 9,
    "start_time": "2021-07-07T14:43:35.058Z"
   },
   {
    "duration": 12,
    "start_time": "2021-07-07T14:43:35.914Z"
   },
   {
    "duration": 17,
    "start_time": "2021-07-07T14:45:34.368Z"
   },
   {
    "duration": 512,
    "start_time": "2021-07-07T14:51:58.236Z"
   },
   {
    "duration": 223,
    "start_time": "2021-07-07T14:51:58.750Z"
   },
   {
    "duration": 93,
    "start_time": "2021-07-07T14:51:58.977Z"
   },
   {
    "duration": 4,
    "start_time": "2021-07-07T14:51:59.071Z"
   },
   {
    "duration": 37,
    "start_time": "2021-07-07T14:51:59.077Z"
   },
   {
    "duration": 18,
    "start_time": "2021-07-07T14:51:59.116Z"
   },
   {
    "duration": 10,
    "start_time": "2021-07-07T14:51:59.137Z"
   },
   {
    "duration": 8,
    "start_time": "2021-07-07T14:51:59.149Z"
   },
   {
    "duration": 54,
    "start_time": "2021-07-07T14:51:59.158Z"
   },
   {
    "duration": 18,
    "start_time": "2021-07-07T14:51:59.213Z"
   },
   {
    "duration": 22,
    "start_time": "2021-07-07T14:51:59.232Z"
   },
   {
    "duration": 36,
    "start_time": "2021-07-07T14:51:59.255Z"
   },
   {
    "duration": 7,
    "start_time": "2021-07-07T14:51:59.293Z"
   },
   {
    "duration": 10,
    "start_time": "2021-07-07T14:51:59.302Z"
   },
   {
    "duration": 9,
    "start_time": "2021-07-07T14:51:59.313Z"
   },
   {
    "duration": 11,
    "start_time": "2021-07-07T14:51:59.324Z"
   },
   {
    "duration": 8,
    "start_time": "2021-07-07T14:51:59.337Z"
   },
   {
    "duration": 46,
    "start_time": "2021-07-07T14:51:59.347Z"
   },
   {
    "duration": 22,
    "start_time": "2021-07-07T14:51:59.395Z"
   },
   {
    "duration": 24,
    "start_time": "2021-07-07T14:57:32.911Z"
   },
   {
    "duration": 7,
    "start_time": "2021-07-07T14:58:22.070Z"
   },
   {
    "duration": 4,
    "start_time": "2021-07-07T14:59:11.239Z"
   },
   {
    "duration": 25,
    "start_time": "2021-07-07T15:07:22.208Z"
   },
   {
    "duration": 16,
    "start_time": "2021-07-07T15:08:25.560Z"
   },
   {
    "duration": 15,
    "start_time": "2021-07-07T15:08:40.647Z"
   },
   {
    "duration": 14,
    "start_time": "2021-07-07T15:08:46.669Z"
   },
   {
    "duration": 533,
    "start_time": "2021-07-07T15:18:07.440Z"
   },
   {
    "duration": 173,
    "start_time": "2021-07-07T15:18:07.974Z"
   },
   {
    "duration": 84,
    "start_time": "2021-07-07T15:18:08.149Z"
   },
   {
    "duration": 3,
    "start_time": "2021-07-07T15:18:08.235Z"
   },
   {
    "duration": 30,
    "start_time": "2021-07-07T15:18:08.240Z"
   },
   {
    "duration": 22,
    "start_time": "2021-07-07T15:18:08.272Z"
   },
   {
    "duration": 11,
    "start_time": "2021-07-07T15:18:08.295Z"
   },
   {
    "duration": 11,
    "start_time": "2021-07-07T15:18:08.309Z"
   },
   {
    "duration": 40,
    "start_time": "2021-07-07T15:18:08.322Z"
   },
   {
    "duration": 42,
    "start_time": "2021-07-07T15:18:08.364Z"
   },
   {
    "duration": 22,
    "start_time": "2021-07-07T15:18:08.408Z"
   },
   {
    "duration": 5,
    "start_time": "2021-07-07T15:18:08.432Z"
   },
   {
    "duration": 13,
    "start_time": "2021-07-07T15:18:08.439Z"
   },
   {
    "duration": 9,
    "start_time": "2021-07-07T15:18:08.454Z"
   },
   {
    "duration": 32,
    "start_time": "2021-07-07T15:18:08.465Z"
   },
   {
    "duration": 10,
    "start_time": "2021-07-07T15:18:08.501Z"
   },
   {
    "duration": 7,
    "start_time": "2021-07-07T15:18:08.513Z"
   },
   {
    "duration": 11,
    "start_time": "2021-07-07T15:18:08.521Z"
   },
   {
    "duration": 17,
    "start_time": "2021-07-07T15:18:08.534Z"
   },
   {
    "duration": 44,
    "start_time": "2021-07-07T15:18:08.553Z"
   },
   {
    "duration": 22,
    "start_time": "2021-07-07T15:18:08.599Z"
   },
   {
    "duration": 61,
    "start_time": "2021-07-07T15:18:08.622Z"
   },
   {
    "duration": 7,
    "start_time": "2021-07-07T15:18:39.457Z"
   },
   {
    "duration": 5,
    "start_time": "2021-07-07T16:05:17.020Z"
   },
   {
    "duration": 5,
    "start_time": "2021-07-07T16:51:28.794Z"
   },
   {
    "duration": 546,
    "start_time": "2021-07-07T16:52:26.306Z"
   },
   {
    "duration": 203,
    "start_time": "2021-07-07T16:52:27.523Z"
   },
   {
    "duration": 85,
    "start_time": "2021-07-07T16:52:27.736Z"
   },
   {
    "duration": 4,
    "start_time": "2021-07-07T16:52:27.899Z"
   },
   {
    "duration": 25,
    "start_time": "2021-07-07T16:52:28.674Z"
   },
   {
    "duration": 8,
    "start_time": "2021-07-07T16:52:32.956Z"
   },
   {
    "duration": 18,
    "start_time": "2021-07-07T16:52:35.616Z"
   },
   {
    "duration": 6,
    "start_time": "2021-07-07T16:52:36.913Z"
   },
   {
    "duration": 11,
    "start_time": "2021-07-07T16:52:40.258Z"
   },
   {
    "duration": 10,
    "start_time": "2021-07-07T16:52:46.251Z"
   },
   {
    "duration": 8,
    "start_time": "2021-07-07T16:52:47.182Z"
   },
   {
    "duration": 27,
    "start_time": "2021-07-07T16:53:20.391Z"
   },
   {
    "duration": 20,
    "start_time": "2021-07-07T16:53:22.022Z"
   },
   {
    "duration": 23,
    "start_time": "2021-07-07T16:53:23.690Z"
   },
   {
    "duration": 8,
    "start_time": "2021-07-07T16:53:24.261Z"
   },
   {
    "duration": 4,
    "start_time": "2021-07-07T16:53:38.733Z"
   },
   {
    "duration": 7,
    "start_time": "2021-07-07T16:53:40.445Z"
   },
   {
    "duration": 11,
    "start_time": "2021-07-07T16:53:41.348Z"
   },
   {
    "duration": 13,
    "start_time": "2021-07-07T16:53:45.250Z"
   },
   {
    "duration": 12,
    "start_time": "2021-07-07T16:53:45.467Z"
   },
   {
    "duration": 4,
    "start_time": "2021-07-07T16:55:32.704Z"
   },
   {
    "duration": 12,
    "start_time": "2021-07-07T16:55:49.012Z"
   },
   {
    "duration": 18,
    "start_time": "2021-07-07T16:55:49.547Z"
   },
   {
    "duration": 611,
    "start_time": "2021-07-07T16:58:35.156Z"
   },
   {
    "duration": 200,
    "start_time": "2021-07-07T16:58:35.770Z"
   },
   {
    "duration": 86,
    "start_time": "2021-07-07T16:58:35.972Z"
   },
   {
    "duration": 3,
    "start_time": "2021-07-07T16:58:36.060Z"
   },
   {
    "duration": 27,
    "start_time": "2021-07-07T16:58:36.065Z"
   },
   {
    "duration": 8,
    "start_time": "2021-07-07T16:58:36.094Z"
   },
   {
    "duration": 17,
    "start_time": "2021-07-07T16:58:36.103Z"
   },
   {
    "duration": 5,
    "start_time": "2021-07-07T16:58:36.123Z"
   },
   {
    "duration": 11,
    "start_time": "2021-07-07T16:58:36.130Z"
   },
   {
    "duration": 7,
    "start_time": "2021-07-07T16:58:36.143Z"
   },
   {
    "duration": 37,
    "start_time": "2021-07-07T16:58:36.152Z"
   },
   {
    "duration": 27,
    "start_time": "2021-07-07T16:58:36.191Z"
   },
   {
    "duration": 19,
    "start_time": "2021-07-07T16:58:36.219Z"
   },
   {
    "duration": 49,
    "start_time": "2021-07-07T16:58:36.240Z"
   },
   {
    "duration": 6,
    "start_time": "2021-07-07T16:58:36.291Z"
   },
   {
    "duration": 3,
    "start_time": "2021-07-07T16:58:36.299Z"
   },
   {
    "duration": 13,
    "start_time": "2021-07-07T16:58:36.304Z"
   },
   {
    "duration": 10,
    "start_time": "2021-07-07T16:58:36.319Z"
   },
   {
    "duration": 10,
    "start_time": "2021-07-07T16:58:36.331Z"
   },
   {
    "duration": 44,
    "start_time": "2021-07-07T16:58:36.343Z"
   },
   {
    "duration": 4,
    "start_time": "2021-07-07T16:58:36.388Z"
   },
   {
    "duration": 13,
    "start_time": "2021-07-07T16:58:36.394Z"
   },
   {
    "duration": 16,
    "start_time": "2021-07-07T16:58:36.410Z"
   },
   {
    "duration": 8,
    "start_time": "2021-07-07T17:02:31.629Z"
   },
   {
    "duration": 8,
    "start_time": "2021-07-07T17:02:34.308Z"
   },
   {
    "duration": 6,
    "start_time": "2021-07-07T17:05:13.483Z"
   },
   {
    "duration": 17,
    "start_time": "2021-07-07T17:05:20.606Z"
   },
   {
    "duration": 7,
    "start_time": "2021-07-07T17:05:34.638Z"
   },
   {
    "duration": 3,
    "start_time": "2021-07-07T17:06:31.883Z"
   },
   {
    "duration": 570,
    "start_time": "2021-07-07T17:06:37.165Z"
   },
   {
    "duration": 174,
    "start_time": "2021-07-07T17:06:37.737Z"
   },
   {
    "duration": 47,
    "start_time": "2021-07-07T17:06:37.913Z"
   },
   {
    "duration": 3,
    "start_time": "2021-07-07T17:06:37.962Z"
   },
   {
    "duration": 27,
    "start_time": "2021-07-07T17:06:37.967Z"
   },
   {
    "duration": 7,
    "start_time": "2021-07-07T17:06:37.996Z"
   },
   {
    "duration": 16,
    "start_time": "2021-07-07T17:06:38.005Z"
   },
   {
    "duration": 6,
    "start_time": "2021-07-07T17:06:38.024Z"
   },
   {
    "duration": 12,
    "start_time": "2021-07-07T17:06:38.031Z"
   },
   {
    "duration": 41,
    "start_time": "2021-07-07T17:06:38.045Z"
   },
   {
    "duration": 8,
    "start_time": "2021-07-07T17:06:38.088Z"
   },
   {
    "duration": 26,
    "start_time": "2021-07-07T17:06:38.098Z"
   },
   {
    "duration": 17,
    "start_time": "2021-07-07T17:06:38.126Z"
   },
   {
    "duration": 43,
    "start_time": "2021-07-07T17:06:38.144Z"
   },
   {
    "duration": 6,
    "start_time": "2021-07-07T17:06:38.188Z"
   },
   {
    "duration": 5,
    "start_time": "2021-07-07T17:06:38.195Z"
   },
   {
    "duration": 9,
    "start_time": "2021-07-07T17:06:38.201Z"
   },
   {
    "duration": 12,
    "start_time": "2021-07-07T17:06:38.212Z"
   },
   {
    "duration": 11,
    "start_time": "2021-07-07T17:06:38.226Z"
   },
   {
    "duration": 47,
    "start_time": "2021-07-07T17:06:38.239Z"
   },
   {
    "duration": 4,
    "start_time": "2021-07-07T17:06:38.288Z"
   },
   {
    "duration": 13,
    "start_time": "2021-07-07T17:06:38.293Z"
   },
   {
    "duration": 5,
    "start_time": "2021-07-07T17:06:38.309Z"
   },
   {
    "duration": 18,
    "start_time": "2021-07-07T17:06:38.325Z"
   },
   {
    "duration": 20,
    "start_time": "2021-07-07T17:07:02.805Z"
   },
   {
    "duration": 19,
    "start_time": "2021-07-07T17:07:08.527Z"
   },
   {
    "duration": 19,
    "start_time": "2021-07-07T17:07:12.758Z"
   },
   {
    "duration": 22,
    "start_time": "2021-07-07T17:07:17.497Z"
   },
   {
    "duration": 19,
    "start_time": "2021-07-07T17:07:19.645Z"
   },
   {
    "duration": 10,
    "start_time": "2021-07-07T17:07:34.239Z"
   },
   {
    "duration": 17,
    "start_time": "2021-07-07T17:07:54.144Z"
   },
   {
    "duration": 14,
    "start_time": "2021-07-07T17:08:14.357Z"
   },
   {
    "duration": 616,
    "start_time": "2021-07-07T17:08:45.254Z"
   },
   {
    "duration": 178,
    "start_time": "2021-07-07T17:08:45.872Z"
   },
   {
    "duration": 60,
    "start_time": "2021-07-07T17:08:46.054Z"
   },
   {
    "duration": 3,
    "start_time": "2021-07-07T17:08:46.116Z"
   },
   {
    "duration": 26,
    "start_time": "2021-07-07T17:08:46.121Z"
   },
   {
    "duration": 7,
    "start_time": "2021-07-07T17:08:46.149Z"
   },
   {
    "duration": 17,
    "start_time": "2021-07-07T17:08:46.158Z"
   },
   {
    "duration": 14,
    "start_time": "2021-07-07T17:08:46.176Z"
   },
   {
    "duration": 17,
    "start_time": "2021-07-07T17:08:46.193Z"
   },
   {
    "duration": 9,
    "start_time": "2021-07-07T17:08:46.211Z"
   },
   {
    "duration": 21,
    "start_time": "2021-07-07T17:08:46.221Z"
   },
   {
    "duration": 49,
    "start_time": "2021-07-07T17:08:46.244Z"
   },
   {
    "duration": 24,
    "start_time": "2021-07-07T17:08:46.295Z"
   },
   {
    "duration": 22,
    "start_time": "2021-07-07T17:08:46.321Z"
   },
   {
    "duration": 6,
    "start_time": "2021-07-07T17:08:46.345Z"
   },
   {
    "duration": 5,
    "start_time": "2021-07-07T17:08:46.353Z"
   },
   {
    "duration": 13,
    "start_time": "2021-07-07T17:08:46.386Z"
   },
   {
    "duration": 12,
    "start_time": "2021-07-07T17:08:46.402Z"
   },
   {
    "duration": 10,
    "start_time": "2021-07-07T17:08:46.415Z"
   },
   {
    "duration": 7,
    "start_time": "2021-07-07T17:08:46.427Z"
   },
   {
    "duration": 8,
    "start_time": "2021-07-07T17:08:46.435Z"
   },
   {
    "duration": 68,
    "start_time": "2021-07-07T17:08:46.446Z"
   },
   {
    "duration": 13,
    "start_time": "2021-07-07T17:08:46.516Z"
   },
   {
    "duration": 78,
    "start_time": "2021-07-07T17:08:46.530Z"
   },
   {
    "duration": 40,
    "start_time": "2021-07-07T17:09:08.185Z"
   },
   {
    "duration": 16,
    "start_time": "2021-07-07T17:09:19.324Z"
   },
   {
    "duration": 21,
    "start_time": "2021-07-07T17:09:23.290Z"
   },
   {
    "duration": 13,
    "start_time": "2021-07-07T17:09:54.812Z"
   },
   {
    "duration": 13,
    "start_time": "2021-07-07T17:10:02.039Z"
   },
   {
    "duration": 10,
    "start_time": "2021-07-07T17:10:29.632Z"
   },
   {
    "duration": 13,
    "start_time": "2021-07-07T17:10:52.372Z"
   },
   {
    "duration": 13,
    "start_time": "2021-07-07T17:11:17.270Z"
   },
   {
    "duration": 13,
    "start_time": "2021-07-07T17:14:59.284Z"
   },
   {
    "duration": 547,
    "start_time": "2021-07-07T17:18:52.403Z"
   },
   {
    "duration": 163,
    "start_time": "2021-07-07T17:18:52.952Z"
   },
   {
    "duration": 44,
    "start_time": "2021-07-07T17:18:53.117Z"
   },
   {
    "duration": 3,
    "start_time": "2021-07-07T17:18:53.162Z"
   },
   {
    "duration": 26,
    "start_time": "2021-07-07T17:18:53.167Z"
   },
   {
    "duration": 6,
    "start_time": "2021-07-07T17:18:53.195Z"
   },
   {
    "duration": 15,
    "start_time": "2021-07-07T17:18:53.203Z"
   },
   {
    "duration": 5,
    "start_time": "2021-07-07T17:18:53.220Z"
   },
   {
    "duration": 11,
    "start_time": "2021-07-07T17:18:53.228Z"
   },
   {
    "duration": 9,
    "start_time": "2021-07-07T17:18:53.241Z"
   },
   {
    "duration": 41,
    "start_time": "2021-07-07T17:18:53.252Z"
   },
   {
    "duration": 33,
    "start_time": "2021-07-07T17:18:53.295Z"
   },
   {
    "duration": 19,
    "start_time": "2021-07-07T17:18:53.330Z"
   },
   {
    "duration": 49,
    "start_time": "2021-07-07T17:18:53.350Z"
   },
   {
    "duration": 5,
    "start_time": "2021-07-07T17:18:53.401Z"
   },
   {
    "duration": 5,
    "start_time": "2021-07-07T17:18:53.408Z"
   },
   {
    "duration": 11,
    "start_time": "2021-07-07T17:18:53.414Z"
   },
   {
    "duration": 9,
    "start_time": "2021-07-07T17:18:53.427Z"
   },
   {
    "duration": 10,
    "start_time": "2021-07-07T17:18:53.437Z"
   },
   {
    "duration": 39,
    "start_time": "2021-07-07T17:18:53.448Z"
   },
   {
    "duration": 26,
    "start_time": "2021-07-07T17:18:55.799Z"
   },
   {
    "duration": 598,
    "start_time": "2021-07-07T17:20:17.862Z"
   },
   {
    "duration": 161,
    "start_time": "2021-07-07T17:20:18.462Z"
   },
   {
    "duration": 45,
    "start_time": "2021-07-07T17:20:18.626Z"
   },
   {
    "duration": 4,
    "start_time": "2021-07-07T17:20:18.673Z"
   },
   {
    "duration": 38,
    "start_time": "2021-07-07T17:20:26.877Z"
   },
   {
    "duration": 7,
    "start_time": "2021-07-07T17:20:37.405Z"
   },
   {
    "duration": 19,
    "start_time": "2021-07-07T17:20:51.534Z"
   },
   {
    "duration": 5,
    "start_time": "2021-07-07T17:20:57.228Z"
   },
   {
    "duration": 7,
    "start_time": "2021-07-07T17:21:08.235Z"
   },
   {
    "duration": 19,
    "start_time": "2021-07-07T17:21:42.158Z"
   },
   {
    "duration": 14,
    "start_time": "2021-07-07T17:21:50.225Z"
   },
   {
    "duration": 22,
    "start_time": "2021-07-07T17:22:54.104Z"
   },
   {
    "duration": 5,
    "start_time": "2021-07-07T17:22:56.371Z"
   },
   {
    "duration": 14,
    "start_time": "2021-07-07T17:22:58.316Z"
   },
   {
    "duration": 5,
    "start_time": "2021-07-07T17:22:58.493Z"
   },
   {
    "duration": 35,
    "start_time": "2021-07-07T17:22:59.666Z"
   },
   {
    "duration": 6,
    "start_time": "2021-07-07T17:23:02.410Z"
   },
   {
    "duration": 611,
    "start_time": "2021-07-07T17:24:59.664Z"
   },
   {
    "duration": 178,
    "start_time": "2021-07-07T17:25:01.945Z"
   },
   {
    "duration": 47,
    "start_time": "2021-07-07T17:25:02.125Z"
   },
   {
    "duration": 2,
    "start_time": "2021-07-07T17:25:07.903Z"
   },
   {
    "duration": 254,
    "start_time": "2021-07-07T17:25:08.232Z"
   },
   {
    "duration": 182,
    "start_time": "2021-07-07T17:25:08.671Z"
   },
   {
    "duration": 6,
    "start_time": "2021-07-07T17:25:13.104Z"
   },
   {
    "duration": 36,
    "start_time": "2021-07-07T17:25:13.662Z"
   },
   {
    "duration": 7,
    "start_time": "2021-07-07T17:25:14.528Z"
   },
   {
    "duration": 24,
    "start_time": "2021-07-07T17:25:27.982Z"
   },
   {
    "duration": 3,
    "start_time": "2021-07-07T17:25:48.982Z"
   },
   {
    "duration": 165,
    "start_time": "2021-07-07T17:25:48.987Z"
   },
   {
    "duration": 50,
    "start_time": "2021-07-07T17:25:49.154Z"
   },
   {
    "duration": 4,
    "start_time": "2021-07-07T17:25:49.206Z"
   },
   {
    "duration": 26,
    "start_time": "2021-07-07T17:25:49.212Z"
   },
   {
    "duration": 7,
    "start_time": "2021-07-07T17:25:49.240Z"
   },
   {
    "duration": 16,
    "start_time": "2021-07-07T17:25:49.249Z"
   },
   {
    "duration": 22,
    "start_time": "2021-07-07T17:25:49.266Z"
   },
   {
    "duration": 16,
    "start_time": "2021-07-07T17:25:49.291Z"
   },
   {
    "duration": 9,
    "start_time": "2021-07-07T17:25:49.309Z"
   },
   {
    "duration": 7,
    "start_time": "2021-07-07T17:25:49.319Z"
   },
   {
    "duration": 28,
    "start_time": "2021-07-07T17:25:49.328Z"
   },
   {
    "duration": 44,
    "start_time": "2021-07-07T17:25:49.357Z"
   },
   {
    "duration": 22,
    "start_time": "2021-07-07T17:25:49.403Z"
   },
   {
    "duration": 7,
    "start_time": "2021-07-07T17:25:49.427Z"
   },
   {
    "duration": 3,
    "start_time": "2021-07-07T17:25:49.436Z"
   },
   {
    "duration": 44,
    "start_time": "2021-07-07T17:25:49.441Z"
   },
   {
    "duration": 12,
    "start_time": "2021-07-07T17:25:49.488Z"
   },
   {
    "duration": 13,
    "start_time": "2021-07-07T17:25:49.502Z"
   },
   {
    "duration": 10,
    "start_time": "2021-07-07T17:25:49.516Z"
   },
   {
    "duration": 62,
    "start_time": "2021-07-07T17:25:49.527Z"
   },
   {
    "duration": 26,
    "start_time": "2021-07-07T17:26:51.809Z"
   },
   {
    "duration": 26,
    "start_time": "2021-07-07T17:26:55.759Z"
   },
   {
    "duration": 26,
    "start_time": "2021-07-07T17:27:04.501Z"
   },
   {
    "duration": 25,
    "start_time": "2021-07-07T17:28:24.859Z"
   },
   {
    "duration": 21,
    "start_time": "2021-07-07T17:28:55.250Z"
   },
   {
    "duration": 21,
    "start_time": "2021-07-07T17:28:58.885Z"
   },
   {
    "duration": 7,
    "start_time": "2021-07-07T17:45:40.972Z"
   },
   {
    "duration": 13,
    "start_time": "2021-07-07T17:45:42.529Z"
   },
   {
    "duration": 27,
    "start_time": "2021-07-07T17:45:51.026Z"
   },
   {
    "duration": 518,
    "start_time": "2021-07-07T17:46:15.532Z"
   },
   {
    "duration": 235,
    "start_time": "2021-07-07T17:46:16.053Z"
   },
   {
    "duration": 80,
    "start_time": "2021-07-07T17:46:16.292Z"
   },
   {
    "duration": 5,
    "start_time": "2021-07-07T17:46:16.373Z"
   },
   {
    "duration": 26,
    "start_time": "2021-07-07T17:46:16.380Z"
   },
   {
    "duration": 7,
    "start_time": "2021-07-07T17:46:16.408Z"
   },
   {
    "duration": 16,
    "start_time": "2021-07-07T17:46:16.418Z"
   },
   {
    "duration": 5,
    "start_time": "2021-07-07T17:46:16.436Z"
   },
   {
    "duration": 13,
    "start_time": "2021-07-07T17:46:16.442Z"
   },
   {
    "duration": 35,
    "start_time": "2021-07-07T17:46:16.456Z"
   },
   {
    "duration": 8,
    "start_time": "2021-07-07T17:46:16.493Z"
   },
   {
    "duration": 28,
    "start_time": "2021-07-07T17:46:16.502Z"
   },
   {
    "duration": 17,
    "start_time": "2021-07-07T17:46:16.532Z"
   },
   {
    "duration": 44,
    "start_time": "2021-07-07T17:46:16.551Z"
   },
   {
    "duration": 6,
    "start_time": "2021-07-07T17:46:16.597Z"
   },
   {
    "duration": 4,
    "start_time": "2021-07-07T17:46:16.605Z"
   },
   {
    "duration": 9,
    "start_time": "2021-07-07T17:46:16.610Z"
   },
   {
    "duration": 9,
    "start_time": "2021-07-07T17:46:16.621Z"
   },
   {
    "duration": 10,
    "start_time": "2021-07-07T17:46:16.632Z"
   },
   {
    "duration": 43,
    "start_time": "2021-07-07T17:46:16.644Z"
   },
   {
    "duration": 26,
    "start_time": "2021-07-07T17:46:16.689Z"
   },
   {
    "duration": 19,
    "start_time": "2021-07-07T17:46:16.718Z"
   },
   {
    "duration": 8,
    "start_time": "2021-07-07T17:46:16.738Z"
   },
   {
    "duration": 43,
    "start_time": "2021-07-07T17:46:16.747Z"
   },
   {
    "duration": 19,
    "start_time": "2021-07-07T17:46:16.791Z"
   },
   {
    "duration": 9,
    "start_time": "2021-07-07T17:46:16.812Z"
   },
   {
    "duration": 60,
    "start_time": "2021-07-07T17:46:16.822Z"
   },
   {
    "duration": -8,
    "start_time": "2021-07-07T17:46:16.892Z"
   },
   {
    "duration": 12,
    "start_time": "2021-07-07T17:48:47.707Z"
   },
   {
    "duration": 553,
    "start_time": "2021-07-07T18:10:09.350Z"
   },
   {
    "duration": 230,
    "start_time": "2021-07-07T18:10:09.905Z"
   },
   {
    "duration": 97,
    "start_time": "2021-07-07T18:10:10.137Z"
   },
   {
    "duration": 5,
    "start_time": "2021-07-07T18:10:10.236Z"
   },
   {
    "duration": 29,
    "start_time": "2021-07-07T18:10:10.242Z"
   },
   {
    "duration": 7,
    "start_time": "2021-07-07T18:10:10.272Z"
   },
   {
    "duration": 15,
    "start_time": "2021-07-07T18:10:10.281Z"
   },
   {
    "duration": 4,
    "start_time": "2021-07-07T18:10:10.299Z"
   },
   {
    "duration": 14,
    "start_time": "2021-07-07T18:10:10.305Z"
   },
   {
    "duration": 8,
    "start_time": "2021-07-07T18:10:10.321Z"
   },
   {
    "duration": 8,
    "start_time": "2021-07-07T18:10:10.331Z"
   },
   {
    "duration": 56,
    "start_time": "2021-07-07T18:10:10.341Z"
   },
   {
    "duration": 19,
    "start_time": "2021-07-07T18:10:10.399Z"
   },
   {
    "duration": 23,
    "start_time": "2021-07-07T18:10:10.419Z"
   },
   {
    "duration": 6,
    "start_time": "2021-07-07T18:10:10.444Z"
   },
   {
    "duration": 9,
    "start_time": "2021-07-07T18:10:10.451Z"
   },
   {
    "duration": 30,
    "start_time": "2021-07-07T18:10:10.462Z"
   },
   {
    "duration": 9,
    "start_time": "2021-07-07T18:10:10.494Z"
   },
   {
    "duration": 14,
    "start_time": "2021-07-07T18:10:10.505Z"
   },
   {
    "duration": 7,
    "start_time": "2021-07-07T18:10:10.521Z"
   },
   {
    "duration": 26,
    "start_time": "2021-07-07T18:10:10.530Z"
   },
   {
    "duration": 44,
    "start_time": "2021-07-07T18:10:10.558Z"
   },
   {
    "duration": 7,
    "start_time": "2021-07-07T18:10:10.605Z"
   },
   {
    "duration": 11,
    "start_time": "2021-07-07T18:10:10.614Z"
   },
   {
    "duration": 19,
    "start_time": "2021-07-07T18:10:10.626Z"
   },
   {
    "duration": 44,
    "start_time": "2021-07-07T18:10:10.646Z"
   },
   {
    "duration": 516,
    "start_time": "2021-07-07T18:14:00.826Z"
   },
   {
    "duration": 230,
    "start_time": "2021-07-07T18:14:01.344Z"
   },
   {
    "duration": 105,
    "start_time": "2021-07-07T18:14:01.576Z"
   },
   {
    "duration": 5,
    "start_time": "2021-07-07T18:14:01.683Z"
   },
   {
    "duration": 46,
    "start_time": "2021-07-07T18:14:01.690Z"
   },
   {
    "duration": 7,
    "start_time": "2021-07-07T18:14:01.738Z"
   },
   {
    "duration": 20,
    "start_time": "2021-07-07T18:14:01.747Z"
   },
   {
    "duration": 16,
    "start_time": "2021-07-07T18:14:01.769Z"
   },
   {
    "duration": 14,
    "start_time": "2021-07-07T18:14:01.787Z"
   },
   {
    "duration": 15,
    "start_time": "2021-07-07T18:14:01.803Z"
   },
   {
    "duration": 12,
    "start_time": "2021-07-07T18:14:01.820Z"
   },
   {
    "duration": 35,
    "start_time": "2021-07-07T18:14:01.833Z"
   },
   {
    "duration": 31,
    "start_time": "2021-07-07T18:14:01.869Z"
   },
   {
    "duration": 37,
    "start_time": "2021-07-07T18:14:01.902Z"
   },
   {
    "duration": 8,
    "start_time": "2021-07-07T18:14:01.942Z"
   },
   {
    "duration": 16,
    "start_time": "2021-07-07T18:14:01.952Z"
   },
   {
    "duration": 13,
    "start_time": "2021-07-07T18:14:01.970Z"
   },
   {
    "duration": 32,
    "start_time": "2021-07-07T18:14:01.985Z"
   },
   {
    "duration": 11,
    "start_time": "2021-07-07T18:14:02.019Z"
   },
   {
    "duration": 22,
    "start_time": "2021-07-07T18:14:02.031Z"
   },
   {
    "duration": 27,
    "start_time": "2021-07-07T18:14:02.055Z"
   },
   {
    "duration": 18,
    "start_time": "2021-07-07T18:14:02.084Z"
   },
   {
    "duration": 18,
    "start_time": "2021-07-07T18:14:02.106Z"
   },
   {
    "duration": 11,
    "start_time": "2021-07-07T18:14:02.126Z"
   },
   {
    "duration": 21,
    "start_time": "2021-07-07T18:14:02.138Z"
   },
   {
    "duration": 32,
    "start_time": "2021-07-07T18:14:02.161Z"
   },
   {
    "duration": 28,
    "start_time": "2021-07-07T18:14:44.295Z"
   },
   {
    "duration": 6,
    "start_time": "2021-07-07T18:15:05.834Z"
   },
   {
    "duration": 511,
    "start_time": "2021-07-07T18:15:41.541Z"
   },
   {
    "duration": 183,
    "start_time": "2021-07-07T18:15:42.054Z"
   },
   {
    "duration": 50,
    "start_time": "2021-07-07T18:15:42.239Z"
   },
   {
    "duration": 5,
    "start_time": "2021-07-07T18:15:42.291Z"
   },
   {
    "duration": 48,
    "start_time": "2021-07-07T18:15:42.297Z"
   },
   {
    "duration": 8,
    "start_time": "2021-07-07T18:15:42.346Z"
   },
   {
    "duration": 17,
    "start_time": "2021-07-07T18:15:42.356Z"
   },
   {
    "duration": 15,
    "start_time": "2021-07-07T18:15:42.375Z"
   },
   {
    "duration": 12,
    "start_time": "2021-07-07T18:15:42.392Z"
   },
   {
    "duration": 7,
    "start_time": "2021-07-07T18:15:42.406Z"
   },
   {
    "duration": 7,
    "start_time": "2021-07-07T18:15:42.415Z"
   },
   {
    "duration": 29,
    "start_time": "2021-07-07T18:15:42.423Z"
   },
   {
    "duration": 43,
    "start_time": "2021-07-07T18:15:42.453Z"
   },
   {
    "duration": 18,
    "start_time": "2021-07-07T18:15:42.497Z"
   },
   {
    "duration": 6,
    "start_time": "2021-07-07T18:15:42.516Z"
   },
   {
    "duration": 3,
    "start_time": "2021-07-07T18:15:42.523Z"
   },
   {
    "duration": 18,
    "start_time": "2021-07-07T18:15:42.528Z"
   },
   {
    "duration": 10,
    "start_time": "2021-07-07T18:15:42.547Z"
   },
   {
    "duration": 36,
    "start_time": "2021-07-07T18:15:42.559Z"
   },
   {
    "duration": 8,
    "start_time": "2021-07-07T18:15:42.597Z"
   },
   {
    "duration": 28,
    "start_time": "2021-07-07T18:15:42.606Z"
   },
   {
    "duration": 52,
    "start_time": "2021-07-07T18:15:42.635Z"
   },
   {
    "duration": 7,
    "start_time": "2021-07-07T18:15:42.690Z"
   },
   {
    "duration": 10,
    "start_time": "2021-07-07T18:15:42.699Z"
   },
   {
    "duration": 19,
    "start_time": "2021-07-07T18:15:42.711Z"
   },
   {
    "duration": 9,
    "start_time": "2021-07-07T18:15:42.732Z"
   },
   {
    "duration": 5,
    "start_time": "2021-07-07T18:15:42.743Z"
   },
   {
    "duration": 1450,
    "start_time": "2021-07-07T18:15:51.984Z"
   },
   {
    "duration": 161,
    "start_time": "2021-07-07T18:15:53.435Z"
   },
   {
    "duration": 124,
    "start_time": "2021-07-07T18:15:53.598Z"
   },
   {
    "duration": 5,
    "start_time": "2021-07-07T18:15:53.724Z"
   },
   {
    "duration": 34,
    "start_time": "2021-07-07T18:15:53.730Z"
   },
   {
    "duration": 7,
    "start_time": "2021-07-07T18:15:53.765Z"
   },
   {
    "duration": 15,
    "start_time": "2021-07-07T18:15:53.773Z"
   },
   {
    "duration": 5,
    "start_time": "2021-07-07T18:15:53.791Z"
   },
   {
    "duration": 19,
    "start_time": "2021-07-07T18:15:53.798Z"
   },
   {
    "duration": 9,
    "start_time": "2021-07-07T18:15:53.818Z"
   },
   {
    "duration": 19,
    "start_time": "2021-07-07T18:15:53.828Z"
   },
   {
    "duration": 27,
    "start_time": "2021-07-07T18:15:53.848Z"
   },
   {
    "duration": 16,
    "start_time": "2021-07-07T18:15:53.884Z"
   },
   {
    "duration": 29,
    "start_time": "2021-07-07T18:15:53.901Z"
   },
   {
    "duration": 5,
    "start_time": "2021-07-07T18:15:53.932Z"
   },
   {
    "duration": 15,
    "start_time": "2021-07-07T18:15:53.939Z"
   },
   {
    "duration": 13,
    "start_time": "2021-07-07T18:15:53.956Z"
   },
   {
    "duration": 20,
    "start_time": "2021-07-07T18:15:53.971Z"
   },
   {
    "duration": 14,
    "start_time": "2021-07-07T18:15:53.992Z"
   },
   {
    "duration": 9,
    "start_time": "2021-07-07T18:15:54.009Z"
   },
   {
    "duration": 28,
    "start_time": "2021-07-07T18:15:54.020Z"
   },
   {
    "duration": 50,
    "start_time": "2021-07-07T18:15:54.051Z"
   },
   {
    "duration": 8,
    "start_time": "2021-07-07T18:15:54.105Z"
   },
   {
    "duration": 11,
    "start_time": "2021-07-07T18:15:54.115Z"
   },
   {
    "duration": 20,
    "start_time": "2021-07-07T18:15:54.128Z"
   },
   {
    "duration": 13,
    "start_time": "2021-07-07T18:15:54.184Z"
   },
   {
    "duration": 7,
    "start_time": "2021-07-07T18:15:54.199Z"
   },
   {
    "duration": 7,
    "start_time": "2021-07-07T18:17:08.042Z"
   },
   {
    "duration": 8,
    "start_time": "2021-07-07T18:17:21.008Z"
   },
   {
    "duration": 7,
    "start_time": "2021-07-07T18:17:29.003Z"
   },
   {
    "duration": 8,
    "start_time": "2021-07-07T18:17:32.492Z"
   },
   {
    "duration": 9,
    "start_time": "2021-07-07T18:17:41.758Z"
   },
   {
    "duration": 255,
    "start_time": "2021-07-07T18:20:20.897Z"
   },
   {
    "duration": 173,
    "start_time": "2021-07-07T18:20:26.636Z"
   },
   {
    "duration": 7,
    "start_time": "2021-07-07T18:21:47.164Z"
   },
   {
    "duration": 254,
    "start_time": "2021-07-07T18:23:08.703Z"
   },
   {
    "duration": 21,
    "start_time": "2021-07-07T18:23:22.506Z"
   },
   {
    "duration": 315,
    "start_time": "2021-07-07T18:25:54.801Z"
   },
   {
    "duration": 34,
    "start_time": "2021-07-07T18:26:51.817Z"
   },
   {
    "duration": 327,
    "start_time": "2021-07-07T18:26:56.147Z"
   },
   {
    "duration": 342,
    "start_time": "2021-07-07T18:27:15.887Z"
   },
   {
    "duration": 302,
    "start_time": "2021-07-07T18:28:18.569Z"
   },
   {
    "duration": 226,
    "start_time": "2021-07-07T18:29:20.879Z"
   },
   {
    "duration": 207,
    "start_time": "2021-07-07T18:29:58.114Z"
   },
   {
    "duration": 140,
    "start_time": "2021-07-07T18:32:04.372Z"
   },
   {
    "duration": 158,
    "start_time": "2021-07-07T18:32:32.508Z"
   },
   {
    "duration": 145,
    "start_time": "2021-07-07T18:32:41.365Z"
   },
   {
    "duration": 132,
    "start_time": "2021-07-07T18:32:45.199Z"
   },
   {
    "duration": 11,
    "start_time": "2021-07-07T18:35:24.679Z"
   },
   {
    "duration": 268,
    "start_time": "2021-07-07T18:36:16.145Z"
   },
   {
    "duration": 227,
    "start_time": "2021-07-07T18:37:04.918Z"
   },
   {
    "duration": 3,
    "start_time": "2021-07-07T18:37:33.012Z"
   },
   {
    "duration": 671,
    "start_time": "2021-07-07T18:37:38.295Z"
   },
   {
    "duration": 54,
    "start_time": "2021-07-07T18:37:53.406Z"
   },
   {
    "duration": 631,
    "start_time": "2021-07-07T18:37:56.463Z"
   },
   {
    "duration": 19,
    "start_time": "2021-07-07T18:39:40.535Z"
   },
   {
    "duration": 20,
    "start_time": "2021-07-07T18:40:12.236Z"
   },
   {
    "duration": 633,
    "start_time": "2021-07-07T18:42:00.398Z"
   },
   {
    "duration": 218,
    "start_time": "2021-07-07T18:42:01.033Z"
   },
   {
    "duration": 49,
    "start_time": "2021-07-07T18:42:01.253Z"
   },
   {
    "duration": 5,
    "start_time": "2021-07-07T18:42:01.303Z"
   },
   {
    "duration": 27,
    "start_time": "2021-07-07T18:42:01.310Z"
   },
   {
    "duration": 8,
    "start_time": "2021-07-07T18:42:01.339Z"
   },
   {
    "duration": 20,
    "start_time": "2021-07-07T18:42:01.348Z"
   },
   {
    "duration": 6,
    "start_time": "2021-07-07T18:42:01.386Z"
   },
   {
    "duration": 16,
    "start_time": "2021-07-07T18:42:01.394Z"
   },
   {
    "duration": 9,
    "start_time": "2021-07-07T18:42:01.411Z"
   },
   {
    "duration": 11,
    "start_time": "2021-07-07T18:42:01.421Z"
   },
   {
    "duration": 31,
    "start_time": "2021-07-07T18:42:01.434Z"
   },
   {
    "duration": 18,
    "start_time": "2021-07-07T18:42:01.485Z"
   },
   {
    "duration": 23,
    "start_time": "2021-07-07T18:42:01.505Z"
   },
   {
    "duration": 6,
    "start_time": "2021-07-07T18:42:01.530Z"
   },
   {
    "duration": 10,
    "start_time": "2021-07-07T18:42:01.538Z"
   },
   {
    "duration": 13,
    "start_time": "2021-07-07T18:42:01.550Z"
   },
   {
    "duration": 24,
    "start_time": "2021-07-07T18:42:01.564Z"
   },
   {
    "duration": 20,
    "start_time": "2021-07-07T18:42:01.590Z"
   },
   {
    "duration": 8,
    "start_time": "2021-07-07T18:42:01.611Z"
   },
   {
    "duration": 31,
    "start_time": "2021-07-07T18:42:01.620Z"
   },
   {
    "duration": 39,
    "start_time": "2021-07-07T18:42:01.653Z"
   },
   {
    "duration": 8,
    "start_time": "2021-07-07T18:42:01.696Z"
   },
   {
    "duration": 13,
    "start_time": "2021-07-07T18:42:01.705Z"
   },
   {
    "duration": 20,
    "start_time": "2021-07-07T18:42:01.720Z"
   },
   {
    "duration": 12,
    "start_time": "2021-07-07T18:42:01.741Z"
   },
   {
    "duration": 35,
    "start_time": "2021-07-07T18:42:01.755Z"
   },
   {
    "duration": 14,
    "start_time": "2021-07-07T18:42:01.792Z"
   },
   {
    "duration": 188,
    "start_time": "2021-07-07T18:42:01.808Z"
   },
   {
    "duration": 19,
    "start_time": "2021-07-07T18:42:01.998Z"
   },
   {
    "duration": 175,
    "start_time": "2021-07-07T18:42:02.019Z"
   },
   {
    "duration": 134,
    "start_time": "2021-07-07T18:42:02.196Z"
   },
   {
    "duration": 10,
    "start_time": "2021-07-07T18:42:02.331Z"
   },
   {
    "duration": 19,
    "start_time": "2021-07-07T18:42:02.343Z"
   },
   {
    "duration": 628,
    "start_time": "2021-07-07T18:46:30.701Z"
   },
   {
    "duration": 183,
    "start_time": "2021-07-07T18:46:31.331Z"
   },
   {
    "duration": 48,
    "start_time": "2021-07-07T18:46:31.516Z"
   },
   {
    "duration": 5,
    "start_time": "2021-07-07T18:46:31.566Z"
   },
   {
    "duration": 28,
    "start_time": "2021-07-07T18:46:31.572Z"
   },
   {
    "duration": 8,
    "start_time": "2021-07-07T18:46:31.602Z"
   },
   {
    "duration": 19,
    "start_time": "2021-07-07T18:46:31.611Z"
   },
   {
    "duration": 6,
    "start_time": "2021-07-07T18:46:31.633Z"
   },
   {
    "duration": 17,
    "start_time": "2021-07-07T18:46:31.642Z"
   },
   {
    "duration": 10,
    "start_time": "2021-07-07T18:46:31.684Z"
   },
   {
    "duration": 9,
    "start_time": "2021-07-07T18:46:31.695Z"
   },
   {
    "duration": 28,
    "start_time": "2021-07-07T18:46:31.705Z"
   },
   {
    "duration": 18,
    "start_time": "2021-07-07T18:46:31.735Z"
   },
   {
    "duration": 48,
    "start_time": "2021-07-07T18:46:31.755Z"
   },
   {
    "duration": 6,
    "start_time": "2021-07-07T18:46:31.804Z"
   },
   {
    "duration": 4,
    "start_time": "2021-07-07T18:46:31.812Z"
   },
   {
    "duration": 9,
    "start_time": "2021-07-07T18:46:31.817Z"
   },
   {
    "duration": 10,
    "start_time": "2021-07-07T18:46:31.827Z"
   },
   {
    "duration": 12,
    "start_time": "2021-07-07T18:46:31.838Z"
   },
   {
    "duration": 39,
    "start_time": "2021-07-07T18:46:31.851Z"
   },
   {
    "duration": 24,
    "start_time": "2021-07-07T18:46:31.892Z"
   },
   {
    "duration": 15,
    "start_time": "2021-07-07T18:46:31.918Z"
   },
   {
    "duration": 7,
    "start_time": "2021-07-07T18:46:31.936Z"
   },
   {
    "duration": 8,
    "start_time": "2021-07-07T18:46:31.944Z"
   },
   {
    "duration": 19,
    "start_time": "2021-07-07T18:46:31.984Z"
   },
   {
    "duration": 10,
    "start_time": "2021-07-07T18:46:32.004Z"
   },
   {
    "duration": 5,
    "start_time": "2021-07-07T18:46:32.016Z"
   },
   {
    "duration": 9,
    "start_time": "2021-07-07T18:46:32.023Z"
   },
   {
    "duration": 199,
    "start_time": "2021-07-07T18:46:32.033Z"
   },
   {
    "duration": 19,
    "start_time": "2021-07-07T18:46:32.234Z"
   },
   {
    "duration": 159,
    "start_time": "2021-07-07T18:46:32.255Z"
   },
   {
    "duration": 134,
    "start_time": "2021-07-07T18:46:32.416Z"
   },
   {
    "duration": 10,
    "start_time": "2021-07-07T18:46:32.552Z"
   },
   {
    "duration": 34,
    "start_time": "2021-07-07T18:46:32.563Z"
   },
   {
    "duration": 1039,
    "start_time": "2021-07-08T08:41:09.419Z"
   },
   {
    "duration": 333,
    "start_time": "2021-07-08T08:41:10.459Z"
   },
   {
    "duration": 173,
    "start_time": "2021-07-08T08:41:10.794Z"
   },
   {
    "duration": 5,
    "start_time": "2021-07-08T08:41:10.968Z"
   },
   {
    "duration": 25,
    "start_time": "2021-07-08T08:41:10.975Z"
   },
   {
    "duration": 9,
    "start_time": "2021-07-08T08:41:11.002Z"
   },
   {
    "duration": 18,
    "start_time": "2021-07-08T08:41:11.013Z"
   },
   {
    "duration": 6,
    "start_time": "2021-07-08T08:41:11.033Z"
   },
   {
    "duration": 44,
    "start_time": "2021-07-08T08:41:11.042Z"
   },
   {
    "duration": 10,
    "start_time": "2021-07-08T08:41:11.088Z"
   },
   {
    "duration": 9,
    "start_time": "2021-07-08T08:41:11.100Z"
   },
   {
    "duration": 27,
    "start_time": "2021-07-08T08:41:11.111Z"
   },
   {
    "duration": 46,
    "start_time": "2021-07-08T08:41:11.140Z"
   },
   {
    "duration": 17,
    "start_time": "2021-07-08T08:41:11.187Z"
   },
   {
    "duration": 6,
    "start_time": "2021-07-08T08:41:11.206Z"
   },
   {
    "duration": 5,
    "start_time": "2021-07-08T08:41:11.213Z"
   },
   {
    "duration": 10,
    "start_time": "2021-07-08T08:41:11.219Z"
   },
   {
    "duration": 9,
    "start_time": "2021-07-08T08:41:11.230Z"
   },
   {
    "duration": 45,
    "start_time": "2021-07-08T08:41:11.241Z"
   },
   {
    "duration": 7,
    "start_time": "2021-07-08T08:41:11.287Z"
   },
   {
    "duration": 24,
    "start_time": "2021-07-08T08:41:11.296Z"
   },
   {
    "duration": 16,
    "start_time": "2021-07-08T08:41:11.322Z"
   },
   {
    "duration": 7,
    "start_time": "2021-07-08T08:41:11.341Z"
   },
   {
    "duration": 41,
    "start_time": "2021-07-08T08:41:11.349Z"
   },
   {
    "duration": 17,
    "start_time": "2021-07-08T08:41:11.391Z"
   },
   {
    "duration": 9,
    "start_time": "2021-07-08T08:41:11.410Z"
   },
   {
    "duration": 5,
    "start_time": "2021-07-08T08:41:11.421Z"
   },
   {
    "duration": 6,
    "start_time": "2021-07-08T08:41:11.428Z"
   },
   {
    "duration": 198,
    "start_time": "2021-07-08T08:41:11.435Z"
   },
   {
    "duration": 18,
    "start_time": "2021-07-08T08:41:11.635Z"
   },
   {
    "duration": 155,
    "start_time": "2021-07-08T08:41:11.655Z"
   },
   {
    "duration": 138,
    "start_time": "2021-07-08T08:41:11.811Z"
   },
   {
    "duration": 10,
    "start_time": "2021-07-08T08:41:11.950Z"
   },
   {
    "duration": 29,
    "start_time": "2021-07-08T08:41:11.961Z"
   },
   {
    "duration": 171,
    "start_time": "2021-07-08T08:47:44.522Z"
   },
   {
    "duration": 124,
    "start_time": "2021-07-08T08:47:46.872Z"
   },
   {
    "duration": 191,
    "start_time": "2021-07-08T08:47:58.148Z"
   },
   {
    "duration": 191,
    "start_time": "2021-07-08T08:48:07.412Z"
   },
   {
    "duration": 261,
    "start_time": "2021-07-08T08:48:10.385Z"
   },
   {
    "duration": 255,
    "start_time": "2021-07-08T08:48:14.494Z"
   },
   {
    "duration": 219,
    "start_time": "2021-07-08T08:48:22.752Z"
   },
   {
    "duration": 173,
    "start_time": "2021-07-08T08:49:06.395Z"
   },
   {
    "duration": 180,
    "start_time": "2021-07-08T08:49:21.011Z"
   },
   {
    "duration": 6,
    "start_time": "2021-07-08T08:50:31.697Z"
   },
   {
    "duration": 10,
    "start_time": "2021-07-08T08:50:47.394Z"
   },
   {
    "duration": 11,
    "start_time": "2021-07-08T08:53:49.332Z"
   },
   {
    "duration": 171,
    "start_time": "2021-07-08T08:54:28.408Z"
   },
   {
    "duration": 636,
    "start_time": "2021-07-08T09:02:48.385Z"
   },
   {
    "duration": 227,
    "start_time": "2021-07-08T09:02:49.023Z"
   },
   {
    "duration": 104,
    "start_time": "2021-07-08T09:02:49.252Z"
   },
   {
    "duration": 5,
    "start_time": "2021-07-08T09:02:49.358Z"
   },
   {
    "duration": 27,
    "start_time": "2021-07-08T09:02:49.365Z"
   },
   {
    "duration": 8,
    "start_time": "2021-07-08T09:02:49.394Z"
   },
   {
    "duration": 18,
    "start_time": "2021-07-08T09:02:49.404Z"
   },
   {
    "duration": 6,
    "start_time": "2021-07-08T09:02:49.424Z"
   },
   {
    "duration": 11,
    "start_time": "2021-07-08T09:02:49.433Z"
   },
   {
    "duration": 13,
    "start_time": "2021-07-08T09:02:49.485Z"
   },
   {
    "duration": 9,
    "start_time": "2021-07-08T09:02:49.500Z"
   },
   {
    "duration": 38,
    "start_time": "2021-07-08T09:02:49.511Z"
   },
   {
    "duration": 42,
    "start_time": "2021-07-08T09:02:49.551Z"
   },
   {
    "duration": 21,
    "start_time": "2021-07-08T09:02:49.594Z"
   },
   {
    "duration": 6,
    "start_time": "2021-07-08T09:02:49.616Z"
   },
   {
    "duration": 3,
    "start_time": "2021-07-08T09:02:49.623Z"
   },
   {
    "duration": 9,
    "start_time": "2021-07-08T09:02:49.628Z"
   },
   {
    "duration": 52,
    "start_time": "2021-07-08T09:02:49.638Z"
   },
   {
    "duration": 11,
    "start_time": "2021-07-08T09:02:49.692Z"
   },
   {
    "duration": 8,
    "start_time": "2021-07-08T09:02:49.704Z"
   },
   {
    "duration": 27,
    "start_time": "2021-07-08T09:02:49.713Z"
   },
   {
    "duration": 59,
    "start_time": "2021-07-08T09:02:49.741Z"
   },
   {
    "duration": 8,
    "start_time": "2021-07-08T09:02:49.803Z"
   },
   {
    "duration": 14,
    "start_time": "2021-07-08T09:02:49.813Z"
   },
   {
    "duration": 20,
    "start_time": "2021-07-08T09:02:49.829Z"
   },
   {
    "duration": 44,
    "start_time": "2021-07-08T09:02:49.851Z"
   },
   {
    "duration": 14,
    "start_time": "2021-07-08T09:02:49.896Z"
   },
   {
    "duration": 221,
    "start_time": "2021-07-08T09:02:49.912Z"
   },
   {
    "duration": 6,
    "start_time": "2021-07-08T09:02:50.134Z"
   },
   {
    "duration": 206,
    "start_time": "2021-07-08T09:02:50.142Z"
   },
   {
    "duration": 19,
    "start_time": "2021-07-08T09:02:50.350Z"
   },
   {
    "duration": 21,
    "start_time": "2021-07-08T09:02:50.370Z"
   },
   {
    "duration": 20,
    "start_time": "2021-07-08T09:02:50.393Z"
   },
   {
    "duration": 5,
    "start_time": "2021-07-08T09:02:50.414Z"
   },
   {
    "duration": 5,
    "start_time": "2021-07-08T09:03:34.173Z"
   },
   {
    "duration": 6,
    "start_time": "2021-07-08T09:04:49.062Z"
   },
   {
    "duration": 9,
    "start_time": "2021-07-08T09:04:50.118Z"
   },
   {
    "duration": 14,
    "start_time": "2021-07-08T09:04:58.512Z"
   },
   {
    "duration": 9,
    "start_time": "2021-07-08T09:05:10.988Z"
   },
   {
    "duration": 11,
    "start_time": "2021-07-08T09:05:11.743Z"
   },
   {
    "duration": 7,
    "start_time": "2021-07-08T09:05:25.677Z"
   },
   {
    "duration": 13,
    "start_time": "2021-07-08T09:05:47.189Z"
   },
   {
    "duration": 13,
    "start_time": "2021-07-08T09:05:54.755Z"
   },
   {
    "duration": 4,
    "start_time": "2021-07-08T09:06:29.189Z"
   },
   {
    "duration": 244,
    "start_time": "2021-07-08T09:06:29.195Z"
   },
   {
    "duration": 91,
    "start_time": "2021-07-08T09:06:29.441Z"
   },
   {
    "duration": 4,
    "start_time": "2021-07-08T09:06:29.534Z"
   },
   {
    "duration": 28,
    "start_time": "2021-07-08T09:06:29.540Z"
   },
   {
    "duration": 6,
    "start_time": "2021-07-08T09:06:29.570Z"
   },
   {
    "duration": 18,
    "start_time": "2021-07-08T09:06:29.578Z"
   },
   {
    "duration": 5,
    "start_time": "2021-07-08T09:06:29.597Z"
   },
   {
    "duration": 13,
    "start_time": "2021-07-08T09:06:29.605Z"
   },
   {
    "duration": 8,
    "start_time": "2021-07-08T09:06:29.620Z"
   },
   {
    "duration": 7,
    "start_time": "2021-07-08T09:06:29.630Z"
   },
   {
    "duration": 63,
    "start_time": "2021-07-08T09:06:29.639Z"
   },
   {
    "duration": 17,
    "start_time": "2021-07-08T09:06:29.704Z"
   },
   {
    "duration": 20,
    "start_time": "2021-07-08T09:06:29.723Z"
   },
   {
    "duration": 6,
    "start_time": "2021-07-08T09:06:29.745Z"
   },
   {
    "duration": 3,
    "start_time": "2021-07-08T09:06:29.752Z"
   },
   {
    "duration": 7,
    "start_time": "2021-07-08T09:06:29.785Z"
   },
   {
    "duration": 11,
    "start_time": "2021-07-08T09:06:29.794Z"
   },
   {
    "duration": 15,
    "start_time": "2021-07-08T09:06:29.807Z"
   },
   {
    "duration": 8,
    "start_time": "2021-07-08T09:06:29.823Z"
   },
   {
    "duration": 70,
    "start_time": "2021-07-08T09:06:29.832Z"
   },
   {
    "duration": 17,
    "start_time": "2021-07-08T09:06:29.903Z"
   },
   {
    "duration": 9,
    "start_time": "2021-07-08T09:06:29.921Z"
   },
   {
    "duration": 9,
    "start_time": "2021-07-08T09:06:29.932Z"
   },
   {
    "duration": 57,
    "start_time": "2021-07-08T09:06:29.942Z"
   },
   {
    "duration": 11,
    "start_time": "2021-07-08T09:06:30.001Z"
   },
   {
    "duration": 19,
    "start_time": "2021-07-08T09:06:30.016Z"
   },
   {
    "duration": 217,
    "start_time": "2021-07-08T09:06:30.037Z"
   },
   {
    "duration": 6,
    "start_time": "2021-07-08T09:06:30.255Z"
   },
   {
    "duration": 205,
    "start_time": "2021-07-08T09:06:30.263Z"
   },
   {
    "duration": 27,
    "start_time": "2021-07-08T09:06:30.470Z"
   },
   {
    "duration": 11,
    "start_time": "2021-07-08T09:06:30.500Z"
   },
   {
    "duration": 31,
    "start_time": "2021-07-08T09:06:30.513Z"
   },
   {
    "duration": 18,
    "start_time": "2021-07-08T09:06:30.546Z"
   },
   {
    "duration": 11,
    "start_time": "2021-07-08T09:06:30.566Z"
   },
   {
    "duration": 19,
    "start_time": "2021-07-08T09:06:30.579Z"
   },
   {
    "duration": 20,
    "start_time": "2021-07-08T09:06:49.466Z"
   },
   {
    "duration": 9,
    "start_time": "2021-07-08T09:06:51.994Z"
   },
   {
    "duration": 20,
    "start_time": "2021-07-08T09:06:52.273Z"
   },
   {
    "duration": 246,
    "start_time": "2021-07-08T09:10:21.272Z"
   },
   {
    "duration": 84,
    "start_time": "2021-07-08T09:10:21.436Z"
   },
   {
    "duration": 7,
    "start_time": "2021-07-08T09:10:37.608Z"
   },
   {
    "duration": 189,
    "start_time": "2021-07-08T09:10:38.573Z"
   },
   {
    "duration": 185,
    "start_time": "2021-07-08T09:10:53.181Z"
   },
   {
    "duration": 11,
    "start_time": "2021-07-08T09:10:59.549Z"
   },
   {
    "duration": 42,
    "start_time": "2021-07-08T09:10:59.709Z"
   },
   {
    "duration": 12,
    "start_time": "2021-07-08T09:11:02.857Z"
   },
   {
    "duration": 28,
    "start_time": "2021-07-08T09:11:10.062Z"
   },
   {
    "duration": 249,
    "start_time": "2021-07-08T09:11:37.388Z"
   },
   {
    "duration": 232,
    "start_time": "2021-07-08T09:11:49.485Z"
   },
   {
    "duration": 453,
    "start_time": "2021-07-08T09:12:01.546Z"
   },
   {
    "duration": 440,
    "start_time": "2021-07-08T09:12:12.347Z"
   },
   {
    "duration": 213,
    "start_time": "2021-07-08T09:13:32.196Z"
   },
   {
    "duration": 172,
    "start_time": "2021-07-08T09:14:07.400Z"
   },
   {
    "duration": 185,
    "start_time": "2021-07-08T09:14:14.905Z"
   },
   {
    "duration": 209,
    "start_time": "2021-07-08T09:14:40.109Z"
   },
   {
    "duration": 201,
    "start_time": "2021-07-08T09:14:54.506Z"
   },
   {
    "duration": 622,
    "start_time": "2021-07-08T09:18:14.497Z"
   },
   {
    "duration": 220,
    "start_time": "2021-07-08T09:18:15.121Z"
   },
   {
    "duration": 79,
    "start_time": "2021-07-08T09:18:15.343Z"
   },
   {
    "duration": 4,
    "start_time": "2021-07-08T09:18:15.425Z"
   },
   {
    "duration": 24,
    "start_time": "2021-07-08T09:18:15.431Z"
   },
   {
    "duration": 8,
    "start_time": "2021-07-08T09:18:15.457Z"
   },
   {
    "duration": 16,
    "start_time": "2021-07-08T09:18:15.466Z"
   },
   {
    "duration": 5,
    "start_time": "2021-07-08T09:18:15.484Z"
   },
   {
    "duration": 10,
    "start_time": "2021-07-08T09:18:15.493Z"
   },
   {
    "duration": 8,
    "start_time": "2021-07-08T09:18:15.504Z"
   },
   {
    "duration": 7,
    "start_time": "2021-07-08T09:18:15.513Z"
   },
   {
    "duration": 26,
    "start_time": "2021-07-08T09:18:15.522Z"
   },
   {
    "duration": 49,
    "start_time": "2021-07-08T09:18:15.550Z"
   },
   {
    "duration": 21,
    "start_time": "2021-07-08T09:18:15.601Z"
   },
   {
    "duration": 8,
    "start_time": "2021-07-08T09:18:15.624Z"
   },
   {
    "duration": 3,
    "start_time": "2021-07-08T09:18:15.634Z"
   },
   {
    "duration": 8,
    "start_time": "2021-07-08T09:18:15.639Z"
   },
   {
    "duration": 45,
    "start_time": "2021-07-08T09:18:15.649Z"
   },
   {
    "duration": 13,
    "start_time": "2021-07-08T09:18:15.696Z"
   },
   {
    "duration": 10,
    "start_time": "2021-07-08T09:18:15.711Z"
   },
   {
    "duration": 64,
    "start_time": "2021-07-08T09:18:15.722Z"
   },
   {
    "duration": 19,
    "start_time": "2021-07-08T09:18:15.788Z"
   },
   {
    "duration": 9,
    "start_time": "2021-07-08T09:18:15.809Z"
   },
   {
    "duration": 9,
    "start_time": "2021-07-08T09:18:15.820Z"
   },
   {
    "duration": 18,
    "start_time": "2021-07-08T09:18:15.831Z"
   },
   {
    "duration": 43,
    "start_time": "2021-07-08T09:18:15.851Z"
   },
   {
    "duration": 12,
    "start_time": "2021-07-08T09:18:15.897Z"
   },
   {
    "duration": 219,
    "start_time": "2021-07-08T09:18:15.911Z"
   },
   {
    "duration": 8,
    "start_time": "2021-07-08T09:18:16.132Z"
   },
   {
    "duration": 199,
    "start_time": "2021-07-08T09:18:16.141Z"
   },
   {
    "duration": 18,
    "start_time": "2021-07-08T09:18:16.341Z"
   },
   {
    "duration": 24,
    "start_time": "2021-07-08T09:18:16.361Z"
   },
   {
    "duration": 24,
    "start_time": "2021-07-08T09:18:16.387Z"
   },
   {
    "duration": 211,
    "start_time": "2021-07-08T09:18:16.413Z"
   },
   {
    "duration": 18,
    "start_time": "2021-07-08T09:18:16.626Z"
   },
   {
    "duration": 596,
    "start_time": "2021-07-08T10:06:33.623Z"
   },
   {
    "duration": 181,
    "start_time": "2021-07-08T10:06:34.221Z"
   },
   {
    "duration": 176,
    "start_time": "2021-07-08T10:06:34.635Z"
   },
   {
    "duration": 239,
    "start_time": "2021-07-08T10:06:55.572Z"
   },
   {
    "duration": 6,
    "start_time": "2021-07-08T10:06:57.687Z"
   },
   {
    "duration": 4,
    "start_time": "2021-07-08T10:07:03.956Z"
   },
   {
    "duration": 4,
    "start_time": "2021-07-08T10:07:10.376Z"
   },
   {
    "duration": 4,
    "start_time": "2021-07-08T10:17:19.889Z"
   },
   {
    "duration": 3,
    "start_time": "2021-07-08T10:19:19.407Z"
   },
   {
    "duration": 197,
    "start_time": "2021-07-08T10:19:19.412Z"
   },
   {
    "duration": 127,
    "start_time": "2021-07-08T10:19:19.611Z"
   },
   {
    "duration": 4,
    "start_time": "2021-07-08T10:19:19.740Z"
   },
   {
    "duration": 27,
    "start_time": "2021-07-08T10:19:19.746Z"
   },
   {
    "duration": 7,
    "start_time": "2021-07-08T10:19:19.775Z"
   },
   {
    "duration": 30,
    "start_time": "2021-07-08T10:19:19.784Z"
   },
   {
    "duration": 7,
    "start_time": "2021-07-08T10:19:19.817Z"
   },
   {
    "duration": 26,
    "start_time": "2021-07-08T10:19:19.826Z"
   },
   {
    "duration": 18,
    "start_time": "2021-07-08T10:19:19.854Z"
   },
   {
    "duration": 14,
    "start_time": "2021-07-08T10:19:19.874Z"
   },
   {
    "duration": 48,
    "start_time": "2021-07-08T10:19:19.890Z"
   },
   {
    "duration": 17,
    "start_time": "2021-07-08T10:19:19.940Z"
   },
   {
    "duration": 38,
    "start_time": "2021-07-08T10:19:19.959Z"
   },
   {
    "duration": 8,
    "start_time": "2021-07-08T10:19:19.999Z"
   },
   {
    "duration": 15,
    "start_time": "2021-07-08T10:19:20.009Z"
   },
   {
    "duration": 22,
    "start_time": "2021-07-08T10:19:20.026Z"
   },
   {
    "duration": 10,
    "start_time": "2021-07-08T10:19:20.050Z"
   },
   {
    "duration": 10,
    "start_time": "2021-07-08T10:19:20.062Z"
   },
   {
    "duration": 20,
    "start_time": "2021-07-08T10:19:20.073Z"
   },
   {
    "duration": 29,
    "start_time": "2021-07-08T10:19:20.095Z"
   },
   {
    "duration": 17,
    "start_time": "2021-07-08T10:19:20.126Z"
   },
   {
    "duration": 40,
    "start_time": "2021-07-08T10:19:20.146Z"
   },
   {
    "duration": 15,
    "start_time": "2021-07-08T10:19:20.189Z"
   },
   {
    "duration": 19,
    "start_time": "2021-07-08T10:19:20.206Z"
   },
   {
    "duration": 10,
    "start_time": "2021-07-08T10:19:20.226Z"
   },
   {
    "duration": 11,
    "start_time": "2021-07-08T10:19:20.238Z"
   },
   {
    "duration": 297,
    "start_time": "2021-07-08T10:19:20.250Z"
   },
   {
    "duration": 6,
    "start_time": "2021-07-08T10:19:20.549Z"
   },
   {
    "duration": 191,
    "start_time": "2021-07-08T10:19:20.557Z"
   },
   {
    "duration": 19,
    "start_time": "2021-07-08T10:19:20.750Z"
   },
   {
    "duration": 20,
    "start_time": "2021-07-08T10:19:20.771Z"
   },
   {
    "duration": 15,
    "start_time": "2021-07-08T10:19:20.793Z"
   },
   {
    "duration": 222,
    "start_time": "2021-07-08T10:19:20.809Z"
   },
   {
    "duration": 20,
    "start_time": "2021-07-08T10:19:21.033Z"
   },
   {
    "duration": 27,
    "start_time": "2021-07-08T10:45:04.055Z"
   },
   {
    "duration": 8,
    "start_time": "2021-07-08T10:45:08.478Z"
   },
   {
    "duration": 8,
    "start_time": "2021-07-08T10:45:31.982Z"
   },
   {
    "duration": 10,
    "start_time": "2021-07-08T10:46:01.221Z"
   },
   {
    "duration": 17,
    "start_time": "2021-07-08T10:46:40.011Z"
   },
   {
    "duration": 193,
    "start_time": "2021-07-08T10:48:19.471Z"
   },
   {
    "duration": 225,
    "start_time": "2021-07-08T10:49:26.480Z"
   },
   {
    "duration": 204,
    "start_time": "2021-07-08T10:49:59.992Z"
   },
   {
    "duration": 435,
    "start_time": "2021-07-08T10:50:06.779Z"
   },
   {
    "duration": 199,
    "start_time": "2021-07-08T10:50:14.891Z"
   },
   {
    "duration": 204,
    "start_time": "2021-07-08T10:50:18.501Z"
   },
   {
    "duration": 244,
    "start_time": "2021-07-08T10:50:23.359Z"
   },
   {
    "duration": 192,
    "start_time": "2021-07-08T10:50:29.135Z"
   },
   {
    "duration": 218,
    "start_time": "2021-07-08T10:50:33.092Z"
   },
   {
    "duration": 207,
    "start_time": "2021-07-08T10:52:45.381Z"
   },
   {
    "duration": 5,
    "start_time": "2021-07-08T10:53:34.641Z"
   },
   {
    "duration": 196,
    "start_time": "2021-07-08T10:53:41.478Z"
   },
   {
    "duration": 43,
    "start_time": "2021-07-08T10:53:50.335Z"
   },
   {
    "duration": 32,
    "start_time": "2021-07-08T10:53:55.294Z"
   },
   {
    "duration": 55,
    "start_time": "2021-07-08T10:54:09.675Z"
   },
   {
    "duration": 16,
    "start_time": "2021-07-08T10:54:12.260Z"
   },
   {
    "duration": 15,
    "start_time": "2021-07-08T10:54:49.150Z"
   },
   {
    "duration": 20,
    "start_time": "2021-07-08T10:56:07.596Z"
   },
   {
    "duration": 16,
    "start_time": "2021-07-08T10:58:26.276Z"
   },
   {
    "duration": 22,
    "start_time": "2021-07-08T10:59:00.486Z"
   },
   {
    "duration": 18,
    "start_time": "2021-07-08T11:02:09.653Z"
   },
   {
    "duration": 10,
    "start_time": "2021-07-08T11:03:44.331Z"
   },
   {
    "duration": 10,
    "start_time": "2021-07-08T11:03:54.055Z"
   },
   {
    "duration": 12,
    "start_time": "2021-07-08T11:04:41.967Z"
   },
   {
    "duration": 24,
    "start_time": "2021-07-08T11:07:30.732Z"
   },
   {
    "duration": 6,
    "start_time": "2021-07-08T11:07:37.364Z"
   },
   {
    "duration": 16,
    "start_time": "2021-07-08T11:08:01.819Z"
   },
   {
    "duration": 17,
    "start_time": "2021-07-08T11:09:47.488Z"
   },
   {
    "duration": 246,
    "start_time": "2021-07-08T11:10:00.830Z"
   },
   {
    "duration": 18,
    "start_time": "2021-07-08T11:13:55.195Z"
   },
   {
    "duration": 204,
    "start_time": "2021-07-08T11:14:04.951Z"
   },
   {
    "duration": 19,
    "start_time": "2021-07-08T11:15:10.613Z"
   },
   {
    "duration": 680,
    "start_time": "2021-07-08T11:16:25.793Z"
   },
   {
    "duration": 451,
    "start_time": "2021-07-08T11:16:40.313Z"
   },
   {
    "duration": 469,
    "start_time": "2021-07-08T11:17:21.286Z"
   },
   {
    "duration": 20,
    "start_time": "2021-07-08T11:19:12.554Z"
   },
   {
    "duration": 35,
    "start_time": "2021-07-08T11:20:05.484Z"
   },
   {
    "duration": 53,
    "start_time": "2021-07-08T11:21:40.050Z"
   },
   {
    "duration": 13,
    "start_time": "2021-07-08T11:22:26.059Z"
   },
   {
    "duration": 19,
    "start_time": "2021-07-08T11:22:47.419Z"
   },
   {
    "duration": 25,
    "start_time": "2021-07-08T11:23:19.958Z"
   },
   {
    "duration": 29,
    "start_time": "2021-07-08T11:23:25.415Z"
   },
   {
    "duration": 10,
    "start_time": "2021-07-08T11:24:45.138Z"
   },
   {
    "duration": 19,
    "start_time": "2021-07-08T11:24:54.498Z"
   },
   {
    "duration": 12,
    "start_time": "2021-07-08T11:25:32.225Z"
   },
   {
    "duration": 19,
    "start_time": "2021-07-08T11:25:37.092Z"
   },
   {
    "duration": 17,
    "start_time": "2021-07-08T11:25:58.116Z"
   },
   {
    "duration": 15,
    "start_time": "2021-07-08T11:26:02.258Z"
   },
   {
    "duration": 8,
    "start_time": "2021-07-08T11:26:59.682Z"
   },
   {
    "duration": 184,
    "start_time": "2021-07-08T11:27:21.894Z"
   },
   {
    "duration": 8,
    "start_time": "2021-07-08T11:27:23.824Z"
   },
   {
    "duration": 202,
    "start_time": "2021-07-08T11:27:23.962Z"
   },
   {
    "duration": 360,
    "start_time": "2021-07-08T11:28:33.215Z"
   },
   {
    "duration": 231,
    "start_time": "2021-07-08T11:32:05.542Z"
   },
   {
    "duration": 607,
    "start_time": "2021-07-08T11:36:27.854Z"
   },
   {
    "duration": 241,
    "start_time": "2021-07-08T11:36:28.463Z"
   },
   {
    "duration": 67,
    "start_time": "2021-07-08T11:36:28.709Z"
   },
   {
    "duration": 5,
    "start_time": "2021-07-08T11:36:28.778Z"
   },
   {
    "duration": 32,
    "start_time": "2021-07-08T11:36:28.784Z"
   },
   {
    "duration": 11,
    "start_time": "2021-07-08T11:36:28.819Z"
   },
   {
    "duration": 20,
    "start_time": "2021-07-08T11:36:28.834Z"
   },
   {
    "duration": 36,
    "start_time": "2021-07-08T11:36:28.857Z"
   },
   {
    "duration": 16,
    "start_time": "2021-07-08T11:36:28.895Z"
   },
   {
    "duration": 14,
    "start_time": "2021-07-08T11:36:28.913Z"
   },
   {
    "duration": 9,
    "start_time": "2021-07-08T11:36:28.930Z"
   },
   {
    "duration": 55,
    "start_time": "2021-07-08T11:36:28.941Z"
   },
   {
    "duration": 27,
    "start_time": "2021-07-08T11:36:28.999Z"
   },
   {
    "duration": 30,
    "start_time": "2021-07-08T11:36:29.028Z"
   },
   {
    "duration": 31,
    "start_time": "2021-07-08T11:36:29.060Z"
   },
   {
    "duration": 3,
    "start_time": "2021-07-08T11:36:29.093Z"
   },
   {
    "duration": 12,
    "start_time": "2021-07-08T11:36:29.099Z"
   },
   {
    "duration": 11,
    "start_time": "2021-07-08T11:36:29.112Z"
   },
   {
    "duration": 12,
    "start_time": "2021-07-08T11:36:29.125Z"
   },
   {
    "duration": 9,
    "start_time": "2021-07-08T11:36:29.139Z"
   },
   {
    "duration": 31,
    "start_time": "2021-07-08T11:36:29.191Z"
   },
   {
    "duration": 17,
    "start_time": "2021-07-08T11:36:29.226Z"
   },
   {
    "duration": 7,
    "start_time": "2021-07-08T11:36:29.245Z"
   },
   {
    "duration": 10,
    "start_time": "2021-07-08T11:36:29.254Z"
   },
   {
    "duration": 30,
    "start_time": "2021-07-08T11:36:29.292Z"
   },
   {
    "duration": 11,
    "start_time": "2021-07-08T11:36:29.324Z"
   },
   {
    "duration": 11,
    "start_time": "2021-07-08T11:36:29.337Z"
   },
   {
    "duration": 230,
    "start_time": "2021-07-08T11:36:29.349Z"
   },
   {
    "duration": 13,
    "start_time": "2021-07-08T11:36:29.588Z"
   },
   {
    "duration": 205,
    "start_time": "2021-07-08T11:36:29.603Z"
   },
   {
    "duration": 20,
    "start_time": "2021-07-08T11:36:29.810Z"
   },
   {
    "duration": 9,
    "start_time": "2021-07-08T11:36:29.832Z"
   },
   {
    "duration": 16,
    "start_time": "2021-07-08T11:36:29.843Z"
   },
   {
    "duration": 283,
    "start_time": "2021-07-08T11:36:29.861Z"
   },
   {
    "duration": 50,
    "start_time": "2021-07-08T11:36:30.146Z"
   },
   {
    "duration": 14,
    "start_time": "2021-07-08T11:36:30.198Z"
   },
   {
    "duration": 11,
    "start_time": "2021-07-08T11:36:30.214Z"
   },
   {
    "duration": 245,
    "start_time": "2021-07-08T11:36:30.227Z"
   },
   {
    "duration": 439,
    "start_time": "2021-07-08T11:36:30.474Z"
   },
   {
    "duration": 210,
    "start_time": "2021-07-08T11:36:30.915Z"
   },
   {
    "duration": 15,
    "start_time": "2021-07-08T11:36:31.127Z"
   },
   {
    "duration": 17,
    "start_time": "2021-07-08T11:38:20.451Z"
   },
   {
    "duration": 642,
    "start_time": "2021-07-08T11:46:17.881Z"
   },
   {
    "duration": 210,
    "start_time": "2021-07-08T11:46:18.525Z"
   },
   {
    "duration": 104,
    "start_time": "2021-07-08T11:46:18.741Z"
   },
   {
    "duration": 8,
    "start_time": "2021-07-08T11:46:18.847Z"
   },
   {
    "duration": 25,
    "start_time": "2021-07-08T11:46:18.857Z"
   },
   {
    "duration": 14,
    "start_time": "2021-07-08T11:46:18.884Z"
   },
   {
    "duration": 22,
    "start_time": "2021-07-08T11:46:18.900Z"
   },
   {
    "duration": 5,
    "start_time": "2021-07-08T11:46:18.924Z"
   },
   {
    "duration": 13,
    "start_time": "2021-07-08T11:46:18.931Z"
   },
   {
    "duration": 45,
    "start_time": "2021-07-08T11:46:18.946Z"
   },
   {
    "duration": 12,
    "start_time": "2021-07-08T11:46:18.993Z"
   },
   {
    "duration": 38,
    "start_time": "2021-07-08T11:46:19.006Z"
   },
   {
    "duration": 50,
    "start_time": "2021-07-08T11:46:19.046Z"
   },
   {
    "duration": 29,
    "start_time": "2021-07-08T11:46:19.099Z"
   },
   {
    "duration": 7,
    "start_time": "2021-07-08T11:46:19.130Z"
   },
   {
    "duration": 3,
    "start_time": "2021-07-08T11:46:19.139Z"
   },
   {
    "duration": 11,
    "start_time": "2021-07-08T11:46:19.144Z"
   },
   {
    "duration": 40,
    "start_time": "2021-07-08T11:46:19.157Z"
   },
   {
    "duration": 15,
    "start_time": "2021-07-08T11:46:19.199Z"
   },
   {
    "duration": 10,
    "start_time": "2021-07-08T11:46:19.217Z"
   },
   {
    "duration": 68,
    "start_time": "2021-07-08T11:46:19.230Z"
   },
   {
    "duration": 17,
    "start_time": "2021-07-08T11:46:19.301Z"
   },
   {
    "duration": 7,
    "start_time": "2021-07-08T11:46:19.321Z"
   },
   {
    "duration": 11,
    "start_time": "2021-07-08T11:46:19.330Z"
   },
   {
    "duration": 59,
    "start_time": "2021-07-08T11:46:19.343Z"
   },
   {
    "duration": 17,
    "start_time": "2021-07-08T11:46:19.405Z"
   },
   {
    "duration": 16,
    "start_time": "2021-07-08T11:46:19.424Z"
   },
   {
    "duration": 252,
    "start_time": "2021-07-08T11:46:19.443Z"
   },
   {
    "duration": 9,
    "start_time": "2021-07-08T11:46:19.697Z"
   },
   {
    "duration": 224,
    "start_time": "2021-07-08T11:46:19.708Z"
   },
   {
    "duration": 21,
    "start_time": "2021-07-08T11:46:19.934Z"
   },
   {
    "duration": 9,
    "start_time": "2021-07-08T11:46:19.956Z"
   },
   {
    "duration": 32,
    "start_time": "2021-07-08T11:46:19.967Z"
   },
   {
    "duration": 288,
    "start_time": "2021-07-08T11:46:20.004Z"
   },
   {
    "duration": 23,
    "start_time": "2021-07-08T11:46:20.300Z"
   },
   {
    "duration": 11,
    "start_time": "2021-07-08T11:46:20.325Z"
   },
   {
    "duration": 11,
    "start_time": "2021-07-08T11:46:20.339Z"
   },
   {
    "duration": 259,
    "start_time": "2021-07-08T11:46:20.352Z"
   },
   {
    "duration": 438,
    "start_time": "2021-07-08T11:46:20.613Z"
   },
   {
    "duration": 207,
    "start_time": "2021-07-08T11:46:21.054Z"
   },
   {
    "duration": 27,
    "start_time": "2021-07-08T11:46:21.262Z"
   },
   {
    "duration": 19,
    "start_time": "2021-07-08T11:46:21.291Z"
   },
   {
    "duration": 820,
    "start_time": "2021-07-08T11:49:01.655Z"
   },
   {
    "duration": 372,
    "start_time": "2021-07-08T11:49:02.478Z"
   },
   {
    "duration": 98,
    "start_time": "2021-07-08T11:49:02.853Z"
   },
   {
    "duration": 6,
    "start_time": "2021-07-08T11:49:02.953Z"
   },
   {
    "duration": 39,
    "start_time": "2021-07-08T11:49:02.960Z"
   },
   {
    "duration": 9,
    "start_time": "2021-07-08T11:49:03.003Z"
   },
   {
    "duration": 23,
    "start_time": "2021-07-08T11:49:03.014Z"
   },
   {
    "duration": 6,
    "start_time": "2021-07-08T11:49:03.041Z"
   },
   {
    "duration": 20,
    "start_time": "2021-07-08T11:49:03.049Z"
   },
   {
    "duration": 18,
    "start_time": "2021-07-08T11:49:03.084Z"
   },
   {
    "duration": 14,
    "start_time": "2021-07-08T11:49:03.104Z"
   },
   {
    "duration": 39,
    "start_time": "2021-07-08T11:49:03.119Z"
   },
   {
    "duration": 38,
    "start_time": "2021-07-08T11:49:03.160Z"
   },
   {
    "duration": 26,
    "start_time": "2021-07-08T11:49:03.200Z"
   },
   {
    "duration": 7,
    "start_time": "2021-07-08T11:49:03.227Z"
   },
   {
    "duration": 4,
    "start_time": "2021-07-08T11:49:03.236Z"
   },
   {
    "duration": 15,
    "start_time": "2021-07-08T11:49:03.243Z"
   },
   {
    "duration": 21,
    "start_time": "2021-07-08T11:49:03.285Z"
   },
   {
    "duration": 17,
    "start_time": "2021-07-08T11:49:03.309Z"
   },
   {
    "duration": 10,
    "start_time": "2021-07-08T11:49:03.328Z"
   },
   {
    "duration": 65,
    "start_time": "2021-07-08T11:49:03.340Z"
   },
   {
    "duration": 18,
    "start_time": "2021-07-08T11:49:03.407Z"
   },
   {
    "duration": 8,
    "start_time": "2021-07-08T11:49:03.428Z"
   },
   {
    "duration": 15,
    "start_time": "2021-07-08T11:49:03.438Z"
   },
   {
    "duration": 40,
    "start_time": "2021-07-08T11:49:03.455Z"
   },
   {
    "duration": 12,
    "start_time": "2021-07-08T11:49:03.497Z"
   },
   {
    "duration": 29,
    "start_time": "2021-07-08T11:49:03.511Z"
   },
   {
    "duration": 285,
    "start_time": "2021-07-08T11:49:03.542Z"
   },
   {
    "duration": 8,
    "start_time": "2021-07-08T11:49:03.829Z"
   },
   {
    "duration": 227,
    "start_time": "2021-07-08T11:49:03.838Z"
   },
   {
    "duration": 40,
    "start_time": "2021-07-08T11:49:04.066Z"
   },
   {
    "duration": 10,
    "start_time": "2021-07-08T11:49:04.108Z"
   },
   {
    "duration": 26,
    "start_time": "2021-07-08T11:49:04.121Z"
   },
   {
    "duration": 290,
    "start_time": "2021-07-08T11:49:04.149Z"
   },
   {
    "duration": 26,
    "start_time": "2021-07-08T11:49:04.441Z"
   },
   {
    "duration": 31,
    "start_time": "2021-07-08T11:49:04.470Z"
   },
   {
    "duration": 14,
    "start_time": "2021-07-08T11:49:04.503Z"
   },
   {
    "duration": 259,
    "start_time": "2021-07-08T11:49:04.521Z"
   },
   {
    "duration": 480,
    "start_time": "2021-07-08T11:49:04.782Z"
   },
   {
    "duration": 225,
    "start_time": "2021-07-08T11:49:05.264Z"
   },
   {
    "duration": 22,
    "start_time": "2021-07-08T11:49:05.491Z"
   },
   {
    "duration": 24,
    "start_time": "2021-07-08T11:49:05.515Z"
   },
   {
    "duration": 634,
    "start_time": "2021-07-08T11:52:24.960Z"
   },
   {
    "duration": 199,
    "start_time": "2021-07-08T11:52:25.599Z"
   },
   {
    "duration": 106,
    "start_time": "2021-07-08T11:52:25.803Z"
   },
   {
    "duration": 7,
    "start_time": "2021-07-08T11:52:25.911Z"
   },
   {
    "duration": 29,
    "start_time": "2021-07-08T11:52:25.920Z"
   },
   {
    "duration": 7,
    "start_time": "2021-07-08T11:52:25.951Z"
   },
   {
    "duration": 26,
    "start_time": "2021-07-08T11:52:25.961Z"
   },
   {
    "duration": 11,
    "start_time": "2021-07-08T11:52:25.990Z"
   },
   {
    "duration": 29,
    "start_time": "2021-07-08T11:52:26.005Z"
   },
   {
    "duration": 9,
    "start_time": "2021-07-08T11:52:26.036Z"
   },
   {
    "duration": 8,
    "start_time": "2021-07-08T11:52:26.047Z"
   },
   {
    "duration": 63,
    "start_time": "2021-07-08T11:52:26.057Z"
   },
   {
    "duration": 17,
    "start_time": "2021-07-08T11:52:26.122Z"
   },
   {
    "duration": 43,
    "start_time": "2021-07-08T11:52:26.142Z"
   },
   {
    "duration": 17,
    "start_time": "2021-07-08T11:52:26.187Z"
   },
   {
    "duration": 5,
    "start_time": "2021-07-08T11:52:26.206Z"
   },
   {
    "duration": 12,
    "start_time": "2021-07-08T11:52:26.212Z"
   },
   {
    "duration": 11,
    "start_time": "2021-07-08T11:52:26.226Z"
   },
   {
    "duration": 12,
    "start_time": "2021-07-08T11:52:26.238Z"
   },
   {
    "duration": 38,
    "start_time": "2021-07-08T11:52:26.252Z"
   },
   {
    "duration": 40,
    "start_time": "2021-07-08T11:52:26.292Z"
   },
   {
    "duration": 17,
    "start_time": "2021-07-08T11:52:26.336Z"
   },
   {
    "duration": 39,
    "start_time": "2021-07-08T11:52:26.355Z"
   },
   {
    "duration": 11,
    "start_time": "2021-07-08T11:52:26.395Z"
   },
   {
    "duration": 23,
    "start_time": "2021-07-08T11:52:26.408Z"
   },
   {
    "duration": 12,
    "start_time": "2021-07-08T11:52:26.432Z"
   },
   {
    "duration": 41,
    "start_time": "2021-07-08T11:52:26.446Z"
   },
   {
    "duration": 215,
    "start_time": "2021-07-08T11:52:26.493Z"
   },
   {
    "duration": 8,
    "start_time": "2021-07-08T11:52:26.710Z"
   },
   {
    "duration": 228,
    "start_time": "2021-07-08T11:52:26.720Z"
   },
   {
    "duration": 18,
    "start_time": "2021-07-08T11:52:26.950Z"
   },
   {
    "duration": 35,
    "start_time": "2021-07-08T11:52:26.969Z"
   },
   {
    "duration": 23,
    "start_time": "2021-07-08T11:52:27.006Z"
   },
   {
    "duration": 258,
    "start_time": "2021-07-08T11:52:27.030Z"
   },
   {
    "duration": 24,
    "start_time": "2021-07-08T11:52:27.290Z"
   },
   {
    "duration": 12,
    "start_time": "2021-07-08T11:52:27.316Z"
   },
   {
    "duration": 10,
    "start_time": "2021-07-08T11:52:27.329Z"
   },
   {
    "duration": 298,
    "start_time": "2021-07-08T11:52:27.341Z"
   },
   {
    "duration": 436,
    "start_time": "2021-07-08T11:52:27.641Z"
   },
   {
    "duration": 216,
    "start_time": "2021-07-08T11:52:28.079Z"
   },
   {
    "duration": 20,
    "start_time": "2021-07-08T11:52:28.297Z"
   },
   {
    "duration": 17,
    "start_time": "2021-07-08T11:52:28.319Z"
   },
   {
    "duration": 1496,
    "start_time": "2022-04-07T12:52:05.192Z"
   },
   {
    "duration": 154,
    "start_time": "2022-04-07T12:52:53.638Z"
   },
   {
    "duration": 152,
    "start_time": "2022-04-07T12:53:16.114Z"
   },
   {
    "duration": 63,
    "start_time": "2022-04-07T12:53:32.342Z"
   },
   {
    "duration": 71,
    "start_time": "2022-04-07T12:57:15.092Z"
   },
   {
    "duration": 143,
    "start_time": "2022-04-07T12:57:40.141Z"
   },
   {
    "duration": 132,
    "start_time": "2022-04-07T12:58:22.735Z"
   },
   {
    "duration": 5,
    "start_time": "2022-04-07T12:58:54.989Z"
   },
   {
    "duration": 108,
    "start_time": "2022-04-07T12:58:57.545Z"
   },
   {
    "duration": 1243,
    "start_time": "2022-04-07T12:59:06.234Z"
   },
   {
    "duration": 8,
    "start_time": "2022-04-07T12:59:13.727Z"
   },
   {
    "duration": 29,
    "start_time": "2022-04-07T13:02:45.160Z"
   },
   {
    "duration": 159,
    "start_time": "2022-04-07T13:27:09.403Z"
   },
   {
    "duration": 18,
    "start_time": "2022-04-07T13:27:31.235Z"
   },
   {
    "duration": 126,
    "start_time": "2022-04-07T13:30:11.249Z"
   },
   {
    "duration": 98,
    "start_time": "2022-04-07T13:30:42.950Z"
   },
   {
    "duration": 102,
    "start_time": "2022-04-07T13:31:03.636Z"
   },
   {
    "duration": 116,
    "start_time": "2022-04-07T13:31:37.170Z"
   },
   {
    "duration": 122,
    "start_time": "2022-04-07T13:32:18.218Z"
   },
   {
    "duration": 1836,
    "start_time": "2022-04-07T15:34:29.284Z"
   },
   {
    "duration": 3530,
    "start_time": "2022-04-07T15:34:32.228Z"
   },
   {
    "duration": 68,
    "start_time": "2022-04-07T15:34:54.532Z"
   },
   {
    "duration": 62,
    "start_time": "2022-04-07T15:35:23.723Z"
   },
   {
    "duration": 91,
    "start_time": "2022-04-07T15:35:28.316Z"
   },
   {
    "duration": 100,
    "start_time": "2022-04-07T15:35:32.489Z"
   },
   {
    "duration": 98,
    "start_time": "2022-04-07T15:35:37.866Z"
   },
   {
    "duration": 91,
    "start_time": "2022-04-07T15:35:42.880Z"
   },
   {
    "duration": 62,
    "start_time": "2022-04-07T15:35:52.974Z"
   },
   {
    "duration": 16,
    "start_time": "2022-04-07T15:36:37.496Z"
   },
   {
    "duration": 33,
    "start_time": "2022-04-07T15:37:35.659Z"
   },
   {
    "duration": 136,
    "start_time": "2022-04-07T15:38:56.857Z"
   },
   {
    "duration": 27,
    "start_time": "2022-04-07T15:38:59.092Z"
   },
   {
    "duration": 15,
    "start_time": "2022-04-07T15:39:03.325Z"
   },
   {
    "duration": 43,
    "start_time": "2022-04-07T15:44:33.168Z"
   },
   {
    "duration": 21,
    "start_time": "2022-04-07T15:44:50.001Z"
   },
   {
    "duration": 10,
    "start_time": "2022-04-07T15:45:44.934Z"
   },
   {
    "duration": 9,
    "start_time": "2022-04-07T15:48:43.486Z"
   },
   {
    "duration": 11,
    "start_time": "2022-04-07T15:49:07.594Z"
   },
   {
    "duration": 19,
    "start_time": "2022-04-07T15:49:49.881Z"
   },
   {
    "duration": 14,
    "start_time": "2022-04-07T15:50:24.916Z"
   },
   {
    "duration": 13,
    "start_time": "2022-04-07T15:50:32.923Z"
   },
   {
    "duration": 912,
    "start_time": "2022-04-07T15:51:14.580Z"
   },
   {
    "duration": 15,
    "start_time": "2022-04-07T15:54:09.593Z"
   },
   {
    "duration": 202,
    "start_time": "2022-04-07T15:55:44.718Z"
   },
   {
    "duration": 232,
    "start_time": "2022-04-07T15:55:47.893Z"
   },
   {
    "duration": 16,
    "start_time": "2022-04-07T15:55:50.883Z"
   },
   {
    "duration": 16,
    "start_time": "2022-04-07T15:57:26.564Z"
   },
   {
    "duration": 15,
    "start_time": "2022-04-07T15:57:36.804Z"
   },
   {
    "duration": 15,
    "start_time": "2022-04-07T15:57:43.812Z"
   },
   {
    "duration": 19,
    "start_time": "2022-04-07T15:57:46.803Z"
   },
   {
    "duration": 1282,
    "start_time": "2022-04-07T15:59:18.665Z"
   },
   {
    "duration": 17,
    "start_time": "2022-04-07T16:00:01.896Z"
   },
   {
    "duration": 17,
    "start_time": "2022-04-07T16:00:08.909Z"
   },
   {
    "duration": 18,
    "start_time": "2022-04-07T16:00:35.842Z"
   },
   {
    "duration": 3258,
    "start_time": "2022-04-07T16:00:54.468Z"
   },
   {
    "duration": 43,
    "start_time": "2022-04-07T16:01:11.731Z"
   },
   {
    "duration": 245,
    "start_time": "2022-04-07T16:01:21.817Z"
   },
   {
    "duration": 1301,
    "start_time": "2022-04-07T16:02:27.728Z"
   },
   {
    "duration": 10,
    "start_time": "2022-04-07T16:02:37.287Z"
   },
   {
    "duration": 15,
    "start_time": "2022-04-07T16:03:08.291Z"
   },
   {
    "duration": 50,
    "start_time": "2022-04-07T16:03:14.807Z"
   },
   {
    "duration": 58,
    "start_time": "2022-04-07T16:07:24.112Z"
   },
   {
    "duration": 51,
    "start_time": "2022-04-07T16:07:47.812Z"
   },
   {
    "duration": 26,
    "start_time": "2022-04-07T16:07:54.416Z"
   },
   {
    "duration": 25,
    "start_time": "2022-04-07T16:08:00.072Z"
   },
   {
    "duration": 22,
    "start_time": "2022-04-07T16:08:14.733Z"
   },
   {
    "duration": 23,
    "start_time": "2022-04-07T16:08:27.651Z"
   },
   {
    "duration": 1576,
    "start_time": "2022-04-07T16:08:43.420Z"
   },
   {
    "duration": 22,
    "start_time": "2022-04-07T16:08:44.999Z"
   },
   {
    "duration": 9,
    "start_time": "2022-04-07T16:08:46.424Z"
   },
   {
    "duration": 16,
    "start_time": "2022-04-07T16:08:47.653Z"
   },
   {
    "duration": 24,
    "start_time": "2022-04-07T16:08:49.059Z"
   },
   {
    "duration": 20,
    "start_time": "2022-04-07T16:10:14.418Z"
   },
   {
    "duration": 13,
    "start_time": "2022-04-07T16:10:22.986Z"
   },
   {
    "duration": 20,
    "start_time": "2022-04-07T16:10:30.362Z"
   },
   {
    "duration": 14,
    "start_time": "2022-04-07T16:10:48.282Z"
   },
   {
    "duration": 21,
    "start_time": "2022-04-07T16:12:06.055Z"
   },
   {
    "duration": 198,
    "start_time": "2022-04-07T16:13:47.264Z"
   },
   {
    "duration": 14,
    "start_time": "2022-04-07T16:14:10.636Z"
   },
   {
    "duration": 1663,
    "start_time": "2022-04-07T16:17:37.750Z"
   },
   {
    "duration": 43,
    "start_time": "2022-04-07T16:20:54.302Z"
   },
   {
    "duration": 6,
    "start_time": "2022-04-07T16:21:02.760Z"
   },
   {
    "duration": 1132,
    "start_time": "2022-04-07T16:22:16.851Z"
   },
   {
    "duration": 745,
    "start_time": "2022-04-07T16:22:23.576Z"
   },
   {
    "duration": 11,
    "start_time": "2022-04-07T16:23:01.831Z"
   },
   {
    "duration": 11,
    "start_time": "2022-04-07T16:23:22.709Z"
   },
   {
    "duration": 580,
    "start_time": "2022-04-07T16:23:39.167Z"
   },
   {
    "duration": 535,
    "start_time": "2022-04-07T16:23:52.161Z"
   },
   {
    "duration": 605,
    "start_time": "2022-04-07T16:24:32.042Z"
   },
   {
    "duration": 560,
    "start_time": "2022-04-07T16:24:59.892Z"
   },
   {
    "duration": 555,
    "start_time": "2022-04-07T16:25:45.016Z"
   },
   {
    "duration": 20,
    "start_time": "2022-04-07T16:27:19.543Z"
   },
   {
    "duration": 1368,
    "start_time": "2022-04-07T16:35:27.121Z"
   },
   {
    "duration": 1690,
    "start_time": "2022-04-07T16:36:09.814Z"
   },
   {
    "duration": 1127,
    "start_time": "2022-04-07T16:36:25.846Z"
   },
   {
    "duration": 47,
    "start_time": "2022-04-07T16:37:07.315Z"
   },
   {
    "duration": 86,
    "start_time": "2022-04-07T16:37:18.269Z"
   },
   {
    "duration": 89,
    "start_time": "2022-04-07T16:38:02.074Z"
   },
   {
    "duration": 975,
    "start_time": "2022-04-07T16:40:44.359Z"
   },
   {
    "duration": 1068,
    "start_time": "2022-04-07T16:40:52.373Z"
   },
   {
    "duration": 945,
    "start_time": "2022-04-07T16:42:16.997Z"
   },
   {
    "duration": 896,
    "start_time": "2022-04-07T16:43:30.856Z"
   },
   {
    "duration": 876,
    "start_time": "2022-04-07T16:44:08.301Z"
   },
   {
    "duration": 832,
    "start_time": "2022-04-07T16:44:26.552Z"
   },
   {
    "duration": 887,
    "start_time": "2022-04-07T16:44:35.935Z"
   },
   {
    "duration": 1586,
    "start_time": "2022-04-07T16:44:42.789Z"
   },
   {
    "duration": 14,
    "start_time": "2022-04-07T16:44:44.378Z"
   },
   {
    "duration": 10,
    "start_time": "2022-04-07T16:44:44.394Z"
   },
   {
    "duration": 17,
    "start_time": "2022-04-07T16:44:44.458Z"
   },
   {
    "duration": 15,
    "start_time": "2022-04-07T16:44:45.334Z"
   },
   {
    "duration": 1462,
    "start_time": "2022-04-07T16:44:46.885Z"
   },
   {
    "duration": 6,
    "start_time": "2022-04-07T16:44:48.497Z"
   },
   {
    "duration": 3410,
    "start_time": "2022-04-07T16:44:49.941Z"
   },
   {
    "duration": 41,
    "start_time": "2022-04-07T16:45:09.424Z"
   },
   {
    "duration": 3415,
    "start_time": "2022-04-07T16:45:32.208Z"
   },
   {
    "duration": 3242,
    "start_time": "2022-04-07T16:45:46.710Z"
   },
   {
    "duration": 816,
    "start_time": "2022-04-07T16:46:01.970Z"
   },
   {
    "duration": 924,
    "start_time": "2022-04-07T16:46:27.358Z"
   },
   {
    "duration": 880,
    "start_time": "2022-04-07T16:49:49.070Z"
   },
   {
    "duration": 870,
    "start_time": "2022-04-07T16:50:27.251Z"
   },
   {
    "duration": 997,
    "start_time": "2022-04-07T16:50:49.272Z"
   },
   {
    "duration": 939,
    "start_time": "2022-04-07T16:52:59.377Z"
   },
   {
    "duration": 804,
    "start_time": "2022-04-07T16:55:32.187Z"
   },
   {
    "duration": 816,
    "start_time": "2022-04-07T16:56:25.901Z"
   },
   {
    "duration": 19,
    "start_time": "2022-04-07T16:57:34.349Z"
   },
   {
    "duration": 17,
    "start_time": "2022-04-07T16:57:50.222Z"
   },
   {
    "duration": 17,
    "start_time": "2022-04-07T16:58:24.479Z"
   },
   {
    "duration": 198,
    "start_time": "2022-04-07T16:58:44.077Z"
   },
   {
    "duration": 662,
    "start_time": "2022-04-07T16:58:47.909Z"
   },
   {
    "duration": 628,
    "start_time": "2022-04-07T16:59:10.996Z"
   },
   {
    "duration": 556,
    "start_time": "2022-04-07T16:59:16.701Z"
   },
   {
    "duration": 579,
    "start_time": "2022-04-07T16:59:39.672Z"
   },
   {
    "duration": 848,
    "start_time": "2022-04-07T17:01:37.497Z"
   },
   {
    "duration": 1325,
    "start_time": "2022-04-07T17:02:11.187Z"
   },
   {
    "duration": 852,
    "start_time": "2022-04-07T17:03:23.707Z"
   },
   {
    "duration": 207,
    "start_time": "2022-04-07T17:03:47.224Z"
   },
   {
    "duration": 846,
    "start_time": "2022-04-07T17:03:51.711Z"
   },
   {
    "duration": 849,
    "start_time": "2022-04-07T17:04:12.822Z"
   },
   {
    "duration": 855,
    "start_time": "2022-04-07T17:04:25.275Z"
   },
   {
    "duration": 803,
    "start_time": "2022-04-07T17:05:10.209Z"
   },
   {
    "duration": 1634,
    "start_time": "2022-04-07T17:05:24.452Z"
   },
   {
    "duration": 15,
    "start_time": "2022-04-07T17:05:26.089Z"
   },
   {
    "duration": 21,
    "start_time": "2022-04-07T17:05:26.106Z"
   },
   {
    "duration": 16,
    "start_time": "2022-04-07T17:05:26.307Z"
   },
   {
    "duration": 15,
    "start_time": "2022-04-07T17:05:26.786Z"
   },
   {
    "duration": 1442,
    "start_time": "2022-04-07T17:05:28.009Z"
   },
   {
    "duration": 44,
    "start_time": "2022-04-07T17:05:29.453Z"
   },
   {
    "duration": 1023,
    "start_time": "2022-04-07T17:05:29.656Z"
   },
   {
    "duration": 43,
    "start_time": "2022-04-07T17:05:57.420Z"
   },
   {
    "duration": 829,
    "start_time": "2022-04-07T17:06:39.895Z"
   },
   {
    "duration": 249,
    "start_time": "2022-04-07T17:07:24.760Z"
   },
   {
    "duration": 193,
    "start_time": "2022-04-07T17:07:31.396Z"
   },
   {
    "duration": 207,
    "start_time": "2022-04-07T17:07:39.268Z"
   },
   {
    "duration": 949,
    "start_time": "2022-04-07T17:07:42.169Z"
   },
   {
    "duration": 209,
    "start_time": "2022-04-07T17:08:09.210Z"
   },
   {
    "duration": 1608,
    "start_time": "2022-04-07T17:08:12.750Z"
   },
   {
    "duration": 225,
    "start_time": "2022-04-07T17:09:20.078Z"
   },
   {
    "duration": 869,
    "start_time": "2022-04-07T17:09:26.954Z"
   },
   {
    "duration": 2178,
    "start_time": "2022-04-07T17:09:31.799Z"
   },
   {
    "duration": 899,
    "start_time": "2022-04-07T17:09:59.982Z"
   },
   {
    "duration": 879,
    "start_time": "2022-04-07T17:10:21.253Z"
   },
   {
    "duration": 1127,
    "start_time": "2022-04-07T17:10:36.595Z"
   },
   {
    "duration": 2361,
    "start_time": "2022-04-07T17:11:01.063Z"
   },
   {
    "duration": 834,
    "start_time": "2022-04-07T17:11:36.712Z"
   },
   {
    "duration": 219,
    "start_time": "2022-04-07T17:12:12.761Z"
   },
   {
    "duration": 820,
    "start_time": "2022-04-07T17:12:19.021Z"
   },
   {
    "duration": 2239,
    "start_time": "2022-04-07T17:13:31.693Z"
   },
   {
    "duration": 2744,
    "start_time": "2022-04-07T17:14:10.241Z"
   },
   {
    "duration": 2270,
    "start_time": "2022-04-07T17:14:16.002Z"
   },
   {
    "duration": 868,
    "start_time": "2022-04-07T17:14:53.753Z"
   },
   {
    "duration": 886,
    "start_time": "2022-04-07T17:16:32.736Z"
   },
   {
    "duration": 858,
    "start_time": "2022-04-07T17:16:48.632Z"
   },
   {
    "duration": 862,
    "start_time": "2022-04-07T17:19:50.216Z"
   },
   {
    "duration": 1343,
    "start_time": "2022-04-07T17:20:25.065Z"
   },
   {
    "duration": 823,
    "start_time": "2022-04-07T17:20:41.244Z"
   },
   {
    "duration": 778,
    "start_time": "2022-04-07T17:20:52.941Z"
   },
   {
    "duration": 849,
    "start_time": "2022-04-07T17:21:09.717Z"
   },
   {
    "duration": 782,
    "start_time": "2022-04-07T17:21:40.447Z"
   },
   {
    "duration": 19,
    "start_time": "2022-04-07T17:28:21.232Z"
   },
   {
    "duration": 566,
    "start_time": "2022-04-07T17:28:31.879Z"
   },
   {
    "duration": 853,
    "start_time": "2022-04-07T17:30:24.397Z"
   },
   {
    "duration": 825,
    "start_time": "2022-04-07T17:30:55.740Z"
   },
   {
    "duration": 47,
    "start_time": "2022-04-07T21:50:57.981Z"
   },
   {
    "duration": 1410,
    "start_time": "2022-04-07T21:51:02.934Z"
   },
   {
    "duration": 10,
    "start_time": "2022-04-07T21:51:04.346Z"
   },
   {
    "duration": 10,
    "start_time": "2022-04-07T21:51:04.357Z"
   },
   {
    "duration": 14,
    "start_time": "2022-04-07T21:51:04.588Z"
   },
   {
    "duration": 10,
    "start_time": "2022-04-07T21:51:05.101Z"
   },
   {
    "duration": 872,
    "start_time": "2022-04-07T21:51:05.659Z"
   },
   {
    "duration": 28,
    "start_time": "2022-04-07T21:51:06.533Z"
   },
   {
    "duration": 512,
    "start_time": "2022-04-07T21:51:07.347Z"
   },
   {
    "duration": 14153,
    "start_time": "2022-04-07T21:51:59.999Z"
   },
   {
    "duration": 457,
    "start_time": "2022-04-07T21:52:21.439Z"
   },
   {
    "duration": 15,
    "start_time": "2022-04-07T21:53:01.449Z"
   },
   {
    "duration": 879,
    "start_time": "2022-04-07T21:54:39.742Z"
   },
   {
    "duration": 844,
    "start_time": "2022-04-07T21:55:48.594Z"
   },
   {
    "duration": 434,
    "start_time": "2022-04-07T21:55:58.231Z"
   },
   {
    "duration": 423,
    "start_time": "2022-04-07T21:56:03.071Z"
   },
   {
    "duration": 426,
    "start_time": "2022-04-07T21:56:43.176Z"
   },
   {
    "duration": 595,
    "start_time": "2022-04-07T21:56:59.379Z"
   },
   {
    "duration": 449,
    "start_time": "2022-04-07T21:57:17.518Z"
   },
   {
    "duration": 440,
    "start_time": "2022-04-07T21:57:30.693Z"
   },
   {
    "duration": 1446,
    "start_time": "2022-04-07T21:57:41.022Z"
   },
   {
    "duration": 873,
    "start_time": "2022-04-07T21:58:07.898Z"
   },
   {
    "duration": 839,
    "start_time": "2022-04-07T21:58:23.433Z"
   },
   {
    "duration": 455,
    "start_time": "2022-04-07T21:58:33.753Z"
   },
   {
    "duration": 467,
    "start_time": "2022-04-07T22:05:33.714Z"
   },
   {
    "duration": 476,
    "start_time": "2022-04-07T22:06:14.036Z"
   },
   {
    "duration": 447,
    "start_time": "2022-04-07T22:06:30.770Z"
   },
   {
    "duration": 791,
    "start_time": "2022-04-07T22:06:49.461Z"
   },
   {
    "duration": 427,
    "start_time": "2022-04-07T22:07:37.990Z"
   },
   {
    "duration": 112,
    "start_time": "2022-04-07T22:07:40.474Z"
   },
   {
    "duration": 102,
    "start_time": "2022-04-07T22:07:43.917Z"
   },
   {
    "duration": 453,
    "start_time": "2022-04-07T22:07:46.368Z"
   },
   {
    "duration": 438,
    "start_time": "2022-04-07T22:08:18.316Z"
   },
   {
    "duration": 428,
    "start_time": "2022-04-07T22:41:11.100Z"
   },
   {
    "duration": 97,
    "start_time": "2022-04-07T22:41:18.212Z"
   },
   {
    "duration": 13,
    "start_time": "2022-04-07T22:41:19.371Z"
   },
   {
    "duration": 7,
    "start_time": "2022-04-07T22:41:19.932Z"
   },
   {
    "duration": 13,
    "start_time": "2022-04-07T22:41:21.364Z"
   },
   {
    "duration": 15,
    "start_time": "2022-04-07T22:41:22.432Z"
   },
   {
    "duration": 936,
    "start_time": "2022-04-07T22:41:23.244Z"
   },
   {
    "duration": 27,
    "start_time": "2022-04-07T22:41:24.711Z"
   },
   {
    "duration": 44,
    "start_time": "2022-04-07T22:41:25.527Z"
   },
   {
    "duration": 47,
    "start_time": "2022-04-07T22:43:09.034Z"
   },
   {
    "duration": 1225,
    "start_time": "2022-04-07T22:43:53.211Z"
   },
   {
    "duration": 13,
    "start_time": "2022-04-07T22:44:00.760Z"
   },
   {
    "duration": 7,
    "start_time": "2022-04-07T22:44:17.333Z"
   },
   {
    "duration": 13,
    "start_time": "2022-04-07T22:44:18.606Z"
   },
   {
    "duration": 10,
    "start_time": "2022-04-07T22:44:20.387Z"
   },
   {
    "duration": 871,
    "start_time": "2022-04-07T22:44:21.882Z"
   },
   {
    "duration": 28,
    "start_time": "2022-04-07T22:44:23.603Z"
   },
   {
    "duration": 13,
    "start_time": "2022-04-07T22:45:15.333Z"
   },
   {
    "duration": 6,
    "start_time": "2022-04-07T22:45:17.472Z"
   },
   {
    "duration": 11,
    "start_time": "2022-04-07T22:45:19.616Z"
   },
   {
    "duration": 10,
    "start_time": "2022-04-07T22:45:20.911Z"
   },
   {
    "duration": 930,
    "start_time": "2022-04-07T22:45:22.296Z"
   },
   {
    "duration": 25,
    "start_time": "2022-04-07T22:45:24.103Z"
   },
   {
    "duration": 102,
    "start_time": "2022-04-07T22:45:52.654Z"
   },
   {
    "duration": 13,
    "start_time": "2022-04-07T22:45:57.195Z"
   },
   {
    "duration": 15,
    "start_time": "2022-04-07T22:46:26.734Z"
   },
   {
    "duration": 35,
    "start_time": "2022-04-07T22:46:41.193Z"
   },
   {
    "duration": 31,
    "start_time": "2022-04-07T22:47:36.895Z"
   },
   {
    "duration": 7,
    "start_time": "2022-04-07T22:48:12.926Z"
   },
   {
    "duration": 26,
    "start_time": "2022-04-07T22:48:20.605Z"
   },
   {
    "duration": 1234,
    "start_time": "2022-04-07T22:48:43.694Z"
   },
   {
    "duration": 39,
    "start_time": "2022-04-07T22:48:45.975Z"
   },
   {
    "duration": 27,
    "start_time": "2022-04-07T22:48:56.559Z"
   },
   {
    "duration": 14,
    "start_time": "2022-04-07T22:49:13.776Z"
   },
   {
    "duration": 10,
    "start_time": "2022-04-07T22:49:16.603Z"
   },
   {
    "duration": 1161,
    "start_time": "2022-04-07T22:49:22.198Z"
   },
   {
    "duration": 24,
    "start_time": "2022-04-07T22:49:28.501Z"
   },
   {
    "duration": 63,
    "start_time": "2022-04-07T22:49:45.362Z"
   },
   {
    "duration": 53,
    "start_time": "2022-04-07T22:51:20.981Z"
   },
   {
    "duration": 71,
    "start_time": "2022-04-07T22:51:52.595Z"
   },
   {
    "duration": 54,
    "start_time": "2022-04-07T22:53:40.032Z"
   },
   {
    "duration": 53,
    "start_time": "2022-04-07T22:54:46.718Z"
   },
   {
    "duration": 54,
    "start_time": "2022-04-07T22:54:59.905Z"
   },
   {
    "duration": 60,
    "start_time": "2022-04-07T22:55:43.785Z"
   },
   {
    "duration": 77,
    "start_time": "2022-04-07T22:56:10.817Z"
   },
   {
    "duration": 56,
    "start_time": "2022-04-07T22:56:25.819Z"
   },
   {
    "duration": 4,
    "start_time": "2022-04-07T22:57:55.544Z"
   },
   {
    "duration": 52,
    "start_time": "2022-04-07T22:58:15.009Z"
   },
   {
    "duration": 15,
    "start_time": "2022-04-07T22:58:22.304Z"
   },
   {
    "duration": 5,
    "start_time": "2022-04-07T23:01:35.560Z"
   },
   {
    "duration": 49,
    "start_time": "2022-04-07T23:01:50.955Z"
   },
   {
    "duration": 31,
    "start_time": "2022-04-07T23:02:27.124Z"
   },
   {
    "duration": 34,
    "start_time": "2022-04-07T23:03:00.405Z"
   },
   {
    "duration": 40,
    "start_time": "2022-04-07T23:03:22.401Z"
   },
   {
    "duration": 4,
    "start_time": "2022-04-07T23:03:53.363Z"
   },
   {
    "duration": 10,
    "start_time": "2022-04-07T23:05:11.971Z"
   },
   {
    "duration": 7,
    "start_time": "2022-04-07T23:05:16.849Z"
   },
   {
    "duration": 920,
    "start_time": "2022-04-07T23:06:52.379Z"
   },
   {
    "duration": 855,
    "start_time": "2022-04-07T23:07:09.883Z"
   },
   {
    "duration": 66,
    "start_time": "2022-04-07T23:09:57.231Z"
   },
   {
    "duration": 33,
    "start_time": "2022-04-07T23:10:02.183Z"
   },
   {
    "duration": 109,
    "start_time": "2022-04-07T23:10:41.927Z"
   },
   {
    "duration": 131,
    "start_time": "2022-04-07T23:10:57.957Z"
   },
   {
    "duration": 33,
    "start_time": "2022-04-07T23:11:12.803Z"
   },
   {
    "duration": 15,
    "start_time": "2022-04-07T23:11:36.154Z"
   },
   {
    "duration": 6,
    "start_time": "2022-04-07T23:12:07.082Z"
   },
   {
    "duration": 12,
    "start_time": "2022-04-07T23:12:16.693Z"
   },
   {
    "duration": 6,
    "start_time": "2022-04-07T23:12:21.848Z"
   },
   {
    "duration": 5,
    "start_time": "2022-04-07T23:12:29.869Z"
   },
   {
    "duration": 18,
    "start_time": "2022-04-07T23:12:36.289Z"
   },
   {
    "duration": 18,
    "start_time": "2022-04-07T23:13:06.299Z"
   },
   {
    "duration": 19,
    "start_time": "2022-04-07T23:13:11.924Z"
   },
   {
    "duration": 4,
    "start_time": "2022-04-07T23:13:26.297Z"
   },
   {
    "duration": 1698,
    "start_time": "2022-04-08T14:35:48.368Z"
   },
   {
    "duration": 9,
    "start_time": "2022-04-08T14:35:50.069Z"
   },
   {
    "duration": 7,
    "start_time": "2022-04-08T14:35:51.160Z"
   },
   {
    "duration": 12,
    "start_time": "2022-04-08T14:35:52.153Z"
   },
   {
    "duration": 10,
    "start_time": "2022-04-08T14:35:53.189Z"
   },
   {
    "duration": 862,
    "start_time": "2022-04-08T14:35:54.166Z"
   },
   {
    "duration": 5,
    "start_time": "2022-04-08T14:35:55.030Z"
   },
   {
    "duration": 15,
    "start_time": "2022-04-08T14:35:56.079Z"
   },
   {
    "duration": 4,
    "start_time": "2022-04-08T14:35:57.691Z"
   },
   {
    "duration": 93,
    "start_time": "2022-04-08T14:36:08.410Z"
   },
   {
    "duration": 37,
    "start_time": "2022-04-08T14:36:11.670Z"
   },
   {
    "duration": 39,
    "start_time": "2022-04-08T14:37:54.155Z"
   },
   {
    "duration": 29,
    "start_time": "2022-04-08T14:38:22.917Z"
   },
   {
    "duration": 4,
    "start_time": "2022-04-08T14:38:30.376Z"
   },
   {
    "duration": 6,
    "start_time": "2022-04-08T14:39:21.509Z"
   },
   {
    "duration": 4,
    "start_time": "2022-04-08T14:39:29.360Z"
   },
   {
    "duration": 10,
    "start_time": "2022-04-08T14:39:39.738Z"
   },
   {
    "duration": 26,
    "start_time": "2022-04-08T14:39:58.531Z"
   },
   {
    "duration": 195,
    "start_time": "2022-04-08T14:40:36.723Z"
   },
   {
    "duration": 6,
    "start_time": "2022-04-08T14:40:39.411Z"
   },
   {
    "duration": 132,
    "start_time": "2022-04-08T14:40:42.110Z"
   },
   {
    "duration": 3204,
    "start_time": "2022-04-08T14:42:38.600Z"
   },
   {
    "duration": 135,
    "start_time": "2022-04-08T14:42:53.526Z"
   },
   {
    "duration": 146,
    "start_time": "2022-04-08T14:43:03.524Z"
   },
   {
    "duration": 28,
    "start_time": "2022-04-08T14:45:05.189Z"
   },
   {
    "duration": 35,
    "start_time": "2022-04-08T14:45:11.227Z"
   },
   {
    "duration": 132,
    "start_time": "2022-04-08T14:45:30.468Z"
   },
   {
    "duration": 14,
    "start_time": "2022-04-08T14:45:31.822Z"
   },
   {
    "duration": 7,
    "start_time": "2022-04-08T14:45:32.343Z"
   },
   {
    "duration": 13,
    "start_time": "2022-04-08T14:45:33.014Z"
   },
   {
    "duration": 16,
    "start_time": "2022-04-08T14:45:33.608Z"
   },
   {
    "duration": 1105,
    "start_time": "2022-04-08T14:45:34.178Z"
   },
   {
    "duration": 4,
    "start_time": "2022-04-08T14:45:35.284Z"
   },
   {
    "duration": 27,
    "start_time": "2022-04-08T14:45:35.290Z"
   },
   {
    "duration": 4,
    "start_time": "2022-04-08T14:45:35.545Z"
   },
   {
    "duration": 33,
    "start_time": "2022-04-08T14:45:36.399Z"
   },
   {
    "duration": 34,
    "start_time": "2022-04-08T14:46:09.905Z"
   },
   {
    "duration": 25,
    "start_time": "2022-04-08T14:46:13.221Z"
   },
   {
    "duration": 56,
    "start_time": "2022-04-08T14:47:15.793Z"
   },
   {
    "duration": 16,
    "start_time": "2022-04-08T14:49:13.327Z"
   },
   {
    "duration": 14,
    "start_time": "2022-04-08T14:50:04.337Z"
   },
   {
    "duration": 42,
    "start_time": "2022-04-08T14:50:32.904Z"
   },
   {
    "duration": 38,
    "start_time": "2022-04-08T14:50:59.774Z"
   },
   {
    "duration": 64,
    "start_time": "2022-04-08T14:52:13.004Z"
   },
   {
    "duration": 4,
    "start_time": "2022-04-08T14:53:15.487Z"
   },
   {
    "duration": 46,
    "start_time": "2022-04-08T14:53:25.727Z"
   },
   {
    "duration": 33,
    "start_time": "2022-04-08T14:53:40.528Z"
   },
   {
    "duration": 33,
    "start_time": "2022-04-08T14:53:43.347Z"
   },
   {
    "duration": 31,
    "start_time": "2022-04-08T14:53:55.449Z"
   },
   {
    "duration": 21,
    "start_time": "2022-04-08T14:54:44.234Z"
   },
   {
    "duration": 13,
    "start_time": "2022-04-08T14:54:53.967Z"
   },
   {
    "duration": 14,
    "start_time": "2022-04-08T14:55:11.972Z"
   },
   {
    "duration": 14,
    "start_time": "2022-04-08T14:55:30.444Z"
   },
   {
    "duration": 205,
    "start_time": "2022-04-08T14:56:12.485Z"
   },
   {
    "duration": 33,
    "start_time": "2022-04-08T14:56:16.529Z"
   },
   {
    "duration": 12,
    "start_time": "2022-04-08T14:56:25.969Z"
   },
   {
    "duration": 12,
    "start_time": "2022-04-08T14:56:36.013Z"
   },
   {
    "duration": 197,
    "start_time": "2022-04-08T14:56:41.997Z"
   },
   {
    "duration": 195,
    "start_time": "2022-04-08T14:57:30.439Z"
   },
   {
    "duration": 200,
    "start_time": "2022-04-08T14:57:42.841Z"
   },
   {
    "duration": 11,
    "start_time": "2022-04-08T14:57:55.407Z"
   },
   {
    "duration": 12,
    "start_time": "2022-04-08T14:57:58.956Z"
   },
   {
    "duration": 12,
    "start_time": "2022-04-08T14:58:23.094Z"
   },
   {
    "duration": 9,
    "start_time": "2022-04-08T14:58:31.468Z"
   },
   {
    "duration": 3182,
    "start_time": "2022-04-08T14:58:59.637Z"
   },
   {
    "duration": 3157,
    "start_time": "2022-04-08T14:59:03.918Z"
   },
   {
    "duration": 13,
    "start_time": "2022-04-08T14:59:08.984Z"
   },
   {
    "duration": 7,
    "start_time": "2022-04-08T14:59:40.784Z"
   },
   {
    "duration": 4,
    "start_time": "2022-04-08T14:59:46.240Z"
   },
   {
    "duration": 6,
    "start_time": "2022-04-08T15:00:03.365Z"
   },
   {
    "duration": 6,
    "start_time": "2022-04-08T15:00:09.161Z"
   },
   {
    "duration": 7,
    "start_time": "2022-04-08T15:00:16.221Z"
   },
   {
    "duration": 6,
    "start_time": "2022-04-08T15:00:30.198Z"
   },
   {
    "duration": 6,
    "start_time": "2022-04-08T15:00:35.933Z"
   },
   {
    "duration": 6,
    "start_time": "2022-04-08T15:05:22.696Z"
   },
   {
    "duration": 6,
    "start_time": "2022-04-08T15:05:30.939Z"
   },
   {
    "duration": 6,
    "start_time": "2022-04-08T15:05:37.865Z"
   },
   {
    "duration": 6,
    "start_time": "2022-04-08T15:05:41.425Z"
   },
   {
    "duration": 14,
    "start_time": "2022-04-08T15:06:03.087Z"
   },
   {
    "duration": 26,
    "start_time": "2022-04-08T15:07:41.217Z"
   },
   {
    "duration": 197,
    "start_time": "2022-04-08T15:09:27.497Z"
   },
   {
    "duration": 218,
    "start_time": "2022-04-08T15:09:32.214Z"
   },
   {
    "duration": 19,
    "start_time": "2022-04-08T15:09:44.723Z"
   },
   {
    "duration": 23,
    "start_time": "2022-04-08T15:09:49.805Z"
   },
   {
    "duration": 27,
    "start_time": "2022-04-08T15:10:28.720Z"
   },
   {
    "duration": 26,
    "start_time": "2022-04-08T15:10:43.608Z"
   },
   {
    "duration": 28,
    "start_time": "2022-04-08T15:11:20.715Z"
   },
   {
    "duration": 34,
    "start_time": "2022-04-08T15:11:25.997Z"
   },
   {
    "duration": 27,
    "start_time": "2022-04-08T15:13:23.443Z"
   },
   {
    "duration": 17,
    "start_time": "2022-04-08T15:13:33.650Z"
   },
   {
    "duration": 26,
    "start_time": "2022-04-08T15:13:40.479Z"
   },
   {
    "duration": 23,
    "start_time": "2022-04-08T15:14:34.483Z"
   },
   {
    "duration": 14,
    "start_time": "2022-04-08T15:14:59.949Z"
   },
   {
    "duration": 128,
    "start_time": "2022-04-08T15:15:42.817Z"
   },
   {
    "duration": 160,
    "start_time": "2022-04-08T15:23:23.211Z"
   },
   {
    "duration": 14,
    "start_time": "2022-04-08T15:25:50.852Z"
   },
   {
    "duration": 137,
    "start_time": "2022-04-08T15:25:57.463Z"
   },
   {
    "duration": 383,
    "start_time": "2022-04-08T15:26:39.607Z"
   },
   {
    "duration": 222,
    "start_time": "2022-04-08T15:27:26.526Z"
   },
   {
    "duration": 188,
    "start_time": "2022-04-08T15:27:35.427Z"
   },
   {
    "duration": 208,
    "start_time": "2022-04-08T15:27:39.324Z"
   },
   {
    "duration": 89,
    "start_time": "2022-04-08T15:28:20.200Z"
   },
   {
    "duration": 144,
    "start_time": "2022-04-08T15:28:30.438Z"
   },
   {
    "duration": 234,
    "start_time": "2022-04-08T15:28:53.813Z"
   },
   {
    "duration": 292,
    "start_time": "2022-04-08T15:29:12.377Z"
   },
   {
    "duration": 347,
    "start_time": "2022-04-08T15:29:16.033Z"
   },
   {
    "duration": 15,
    "start_time": "2022-04-08T15:49:35.430Z"
   },
   {
    "duration": 131,
    "start_time": "2022-04-08T15:50:26.579Z"
   },
   {
    "duration": 236,
    "start_time": "2022-04-08T15:54:42.882Z"
   },
   {
    "duration": 274,
    "start_time": "2022-04-08T15:55:31.002Z"
   },
   {
    "duration": 237,
    "start_time": "2022-04-08T15:55:35.885Z"
   },
   {
    "duration": 177,
    "start_time": "2022-04-08T15:56:29.248Z"
   },
   {
    "duration": 253,
    "start_time": "2022-04-08T15:59:00.381Z"
   },
   {
    "duration": 237,
    "start_time": "2022-04-08T15:59:19.053Z"
   },
   {
    "duration": 241,
    "start_time": "2022-04-08T15:59:49.199Z"
   },
   {
    "duration": 272,
    "start_time": "2022-04-08T16:00:15.067Z"
   },
   {
    "duration": 233,
    "start_time": "2022-04-08T16:00:35.618Z"
   },
   {
    "duration": 29,
    "start_time": "2022-04-08T16:00:49.946Z"
   },
   {
    "duration": 175,
    "start_time": "2022-04-08T16:01:29.033Z"
   },
   {
    "duration": 1099,
    "start_time": "2022-04-08T16:01:46.246Z"
   },
   {
    "duration": 178,
    "start_time": "2022-04-08T16:01:55.520Z"
   },
   {
    "duration": 28,
    "start_time": "2022-04-08T16:02:08.270Z"
   },
   {
    "duration": 197,
    "start_time": "2022-04-08T16:02:55.946Z"
   },
   {
    "duration": 21,
    "start_time": "2022-04-08T16:03:41.718Z"
   },
   {
    "duration": 115,
    "start_time": "2022-04-08T16:06:46.427Z"
   },
   {
    "duration": 111,
    "start_time": "2022-04-08T16:07:19.292Z"
   },
   {
    "duration": 131,
    "start_time": "2022-04-08T16:07:25.904Z"
   },
   {
    "duration": 121,
    "start_time": "2022-04-08T16:07:39.437Z"
   },
   {
    "duration": 118,
    "start_time": "2022-04-08T16:08:32.849Z"
   },
   {
    "duration": 224,
    "start_time": "2022-04-08T16:09:08.056Z"
   },
   {
    "duration": 127,
    "start_time": "2022-04-08T16:09:24.424Z"
   },
   {
    "duration": 193,
    "start_time": "2022-04-08T16:10:13.847Z"
   },
   {
    "duration": 135,
    "start_time": "2022-04-08T16:10:17.817Z"
   },
   {
    "duration": 137,
    "start_time": "2022-04-08T16:10:20.587Z"
   },
   {
    "duration": 132,
    "start_time": "2022-04-08T16:10:40.712Z"
   },
   {
    "duration": 133,
    "start_time": "2022-04-08T16:11:41.143Z"
   },
   {
    "duration": 210,
    "start_time": "2022-04-08T16:12:16.335Z"
   },
   {
    "duration": 136,
    "start_time": "2022-04-08T16:12:21.726Z"
   },
   {
    "duration": 131,
    "start_time": "2022-04-08T16:12:31.715Z"
   },
   {
    "duration": 150,
    "start_time": "2022-04-08T16:13:12.995Z"
   },
   {
    "duration": 145,
    "start_time": "2022-04-08T16:13:32.677Z"
   },
   {
    "duration": 133,
    "start_time": "2022-04-08T16:13:37.855Z"
   },
   {
    "duration": 132,
    "start_time": "2022-04-08T16:13:54.557Z"
   },
   {
    "duration": 140,
    "start_time": "2022-04-08T16:14:25.867Z"
   },
   {
    "duration": 136,
    "start_time": "2022-04-08T16:15:57.586Z"
   },
   {
    "duration": 189,
    "start_time": "2022-04-08T16:16:20.500Z"
   },
   {
    "duration": 141,
    "start_time": "2022-04-08T16:16:24.253Z"
   },
   {
    "duration": 155,
    "start_time": "2022-04-08T16:17:00.640Z"
   },
   {
    "duration": 211,
    "start_time": "2022-04-08T16:17:47.167Z"
   },
   {
    "duration": 195,
    "start_time": "2022-04-08T16:18:00.821Z"
   },
   {
    "duration": 275,
    "start_time": "2022-04-08T16:18:05.646Z"
   },
   {
    "duration": 138,
    "start_time": "2022-04-08T16:21:52.657Z"
   },
   {
    "duration": 121,
    "start_time": "2022-04-08T16:22:06.274Z"
   },
   {
    "duration": 149,
    "start_time": "2022-04-08T16:22:16.005Z"
   },
   {
    "duration": 133,
    "start_time": "2022-04-08T16:24:35.400Z"
   },
   {
    "duration": 132,
    "start_time": "2022-04-08T16:24:43.402Z"
   },
   {
    "duration": 137,
    "start_time": "2022-04-08T16:24:49.570Z"
   },
   {
    "duration": 31,
    "start_time": "2022-04-08T16:27:24.612Z"
   },
   {
    "duration": 31,
    "start_time": "2022-04-08T16:29:10.612Z"
   },
   {
    "duration": 34,
    "start_time": "2022-04-08T16:29:59.859Z"
   },
   {
    "duration": 17,
    "start_time": "2022-04-08T16:31:18.940Z"
   },
   {
    "duration": 21,
    "start_time": "2022-04-08T16:32:42.277Z"
   },
   {
    "duration": 163,
    "start_time": "2022-04-08T16:33:39.369Z"
   },
   {
    "duration": 183,
    "start_time": "2022-04-08T16:34:12.901Z"
   },
   {
    "duration": 188,
    "start_time": "2022-04-08T16:34:36.813Z"
   },
   {
    "duration": 195,
    "start_time": "2022-04-08T16:35:51.103Z"
   },
   {
    "duration": 25,
    "start_time": "2022-04-08T16:36:43.456Z"
   },
   {
    "duration": 219,
    "start_time": "2022-04-08T16:36:46.758Z"
   },
   {
    "duration": 134,
    "start_time": "2022-04-08T16:37:50.438Z"
   },
   {
    "duration": 399,
    "start_time": "2022-04-08T16:37:55.317Z"
   },
   {
    "duration": 308,
    "start_time": "2022-04-08T16:38:02.612Z"
   },
   {
    "duration": 230,
    "start_time": "2022-04-08T16:38:44.886Z"
   },
   {
    "duration": 199,
    "start_time": "2022-04-08T16:38:51.721Z"
   },
   {
    "duration": 198,
    "start_time": "2022-04-08T16:39:49.841Z"
   },
   {
    "duration": 183,
    "start_time": "2022-04-08T16:39:56.962Z"
   },
   {
    "duration": 16,
    "start_time": "2022-04-08T16:40:12.957Z"
   },
   {
    "duration": 29,
    "start_time": "2022-04-08T16:40:19.259Z"
   },
   {
    "duration": 121,
    "start_time": "2022-04-08T16:42:07.729Z"
   },
   {
    "duration": 194,
    "start_time": "2022-04-08T16:42:42.207Z"
   },
   {
    "duration": 440,
    "start_time": "2022-04-08T16:43:48.606Z"
   },
   {
    "duration": 247,
    "start_time": "2022-04-08T16:43:53.491Z"
   },
   {
    "duration": 240,
    "start_time": "2022-04-08T16:44:20.523Z"
   },
   {
    "duration": 250,
    "start_time": "2022-04-08T16:44:46.154Z"
   },
   {
    "duration": 211,
    "start_time": "2022-04-08T16:45:47.705Z"
   },
   {
    "duration": 220,
    "start_time": "2022-04-08T16:46:20.047Z"
   },
   {
    "duration": 206,
    "start_time": "2022-04-08T16:46:34.250Z"
   },
   {
    "duration": 227,
    "start_time": "2022-04-08T16:48:48.848Z"
   },
   {
    "duration": 235,
    "start_time": "2022-04-08T16:57:00.810Z"
   },
   {
    "duration": 221,
    "start_time": "2022-04-08T16:57:20.769Z"
   },
   {
    "duration": 211,
    "start_time": "2022-04-08T16:57:35.567Z"
   },
   {
    "duration": 242,
    "start_time": "2022-04-08T16:57:44.628Z"
   },
   {
    "duration": 244,
    "start_time": "2022-04-08T17:01:57.124Z"
   },
   {
    "duration": 194,
    "start_time": "2022-04-08T17:07:59.843Z"
   },
   {
    "duration": 33,
    "start_time": "2022-04-08T17:09:51.071Z"
   },
   {
    "duration": 7,
    "start_time": "2022-04-08T17:10:31.226Z"
   },
   {
    "duration": 36,
    "start_time": "2022-04-08T17:10:35.956Z"
   },
   {
    "duration": 8,
    "start_time": "2022-04-08T17:11:58.858Z"
   },
   {
    "duration": 9,
    "start_time": "2022-04-08T17:13:06.970Z"
   },
   {
    "duration": 9,
    "start_time": "2022-04-08T17:13:13.792Z"
   },
   {
    "duration": 10,
    "start_time": "2022-04-08T17:13:24.032Z"
   },
   {
    "duration": 10,
    "start_time": "2022-04-08T17:13:31.476Z"
   },
   {
    "duration": 193,
    "start_time": "2022-04-08T17:15:05.878Z"
   },
   {
    "duration": 201,
    "start_time": "2022-04-08T17:15:12.342Z"
   },
   {
    "duration": 205,
    "start_time": "2022-04-08T17:15:23.571Z"
   },
   {
    "duration": 9,
    "start_time": "2022-04-08T17:15:30.594Z"
   },
   {
    "duration": 202,
    "start_time": "2022-04-08T17:15:54.567Z"
   },
   {
    "duration": 308,
    "start_time": "2022-04-08T17:15:59.011Z"
   },
   {
    "duration": 12,
    "start_time": "2022-04-08T17:16:05.211Z"
   },
   {
    "duration": 9,
    "start_time": "2022-04-08T17:16:33.096Z"
   },
   {
    "duration": 215,
    "start_time": "2022-04-08T17:17:23.460Z"
   },
   {
    "duration": 217,
    "start_time": "2022-04-08T17:17:33.972Z"
   },
   {
    "duration": 209,
    "start_time": "2022-04-08T17:18:14.465Z"
   },
   {
    "duration": 203,
    "start_time": "2022-04-08T17:19:08.004Z"
   },
   {
    "duration": 210,
    "start_time": "2022-04-08T17:19:22.419Z"
   },
   {
    "duration": 202,
    "start_time": "2022-04-08T17:19:30.203Z"
   },
   {
    "duration": 9,
    "start_time": "2022-04-08T17:20:34.278Z"
   },
   {
    "duration": 10,
    "start_time": "2022-04-08T17:20:44.987Z"
   },
   {
    "duration": 16,
    "start_time": "2022-04-08T17:20:53.493Z"
   },
   {
    "duration": 16,
    "start_time": "2022-04-08T17:21:29.635Z"
   },
   {
    "duration": 18,
    "start_time": "2022-04-08T17:21:43.424Z"
   },
   {
    "duration": 17,
    "start_time": "2022-04-08T17:22:36.648Z"
   },
   {
    "duration": 32,
    "start_time": "2022-04-08T17:26:17.657Z"
   },
   {
    "duration": 40,
    "start_time": "2022-04-08T17:26:27.168Z"
   },
   {
    "duration": 40,
    "start_time": "2022-04-08T17:30:24.430Z"
   },
   {
    "duration": 41,
    "start_time": "2022-04-08T17:34:32.698Z"
   },
   {
    "duration": 19,
    "start_time": "2022-04-08T17:34:58.462Z"
   },
   {
    "duration": 19,
    "start_time": "2022-04-08T17:35:15.026Z"
   },
   {
    "duration": 19,
    "start_time": "2022-04-08T17:35:44.431Z"
   },
   {
    "duration": 43,
    "start_time": "2022-04-08T17:37:00.280Z"
   },
   {
    "duration": 56,
    "start_time": "2022-04-08T17:37:47.141Z"
   },
   {
    "duration": 60,
    "start_time": "2022-04-08T17:39:17.367Z"
   },
   {
    "duration": 15,
    "start_time": "2022-04-08T17:39:27.554Z"
   },
   {
    "duration": 13,
    "start_time": "2022-04-08T17:39:56.663Z"
   },
   {
    "duration": 13,
    "start_time": "2022-04-08T17:40:09.473Z"
   },
   {
    "duration": 13,
    "start_time": "2022-04-08T17:40:18.429Z"
   },
   {
    "duration": 12,
    "start_time": "2022-04-08T17:40:28.199Z"
   },
   {
    "duration": 13,
    "start_time": "2022-04-08T17:42:38.547Z"
   },
   {
    "duration": 13,
    "start_time": "2022-04-08T17:42:48.150Z"
   },
   {
    "duration": 20,
    "start_time": "2022-04-08T17:43:19.150Z"
   },
   {
    "duration": 19,
    "start_time": "2022-04-08T17:43:38.570Z"
   },
   {
    "duration": 1379,
    "start_time": "2022-04-08T17:43:48.163Z"
   },
   {
    "duration": 9,
    "start_time": "2022-04-08T17:43:49.544Z"
   },
   {
    "duration": 10,
    "start_time": "2022-04-08T17:43:49.555Z"
   },
   {
    "duration": 13,
    "start_time": "2022-04-08T17:43:50.109Z"
   },
   {
    "duration": 11,
    "start_time": "2022-04-08T17:43:50.580Z"
   },
   {
    "duration": 887,
    "start_time": "2022-04-08T17:43:51.045Z"
   },
   {
    "duration": 5,
    "start_time": "2022-04-08T17:43:51.934Z"
   },
   {
    "duration": 18,
    "start_time": "2022-04-08T17:43:51.940Z"
   },
   {
    "duration": 5,
    "start_time": "2022-04-08T17:43:52.176Z"
   },
   {
    "duration": 18,
    "start_time": "2022-04-08T17:43:52.703Z"
   },
   {
    "duration": 163,
    "start_time": "2022-04-08T17:43:53.005Z"
   },
   {
    "duration": 248,
    "start_time": "2022-04-08T17:43:53.355Z"
   },
   {
    "duration": 27,
    "start_time": "2022-04-08T17:43:53.605Z"
   },
   {
    "duration": 142,
    "start_time": "2022-04-08T17:43:53.858Z"
   },
   {
    "duration": 341,
    "start_time": "2022-04-08T17:43:54.381Z"
   },
   {
    "duration": 107,
    "start_time": "2022-04-08T17:43:55.511Z"
   },
   {
    "duration": 2363,
    "start_time": "2022-04-08T17:44:26.663Z"
   },
   {
    "duration": 15,
    "start_time": "2022-04-08T17:44:37.927Z"
   },
   {
    "duration": 17,
    "start_time": "2022-04-08T17:44:54.185Z"
   },
   {
    "duration": 14,
    "start_time": "2022-04-08T17:44:58.361Z"
   },
   {
    "duration": 15,
    "start_time": "2022-04-08T17:45:00.966Z"
   },
   {
    "duration": 17,
    "start_time": "2022-04-08T17:45:29.230Z"
   },
   {
    "duration": 17,
    "start_time": "2022-04-08T17:45:42.984Z"
   },
   {
    "duration": 58,
    "start_time": "2022-04-08T17:46:08.319Z"
   },
   {
    "duration": 51,
    "start_time": "2022-04-08T17:46:55.475Z"
   },
   {
    "duration": 1350,
    "start_time": "2022-04-08T17:47:19.310Z"
   },
   {
    "duration": 11,
    "start_time": "2022-04-08T17:47:20.662Z"
   },
   {
    "duration": 8,
    "start_time": "2022-04-08T17:47:20.784Z"
   },
   {
    "duration": 14,
    "start_time": "2022-04-08T17:47:22.071Z"
   },
   {
    "duration": 12,
    "start_time": "2022-04-08T17:47:22.934Z"
   },
   {
    "duration": 901,
    "start_time": "2022-04-08T17:47:24.696Z"
   },
   {
    "duration": 4,
    "start_time": "2022-04-08T17:47:25.600Z"
   },
   {
    "duration": 16,
    "start_time": "2022-04-08T17:47:25.606Z"
   },
   {
    "duration": 5,
    "start_time": "2022-04-08T17:47:26.280Z"
   },
   {
    "duration": 19,
    "start_time": "2022-04-08T17:47:27.051Z"
   },
   {
    "duration": 152,
    "start_time": "2022-04-08T17:47:27.447Z"
   },
   {
    "duration": 231,
    "start_time": "2022-04-08T17:47:27.829Z"
   },
   {
    "duration": 30,
    "start_time": "2022-04-08T17:47:28.214Z"
   },
   {
    "duration": 139,
    "start_time": "2022-04-08T17:47:28.982Z"
   },
   {
    "duration": 372,
    "start_time": "2022-04-08T17:47:29.878Z"
   },
   {
    "duration": 58,
    "start_time": "2022-04-08T17:47:30.642Z"
   },
   {
    "duration": 54,
    "start_time": "2022-04-08T17:47:45.346Z"
   },
   {
    "duration": 43,
    "start_time": "2022-04-08T17:48:04.247Z"
   },
   {
    "duration": 53,
    "start_time": "2022-04-08T17:48:12.387Z"
   },
   {
    "duration": 48,
    "start_time": "2022-04-08T17:50:31.096Z"
   },
   {
    "duration": 55,
    "start_time": "2022-04-08T17:51:20.419Z"
   },
   {
    "duration": 18,
    "start_time": "2022-04-08T17:52:59.384Z"
   },
   {
    "duration": 19,
    "start_time": "2022-04-08T18:00:11.603Z"
   },
   {
    "duration": 14,
    "start_time": "2022-04-08T18:01:57.566Z"
   },
   {
    "duration": 131,
    "start_time": "2022-04-08T18:02:30.935Z"
   },
   {
    "duration": 3,
    "start_time": "2022-04-08T18:04:27.834Z"
   },
   {
    "duration": 188,
    "start_time": "2022-04-08T18:04:33.803Z"
   },
   {
    "duration": 194,
    "start_time": "2022-04-08T18:05:10.116Z"
   },
   {
    "duration": 95,
    "start_time": "2022-04-08T18:07:17.766Z"
   },
   {
    "duration": 123,
    "start_time": "2022-04-08T18:07:29.492Z"
   },
   {
    "duration": 156,
    "start_time": "2022-04-08T18:10:10.308Z"
   },
   {
    "duration": 171,
    "start_time": "2022-04-08T18:11:59.532Z"
   },
   {
    "duration": 165,
    "start_time": "2022-04-08T18:12:04.391Z"
   },
   {
    "duration": 200,
    "start_time": "2022-04-08T18:12:51.891Z"
   },
   {
    "duration": 184,
    "start_time": "2022-04-08T18:12:58.304Z"
   },
   {
    "duration": 371,
    "start_time": "2022-04-08T18:13:17.342Z"
   },
   {
    "duration": 121,
    "start_time": "2022-04-08T18:15:30.362Z"
   },
   {
    "duration": 192,
    "start_time": "2022-04-08T18:18:16.412Z"
   },
   {
    "duration": 136,
    "start_time": "2022-04-08T18:18:21.432Z"
   },
   {
    "duration": 126,
    "start_time": "2022-04-08T18:18:25.585Z"
   },
   {
    "duration": 204,
    "start_time": "2022-04-08T18:18:32.056Z"
   },
   {
    "duration": 3337,
    "start_time": "2022-04-08T18:19:57.375Z"
   },
   {
    "duration": 145,
    "start_time": "2022-04-08T18:20:29.409Z"
   },
   {
    "duration": 136,
    "start_time": "2022-04-08T18:20:54.527Z"
   },
   {
    "duration": 148,
    "start_time": "2022-04-08T18:21:05.259Z"
   },
   {
    "duration": 5,
    "start_time": "2022-04-08T18:22:02.101Z"
   },
   {
    "duration": 3232,
    "start_time": "2022-04-08T18:22:35.521Z"
   },
   {
    "duration": 3220,
    "start_time": "2022-04-08T18:22:53.005Z"
   },
   {
    "duration": 122,
    "start_time": "2022-04-08T18:23:37.142Z"
   },
   {
    "duration": 137,
    "start_time": "2022-04-08T18:23:44.143Z"
   },
   {
    "duration": 276,
    "start_time": "2022-04-08T18:24:10.955Z"
   },
   {
    "duration": 257,
    "start_time": "2022-04-08T18:24:53.400Z"
   },
   {
    "duration": 254,
    "start_time": "2022-04-08T18:25:08.869Z"
   },
   {
    "duration": 281,
    "start_time": "2022-04-08T18:25:46.915Z"
   },
   {
    "duration": 273,
    "start_time": "2022-04-08T18:26:34.328Z"
   },
   {
    "duration": 12,
    "start_time": "2022-04-08T18:29:17.272Z"
   },
   {
    "duration": 15,
    "start_time": "2022-04-08T18:29:31.501Z"
   },
   {
    "duration": 13,
    "start_time": "2022-04-08T18:29:40.868Z"
   },
   {
    "duration": 12,
    "start_time": "2022-04-08T18:31:28.702Z"
   },
   {
    "duration": 11,
    "start_time": "2022-04-08T18:31:47.870Z"
   },
   {
    "duration": 14,
    "start_time": "2022-04-08T18:31:57.448Z"
   },
   {
    "duration": 39,
    "start_time": "2022-04-08T18:33:21.526Z"
   },
   {
    "duration": 33,
    "start_time": "2022-04-08T18:33:25.609Z"
   },
   {
    "duration": 271,
    "start_time": "2022-04-08T18:34:47.776Z"
   },
   {
    "duration": 3,
    "start_time": "2022-04-08T18:38:09.188Z"
   },
   {
    "duration": 11,
    "start_time": "2022-04-08T18:39:40.725Z"
   },
   {
    "duration": 115,
    "start_time": "2022-04-08T18:39:55.029Z"
   },
   {
    "duration": 242,
    "start_time": "2022-04-08T18:40:54.170Z"
   },
   {
    "duration": 136,
    "start_time": "2022-04-08T18:42:02.891Z"
   },
   {
    "duration": 295,
    "start_time": "2022-04-08T18:42:45.194Z"
   },
   {
    "duration": 328,
    "start_time": "2022-04-08T18:43:11.720Z"
   },
   {
    "duration": 464,
    "start_time": "2022-04-08T18:44:07.562Z"
   },
   {
    "duration": 217,
    "start_time": "2022-04-08T18:44:28.320Z"
   },
   {
    "duration": 376,
    "start_time": "2022-04-08T18:44:31.947Z"
   },
   {
    "duration": 346,
    "start_time": "2022-04-08T18:44:41.136Z"
   },
   {
    "duration": 443,
    "start_time": "2022-04-08T18:44:48.801Z"
   },
   {
    "duration": 19,
    "start_time": "2022-04-08T18:50:15.446Z"
   },
   {
    "duration": 201,
    "start_time": "2022-04-08T18:50:43.053Z"
   },
   {
    "duration": 185,
    "start_time": "2022-04-08T18:50:48.237Z"
   },
   {
    "duration": 191,
    "start_time": "2022-04-08T18:50:58.608Z"
   },
   {
    "duration": 194,
    "start_time": "2022-04-08T18:51:57.248Z"
   },
   {
    "duration": 190,
    "start_time": "2022-04-08T18:52:12.088Z"
   },
   {
    "duration": 19,
    "start_time": "2022-04-08T18:52:34.573Z"
   },
   {
    "duration": 145,
    "start_time": "2022-04-08T18:56:44.814Z"
   },
   {
    "duration": 135,
    "start_time": "2022-04-08T18:57:26.687Z"
   },
   {
    "duration": 199,
    "start_time": "2022-04-08T18:58:11.253Z"
   },
   {
    "duration": 147,
    "start_time": "2022-04-08T19:08:43.238Z"
   },
   {
    "duration": 181,
    "start_time": "2022-04-08T19:09:24.867Z"
   },
   {
    "duration": 255,
    "start_time": "2022-04-08T19:09:41.867Z"
   },
   {
    "duration": 189,
    "start_time": "2022-04-08T19:09:44.777Z"
   },
   {
    "duration": 290,
    "start_time": "2022-04-08T19:10:36.053Z"
   },
   {
    "duration": 187,
    "start_time": "2022-04-08T19:12:21.011Z"
   },
   {
    "duration": 178,
    "start_time": "2022-04-08T19:12:39.663Z"
   },
   {
    "duration": 302,
    "start_time": "2022-04-08T19:13:16.294Z"
   },
   {
    "duration": 21,
    "start_time": "2022-04-08T19:14:34.491Z"
   },
   {
    "duration": 203,
    "start_time": "2022-04-08T19:15:44.088Z"
   },
   {
    "duration": 122,
    "start_time": "2022-04-08T19:16:12.290Z"
   },
   {
    "duration": 123,
    "start_time": "2022-04-08T19:16:57.871Z"
   },
   {
    "duration": 132,
    "start_time": "2022-04-08T19:17:14.866Z"
   },
   {
    "duration": 135,
    "start_time": "2022-04-08T19:18:06.601Z"
   },
   {
    "duration": 128,
    "start_time": "2022-04-08T19:18:37.598Z"
   },
   {
    "duration": 114,
    "start_time": "2022-04-08T19:18:45.926Z"
   },
   {
    "duration": 123,
    "start_time": "2022-04-08T19:18:57.308Z"
   },
   {
    "duration": 296,
    "start_time": "2022-04-08T19:20:21.607Z"
   },
   {
    "duration": 126,
    "start_time": "2022-04-08T19:21:08.548Z"
   },
   {
    "duration": 215,
    "start_time": "2022-04-08T19:23:52.955Z"
   },
   {
    "duration": 279,
    "start_time": "2022-04-08T19:24:06.053Z"
   },
   {
    "duration": 1528,
    "start_time": "2022-04-14T06:15:16.012Z"
   },
   {
    "duration": 11,
    "start_time": "2022-04-14T06:15:17.542Z"
   },
   {
    "duration": 7,
    "start_time": "2022-04-14T06:15:17.554Z"
   },
   {
    "duration": 13,
    "start_time": "2022-04-14T06:15:17.563Z"
   },
   {
    "duration": 9,
    "start_time": "2022-04-14T06:15:17.578Z"
   },
   {
    "duration": 825,
    "start_time": "2022-04-14T06:15:17.589Z"
   },
   {
    "duration": 4,
    "start_time": "2022-04-14T06:15:18.416Z"
   },
   {
    "duration": 25,
    "start_time": "2022-04-14T06:15:18.422Z"
   },
   {
    "duration": 4,
    "start_time": "2022-04-14T06:15:18.449Z"
   },
   {
    "duration": 22,
    "start_time": "2022-04-14T06:15:18.454Z"
   },
   {
    "duration": 159,
    "start_time": "2022-04-14T06:15:18.478Z"
   },
   {
    "duration": 225,
    "start_time": "2022-04-14T06:15:18.639Z"
   },
   {
    "duration": 27,
    "start_time": "2022-04-14T06:15:18.865Z"
   },
   {
    "duration": 149,
    "start_time": "2022-04-14T06:15:18.894Z"
   },
   {
    "duration": 332,
    "start_time": "2022-04-14T06:15:19.044Z"
   },
   {
    "duration": 18,
    "start_time": "2022-04-14T06:15:19.378Z"
   },
   {
    "duration": 352,
    "start_time": "2022-04-14T06:15:19.397Z"
   },
   {
    "duration": 263,
    "start_time": "2022-04-14T06:15:19.751Z"
   },
   {
    "duration": 12,
    "start_time": "2022-04-14T06:15:20.016Z"
   },
   {
    "duration": 142,
    "start_time": "2022-04-14T06:15:20.030Z"
   },
   {
    "duration": 131,
    "start_time": "2022-04-14T06:15:20.174Z"
   },
   {
    "duration": 43,
    "start_time": "2022-04-14T06:51:57.743Z"
   },
   {
    "duration": 1158,
    "start_time": "2022-04-14T06:52:01.693Z"
   },
   {
    "duration": 10,
    "start_time": "2022-04-14T06:52:02.853Z"
   },
   {
    "duration": 11,
    "start_time": "2022-04-14T06:52:04.623Z"
   },
   {
    "duration": 1241,
    "start_time": "2022-04-14T07:00:27.773Z"
   },
   {
    "duration": 10,
    "start_time": "2022-04-14T07:00:30.107Z"
   },
   {
    "duration": 6,
    "start_time": "2022-04-14T07:00:31.923Z"
   },
   {
    "duration": 28,
    "start_time": "2022-04-14T07:01:07.116Z"
   },
   {
    "duration": 13,
    "start_time": "2022-04-14T07:01:13.265Z"
   },
   {
    "duration": 88,
    "start_time": "2022-04-14T07:06:25.295Z"
   },
   {
    "duration": 5,
    "start_time": "2022-04-14T07:06:29.918Z"
   },
   {
    "duration": 9,
    "start_time": "2022-04-14T07:06:34.576Z"
   },
   {
    "duration": 5,
    "start_time": "2022-04-14T07:06:36.696Z"
   },
   {
    "duration": 31,
    "start_time": "2022-04-14T07:21:50.458Z"
   },
   {
    "duration": 240,
    "start_time": "2022-04-14T07:29:43.116Z"
   },
   {
    "duration": 9,
    "start_time": "2022-04-14T07:30:34.172Z"
   },
   {
    "duration": 1586,
    "start_time": "2022-04-14T07:43:33.982Z"
   },
   {
    "duration": 1177,
    "start_time": "2022-04-14T07:43:50.659Z"
   },
   {
    "duration": 10,
    "start_time": "2022-04-14T07:43:51.838Z"
   },
   {
    "duration": 8,
    "start_time": "2022-04-14T07:43:51.850Z"
   },
   {
    "duration": 14,
    "start_time": "2022-04-14T07:43:51.860Z"
   },
   {
    "duration": 12,
    "start_time": "2022-04-14T07:43:51.876Z"
   },
   {
    "duration": 864,
    "start_time": "2022-04-14T07:43:51.890Z"
   },
   {
    "duration": 5,
    "start_time": "2022-04-14T07:43:52.756Z"
   },
   {
    "duration": 15,
    "start_time": "2022-04-14T07:43:52.763Z"
   },
   {
    "duration": 5,
    "start_time": "2022-04-14T07:43:54.919Z"
   },
   {
    "duration": 1676,
    "start_time": "2022-04-14T08:04:30.234Z"
   },
   {
    "duration": 5,
    "start_time": "2022-04-14T08:04:34.255Z"
   },
   {
    "duration": 8,
    "start_time": "2022-04-14T08:04:36.392Z"
   },
   {
    "duration": 1610,
    "start_time": "2022-04-14T08:35:36.353Z"
   },
   {
    "duration": 1204,
    "start_time": "2022-04-14T08:35:46.715Z"
   },
   {
    "duration": 13,
    "start_time": "2022-04-14T08:35:47.921Z"
   },
   {
    "duration": 8,
    "start_time": "2022-04-14T08:35:47.936Z"
   },
   {
    "duration": 12,
    "start_time": "2022-04-14T08:35:47.946Z"
   },
   {
    "duration": 9,
    "start_time": "2022-04-14T08:35:47.961Z"
   },
   {
    "duration": 1205,
    "start_time": "2022-04-14T08:35:47.972Z"
   },
   {
    "duration": 5,
    "start_time": "2022-04-14T08:35:49.179Z"
   },
   {
    "duration": 22,
    "start_time": "2022-04-14T08:35:49.186Z"
   },
   {
    "duration": 5,
    "start_time": "2022-04-14T08:35:49.210Z"
   },
   {
    "duration": 40,
    "start_time": "2022-04-14T08:35:49.217Z"
   },
   {
    "duration": 161,
    "start_time": "2022-04-14T08:35:49.258Z"
   },
   {
    "duration": 237,
    "start_time": "2022-04-14T08:35:49.421Z"
   },
   {
    "duration": 28,
    "start_time": "2022-04-14T08:35:49.660Z"
   },
   {
    "duration": 158,
    "start_time": "2022-04-14T08:35:49.691Z"
   },
   {
    "duration": 453,
    "start_time": "2022-04-14T08:35:49.851Z"
   },
   {
    "duration": 22,
    "start_time": "2022-04-14T08:35:50.306Z"
   },
   {
    "duration": 8,
    "start_time": "2022-04-14T08:35:50.329Z"
   },
   {
    "duration": 367,
    "start_time": "2022-04-14T08:35:50.338Z"
   },
   {
    "duration": 269,
    "start_time": "2022-04-14T08:35:50.706Z"
   },
   {
    "duration": 12,
    "start_time": "2022-04-14T08:35:50.977Z"
   },
   {
    "duration": 157,
    "start_time": "2022-04-14T08:35:50.991Z"
   },
   {
    "duration": 133,
    "start_time": "2022-04-14T08:35:51.150Z"
   },
   {
    "duration": 118,
    "start_time": "2022-04-14T08:36:24.789Z"
   },
   {
    "duration": 25,
    "start_time": "2022-04-14T08:38:58.635Z"
   },
   {
    "duration": 202,
    "start_time": "2022-04-14T08:48:52.118Z"
   },
   {
    "duration": 206,
    "start_time": "2022-04-14T08:49:15.976Z"
   },
   {
    "duration": 1199,
    "start_time": "2022-04-14T08:58:06.757Z"
   },
   {
    "duration": 10,
    "start_time": "2022-04-14T08:58:07.958Z"
   },
   {
    "duration": 8,
    "start_time": "2022-04-14T08:58:07.969Z"
   },
   {
    "duration": 17,
    "start_time": "2022-04-14T08:58:07.979Z"
   },
   {
    "duration": 14,
    "start_time": "2022-04-14T08:58:07.999Z"
   },
   {
    "duration": 1381,
    "start_time": "2022-04-14T08:58:08.015Z"
   },
   {
    "duration": 6,
    "start_time": "2022-04-14T08:58:09.398Z"
   },
   {
    "duration": 23,
    "start_time": "2022-04-14T08:58:09.405Z"
   },
   {
    "duration": 19,
    "start_time": "2022-04-14T08:58:09.430Z"
   },
   {
    "duration": 27,
    "start_time": "2022-04-14T08:58:09.451Z"
   },
   {
    "duration": 252,
    "start_time": "2022-04-14T08:58:09.480Z"
   },
   {
    "duration": 364,
    "start_time": "2022-04-14T08:58:09.735Z"
   },
   {
    "duration": 48,
    "start_time": "2022-04-14T08:58:10.101Z"
   },
   {
    "duration": 219,
    "start_time": "2022-04-14T08:58:10.152Z"
   },
   {
    "duration": 475,
    "start_time": "2022-04-14T08:58:10.373Z"
   },
   {
    "duration": 20,
    "start_time": "2022-04-14T08:58:10.850Z"
   },
   {
    "duration": 374,
    "start_time": "2022-04-14T08:58:10.871Z"
   },
   {
    "duration": 276,
    "start_time": "2022-04-14T08:58:11.247Z"
   },
   {
    "duration": 22,
    "start_time": "2022-04-14T08:58:11.525Z"
   },
   {
    "duration": 141,
    "start_time": "2022-04-14T08:58:11.549Z"
   },
   {
    "duration": 132,
    "start_time": "2022-04-14T08:58:11.692Z"
   },
   {
    "duration": 138,
    "start_time": "2022-04-14T19:46:23.839Z"
   },
   {
    "duration": 2116,
    "start_time": "2022-04-14T19:57:55.292Z"
   },
   {
    "duration": 216,
    "start_time": "2022-04-14T19:58:18.058Z"
   },
   {
    "duration": 108,
    "start_time": "2022-04-14T19:58:28.771Z"
   },
   {
    "duration": 106,
    "start_time": "2022-04-14T19:58:40.957Z"
   },
   {
    "duration": 125,
    "start_time": "2022-04-14T19:59:17.390Z"
   },
   {
    "duration": 148,
    "start_time": "2022-04-14T19:59:32.528Z"
   },
   {
    "duration": 124,
    "start_time": "2022-04-14T20:00:12.747Z"
   },
   {
    "duration": 121,
    "start_time": "2022-04-14T20:01:43.711Z"
   },
   {
    "duration": 21,
    "start_time": "2022-04-14T20:06:02.006Z"
   },
   {
    "duration": 17,
    "start_time": "2022-04-14T20:06:29.398Z"
   },
   {
    "duration": 13,
    "start_time": "2022-04-14T20:11:23.378Z"
   },
   {
    "duration": 18,
    "start_time": "2022-04-14T20:11:27.614Z"
   },
   {
    "duration": 12,
    "start_time": "2022-04-14T20:11:43.677Z"
   },
   {
    "duration": 16,
    "start_time": "2022-04-14T20:11:48.176Z"
   },
   {
    "duration": 30,
    "start_time": "2022-04-14T20:13:40.344Z"
   },
   {
    "duration": 30,
    "start_time": "2022-04-14T20:14:58.975Z"
   },
   {
    "duration": 33,
    "start_time": "2022-04-14T20:15:04.175Z"
   },
   {
    "duration": 25,
    "start_time": "2022-04-14T20:15:18.631Z"
   },
   {
    "duration": 22,
    "start_time": "2022-04-14T20:15:31.730Z"
   },
   {
    "duration": 1580,
    "start_time": "2022-04-14T20:15:40.131Z"
   },
   {
    "duration": 17,
    "start_time": "2022-04-14T20:15:41.713Z"
   },
   {
    "duration": 38,
    "start_time": "2022-04-14T20:15:42.848Z"
   },
   {
    "duration": 51,
    "start_time": "2022-04-14T20:16:51.233Z"
   },
   {
    "duration": 92,
    "start_time": "2022-04-14T20:16:57.272Z"
   },
   {
    "duration": 60,
    "start_time": "2022-04-14T20:17:31.847Z"
   },
   {
    "duration": 1660,
    "start_time": "2022-04-14T20:17:48.531Z"
   },
   {
    "duration": 12,
    "start_time": "2022-04-14T20:17:51.080Z"
   },
   {
    "duration": 34,
    "start_time": "2022-04-14T20:17:53.151Z"
   },
   {
    "duration": 55,
    "start_time": "2022-04-14T20:18:02.931Z"
   },
   {
    "duration": 94,
    "start_time": "2022-04-14T20:18:09.944Z"
   },
   {
    "duration": 1772,
    "start_time": "2022-04-14T20:18:22.796Z"
   },
   {
    "duration": 16,
    "start_time": "2022-04-14T20:18:24.572Z"
   },
   {
    "duration": 54,
    "start_time": "2022-04-14T20:18:25.344Z"
   },
   {
    "duration": 61,
    "start_time": "2022-04-14T20:19:44.715Z"
   },
   {
    "duration": 77,
    "start_time": "2022-04-14T20:21:44.409Z"
   },
   {
    "duration": 1433,
    "start_time": "2022-04-14T20:21:54.813Z"
   },
   {
    "duration": 12,
    "start_time": "2022-04-14T20:21:56.274Z"
   },
   {
    "duration": 56,
    "start_time": "2022-04-14T20:21:57.331Z"
   },
   {
    "duration": 176,
    "start_time": "2022-04-14T20:22:57.103Z"
   },
   {
    "duration": 20,
    "start_time": "2022-04-14T20:23:07.140Z"
   },
   {
    "duration": 31,
    "start_time": "2022-04-14T20:23:12.316Z"
   },
   {
    "duration": 1862,
    "start_time": "2022-04-14T20:23:21.719Z"
   },
   {
    "duration": 18,
    "start_time": "2022-04-14T20:23:23.583Z"
   },
   {
    "duration": 35,
    "start_time": "2022-04-14T20:23:24.957Z"
   },
   {
    "duration": 1914,
    "start_time": "2022-04-14T20:24:20.442Z"
   },
   {
    "duration": 1783,
    "start_time": "2022-04-14T20:24:41.027Z"
   },
   {
    "duration": 1703,
    "start_time": "2022-04-14T20:25:37.901Z"
   },
   {
    "duration": 1406,
    "start_time": "2022-04-14T20:25:55.066Z"
   },
   {
    "duration": 13,
    "start_time": "2022-04-14T20:25:56.690Z"
   },
   {
    "duration": 34,
    "start_time": "2022-04-14T20:25:58.178Z"
   },
   {
    "duration": 88,
    "start_time": "2022-04-14T20:26:21.429Z"
   },
   {
    "duration": 36,
    "start_time": "2022-04-14T20:26:29.792Z"
   },
   {
    "duration": 44,
    "start_time": "2022-04-14T20:26:50.448Z"
   },
   {
    "duration": 1483,
    "start_time": "2022-04-14T20:27:20.979Z"
   },
   {
    "duration": 13,
    "start_time": "2022-04-14T20:27:23.098Z"
   },
   {
    "duration": 41,
    "start_time": "2022-04-14T20:27:23.906Z"
   },
   {
    "duration": 1519,
    "start_time": "2022-04-14T20:27:38.095Z"
   },
   {
    "duration": 18,
    "start_time": "2022-04-14T20:27:39.617Z"
   },
   {
    "duration": 51,
    "start_time": "2022-04-14T20:27:40.113Z"
   },
   {
    "duration": 29,
    "start_time": "2022-04-14T20:28:18.841Z"
   },
   {
    "duration": 30,
    "start_time": "2022-04-14T20:28:30.246Z"
   },
   {
    "duration": 47,
    "start_time": "2022-04-14T20:28:41.459Z"
   },
   {
    "duration": 47,
    "start_time": "2022-04-14T20:28:49.457Z"
   },
   {
    "duration": 44,
    "start_time": "2022-04-14T20:29:01.506Z"
   },
   {
    "duration": 1915,
    "start_time": "2022-04-14T20:29:08.355Z"
   },
   {
    "duration": 19,
    "start_time": "2022-04-14T20:29:10.273Z"
   },
   {
    "duration": 58,
    "start_time": "2022-04-14T20:29:10.294Z"
   },
   {
    "duration": 31,
    "start_time": "2022-04-14T20:30:19.484Z"
   },
   {
    "duration": 30,
    "start_time": "2022-04-14T20:30:55.345Z"
   },
   {
    "duration": 120,
    "start_time": "2022-04-14T20:33:19.876Z"
   },
   {
    "duration": 37,
    "start_time": "2022-04-14T20:33:27.198Z"
   },
   {
    "duration": 12,
    "start_time": "2022-04-14T20:33:40.448Z"
   },
   {
    "duration": 12,
    "start_time": "2022-04-14T20:33:47.275Z"
   },
   {
    "duration": 11,
    "start_time": "2022-04-14T20:34:10.754Z"
   },
   {
    "duration": 1472,
    "start_time": "2022-04-14T20:34:22.491Z"
   },
   {
    "duration": 12,
    "start_time": "2022-04-14T20:34:23.965Z"
   },
   {
    "duration": 1846,
    "start_time": "2022-04-14T20:34:24.390Z"
   },
   {
    "duration": 1697,
    "start_time": "2022-04-14T20:34:39.228Z"
   },
   {
    "duration": 1438,
    "start_time": "2022-04-14T20:34:53.840Z"
   },
   {
    "duration": 18,
    "start_time": "2022-04-14T20:34:55.617Z"
   },
   {
    "duration": 42,
    "start_time": "2022-04-14T20:34:57.198Z"
   },
   {
    "duration": 27,
    "start_time": "2022-04-14T20:40:01.911Z"
   },
   {
    "duration": 27,
    "start_time": "2022-04-14T20:40:31.852Z"
   },
   {
    "duration": 1861,
    "start_time": "2022-04-14T20:40:35.251Z"
   },
   {
    "duration": 24,
    "start_time": "2022-04-14T20:41:05.314Z"
   },
   {
    "duration": 17,
    "start_time": "2022-04-14T20:41:17.365Z"
   },
   {
    "duration": 28,
    "start_time": "2022-04-14T20:41:31.243Z"
   },
   {
    "duration": 1796,
    "start_time": "2022-04-14T20:41:45.105Z"
   },
   {
    "duration": 18,
    "start_time": "2022-04-14T20:41:54.443Z"
   },
   {
    "duration": 1762,
    "start_time": "2022-04-14T20:43:05.686Z"
   },
   {
    "duration": 26,
    "start_time": "2022-04-14T20:43:25.215Z"
   },
   {
    "duration": 1839,
    "start_time": "2022-04-14T20:43:39.703Z"
   },
   {
    "duration": 4,
    "start_time": "2022-04-14T20:44:26.136Z"
   },
   {
    "duration": 20,
    "start_time": "2022-04-14T20:44:39.894Z"
   },
   {
    "duration": 19,
    "start_time": "2022-04-14T20:45:49.573Z"
   },
   {
    "duration": 6,
    "start_time": "2022-04-14T20:45:55.680Z"
   },
   {
    "duration": 8,
    "start_time": "2022-04-14T20:46:01.628Z"
   },
   {
    "duration": 6,
    "start_time": "2022-04-14T20:46:11.884Z"
   },
   {
    "duration": 1423,
    "start_time": "2022-04-14T20:46:22.189Z"
   },
   {
    "duration": 12,
    "start_time": "2022-04-14T20:46:23.673Z"
   },
   {
    "duration": 8,
    "start_time": "2022-04-14T20:46:24.834Z"
   },
   {
    "duration": 14,
    "start_time": "2022-04-14T20:46:25.702Z"
   },
   {
    "duration": 17,
    "start_time": "2022-04-14T20:46:31.819Z"
   },
   {
    "duration": 14,
    "start_time": "2022-04-14T20:46:42.648Z"
   },
   {
    "duration": 119,
    "start_time": "2022-04-14T20:46:53.170Z"
   },
   {
    "duration": 13,
    "start_time": "2022-04-14T20:47:10.924Z"
   },
   {
    "duration": 10,
    "start_time": "2022-04-14T20:47:45.106Z"
   },
   {
    "duration": 15,
    "start_time": "2022-04-14T20:47:58.590Z"
   },
   {
    "duration": 1394,
    "start_time": "2022-04-14T20:48:05.733Z"
   },
   {
    "duration": 13,
    "start_time": "2022-04-14T20:48:07.129Z"
   },
   {
    "duration": 8,
    "start_time": "2022-04-14T20:48:07.380Z"
   },
   {
    "duration": 14,
    "start_time": "2022-04-14T20:48:32.749Z"
   },
   {
    "duration": 1380,
    "start_time": "2022-04-14T20:49:19.699Z"
   },
   {
    "duration": 17,
    "start_time": "2022-04-14T20:49:21.082Z"
   },
   {
    "duration": 21,
    "start_time": "2022-04-14T20:49:21.494Z"
   },
   {
    "duration": 11,
    "start_time": "2022-04-14T20:49:23.541Z"
   },
   {
    "duration": 19,
    "start_time": "2022-04-14T20:49:24.319Z"
   },
   {
    "duration": 163,
    "start_time": "2022-04-14T20:51:14.976Z"
   },
   {
    "duration": 24,
    "start_time": "2022-04-14T20:53:41.354Z"
   },
   {
    "duration": 29,
    "start_time": "2022-04-14T20:54:04.337Z"
   },
   {
    "duration": 7,
    "start_time": "2022-04-14T21:07:45.878Z"
   },
   {
    "duration": 12,
    "start_time": "2022-04-14T21:07:48.441Z"
   },
   {
    "duration": 1404,
    "start_time": "2022-04-14T21:07:56.717Z"
   },
   {
    "duration": 16,
    "start_time": "2022-04-14T21:07:58.125Z"
   },
   {
    "duration": 34,
    "start_time": "2022-04-14T21:07:58.610Z"
   },
   {
    "duration": 6,
    "start_time": "2022-04-14T21:07:59.733Z"
   },
   {
    "duration": 12,
    "start_time": "2022-04-14T21:08:00.357Z"
   },
   {
    "duration": 49,
    "start_time": "2022-04-14T21:58:05.811Z"
   },
   {
    "duration": 56,
    "start_time": "2022-04-14T22:02:36.547Z"
   },
   {
    "duration": 55,
    "start_time": "2022-04-14T22:02:42.224Z"
   },
   {
    "duration": 37,
    "start_time": "2022-04-14T22:03:34.629Z"
   },
   {
    "duration": 43,
    "start_time": "2022-04-14T22:05:16.612Z"
   },
   {
    "duration": 43,
    "start_time": "2022-04-14T22:09:45.118Z"
   },
   {
    "duration": 41,
    "start_time": "2022-04-14T22:10:41.016Z"
   },
   {
    "duration": 11,
    "start_time": "2022-04-14T22:10:47.179Z"
   },
   {
    "duration": 13,
    "start_time": "2022-04-14T22:10:58.642Z"
   },
   {
    "duration": 8,
    "start_time": "2022-04-14T22:12:20.496Z"
   },
   {
    "duration": 6,
    "start_time": "2022-04-14T22:12:33.460Z"
   },
   {
    "duration": 10,
    "start_time": "2022-04-14T22:12:51.059Z"
   },
   {
    "duration": 9,
    "start_time": "2022-04-14T22:14:34.112Z"
   },
   {
    "duration": 10,
    "start_time": "2022-04-14T22:17:48.290Z"
   },
   {
    "duration": 11,
    "start_time": "2022-04-14T22:20:03.511Z"
   },
   {
    "duration": 11,
    "start_time": "2022-04-14T22:22:41.415Z"
   },
   {
    "duration": 7,
    "start_time": "2022-04-14T22:23:44.675Z"
   },
   {
    "duration": 8,
    "start_time": "2022-04-14T22:25:34.551Z"
   },
   {
    "duration": 1121,
    "start_time": "2022-04-14T22:25:59.446Z"
   },
   {
    "duration": 1269,
    "start_time": "2022-04-14T22:27:57.716Z"
   },
   {
    "duration": 1187,
    "start_time": "2022-04-14T22:28:07.650Z"
   },
   {
    "duration": 1143,
    "start_time": "2022-04-14T22:28:17.755Z"
   },
   {
    "duration": 991,
    "start_time": "2022-04-14T22:28:27.863Z"
   },
   {
    "duration": 1034,
    "start_time": "2022-04-14T22:29:16.542Z"
   },
   {
    "duration": 1223,
    "start_time": "2022-04-14T22:32:23.275Z"
   },
   {
    "duration": 1007,
    "start_time": "2022-04-14T22:32:29.133Z"
   },
   {
    "duration": 1165,
    "start_time": "2022-04-14T22:33:29.446Z"
   },
   {
    "duration": 1109,
    "start_time": "2022-04-14T22:33:33.312Z"
   },
   {
    "duration": 1289,
    "start_time": "2022-04-14T22:33:38.795Z"
   },
   {
    "duration": 1006,
    "start_time": "2022-04-14T22:36:13.161Z"
   },
   {
    "duration": 1180,
    "start_time": "2022-04-14T22:36:20.356Z"
   },
   {
    "duration": 1600,
    "start_time": "2022-04-14T22:36:30.294Z"
   },
   {
    "duration": 1333,
    "start_time": "2022-04-14T22:37:32.494Z"
   },
   {
    "duration": 1109,
    "start_time": "2022-04-14T22:38:27.034Z"
   },
   {
    "duration": 1787,
    "start_time": "2022-04-14T22:38:34.249Z"
   },
   {
    "duration": 1591,
    "start_time": "2022-04-14T22:39:05.658Z"
   },
   {
    "duration": 1258,
    "start_time": "2022-04-14T22:39:17.314Z"
   },
   {
    "duration": 1188,
    "start_time": "2022-04-14T22:39:55.867Z"
   },
   {
    "duration": 1249,
    "start_time": "2022-04-14T22:40:08.878Z"
   },
   {
    "duration": 1006,
    "start_time": "2022-04-14T22:41:09.246Z"
   },
   {
    "duration": 1298,
    "start_time": "2022-04-14T22:42:18.920Z"
   },
   {
    "duration": 974,
    "start_time": "2022-04-14T22:42:36.296Z"
   },
   {
    "duration": 327,
    "start_time": "2022-04-14T23:27:15.364Z"
   },
   {
    "duration": 163,
    "start_time": "2022-04-14T23:27:46.263Z"
   },
   {
    "duration": 13,
    "start_time": "2022-04-14T23:27:48.257Z"
   },
   {
    "duration": 29,
    "start_time": "2022-04-14T23:27:48.346Z"
   },
   {
    "duration": 6,
    "start_time": "2022-04-14T23:27:48.561Z"
   },
   {
    "duration": 44,
    "start_time": "2022-04-14T23:27:48.787Z"
   },
   {
    "duration": 48,
    "start_time": "2022-04-14T23:27:51.030Z"
   },
   {
    "duration": 12,
    "start_time": "2022-04-14T23:27:53.244Z"
   },
   {
    "duration": 7,
    "start_time": "2022-04-14T23:27:54.193Z"
   },
   {
    "duration": 1297,
    "start_time": "2022-04-14T23:27:56.167Z"
   },
   {
    "duration": 125,
    "start_time": "2022-04-14T23:28:11.898Z"
   },
   {
    "duration": 1466,
    "start_time": "2022-04-14T23:29:35.107Z"
   },
   {
    "duration": 119,
    "start_time": "2022-04-14T23:35:01.695Z"
   },
   {
    "duration": 259,
    "start_time": "2022-04-14T23:37:08.525Z"
   },
   {
    "duration": 104,
    "start_time": "2022-04-14T23:37:19.561Z"
   },
   {
    "duration": 1283,
    "start_time": "2022-04-14T23:46:56.937Z"
   },
   {
    "duration": 123,
    "start_time": "2022-04-14T23:49:19.088Z"
   },
   {
    "duration": 133,
    "start_time": "2022-04-14T23:50:03.302Z"
   },
   {
    "duration": 176,
    "start_time": "2022-04-14T23:50:11.060Z"
   },
   {
    "duration": 117,
    "start_time": "2022-04-14T23:51:32.948Z"
   },
   {
    "duration": 136,
    "start_time": "2022-04-14T23:51:56.590Z"
   },
   {
    "duration": 125,
    "start_time": "2022-04-14T23:52:00.993Z"
   },
   {
    "duration": 119,
    "start_time": "2022-04-14T23:52:06.352Z"
   },
   {
    "duration": 132,
    "start_time": "2022-04-14T23:52:18.024Z"
   },
   {
    "duration": 120,
    "start_time": "2022-04-14T23:52:21.866Z"
   },
   {
    "duration": 1300,
    "start_time": "2022-04-14T23:53:00.445Z"
   },
   {
    "duration": 134,
    "start_time": "2022-04-14T23:54:11.733Z"
   },
   {
    "duration": 159,
    "start_time": "2022-04-14T23:54:21.722Z"
   },
   {
    "duration": 151,
    "start_time": "2022-04-14T23:54:37.949Z"
   },
   {
    "duration": 150,
    "start_time": "2022-04-14T23:55:35.605Z"
   },
   {
    "duration": 5,
    "start_time": "2022-04-14T23:55:39.272Z"
   },
   {
    "duration": 185,
    "start_time": "2022-04-14T23:55:42.611Z"
   },
   {
    "duration": 122,
    "start_time": "2022-04-14T23:57:14.569Z"
   },
   {
    "duration": 152,
    "start_time": "2022-04-14T23:57:21.406Z"
   },
   {
    "duration": 156,
    "start_time": "2022-04-15T00:00:00.895Z"
   },
   {
    "duration": 182,
    "start_time": "2022-04-15T00:00:16.637Z"
   },
   {
    "duration": 1094,
    "start_time": "2022-04-15T00:00:27.478Z"
   },
   {
    "duration": 123,
    "start_time": "2022-04-15T00:00:59.938Z"
   },
   {
    "duration": 1303,
    "start_time": "2022-04-15T00:01:04.950Z"
   },
   {
    "duration": 1420,
    "start_time": "2022-04-15T00:01:24.654Z"
   },
   {
    "duration": 14,
    "start_time": "2022-04-15T00:01:26.076Z"
   },
   {
    "duration": 32,
    "start_time": "2022-04-15T00:01:26.629Z"
   },
   {
    "duration": 6,
    "start_time": "2022-04-15T00:01:26.785Z"
   },
   {
    "duration": 39,
    "start_time": "2022-04-15T00:01:26.992Z"
   },
   {
    "duration": 40,
    "start_time": "2022-04-15T00:01:28.456Z"
   },
   {
    "duration": 12,
    "start_time": "2022-04-15T00:01:29.696Z"
   },
   {
    "duration": 8,
    "start_time": "2022-04-15T00:01:30.325Z"
   },
   {
    "duration": 133,
    "start_time": "2022-04-15T00:01:31.848Z"
   },
   {
    "duration": 1370,
    "start_time": "2022-04-15T00:01:32.772Z"
   },
   {
    "duration": 111,
    "start_time": "2022-04-15T00:03:48.396Z"
   },
   {
    "duration": 1092,
    "start_time": "2022-04-15T00:03:50.846Z"
   },
   {
    "duration": 1435,
    "start_time": "2022-04-15T00:04:04.335Z"
   },
   {
    "duration": 12,
    "start_time": "2022-04-15T00:04:05.772Z"
   },
   {
    "duration": 29,
    "start_time": "2022-04-15T00:04:06.577Z"
   },
   {
    "duration": 7,
    "start_time": "2022-04-15T00:04:06.801Z"
   },
   {
    "duration": 32,
    "start_time": "2022-04-15T00:04:07.135Z"
   },
   {
    "duration": 39,
    "start_time": "2022-04-15T00:04:08.341Z"
   },
   {
    "duration": 10,
    "start_time": "2022-04-15T00:04:10.593Z"
   },
   {
    "duration": 11,
    "start_time": "2022-04-15T00:04:11.642Z"
   },
   {
    "duration": 130,
    "start_time": "2022-04-15T00:04:17.635Z"
   },
   {
    "duration": 1386,
    "start_time": "2022-04-15T00:04:19.019Z"
   },
   {
    "duration": 145,
    "start_time": "2022-04-15T00:05:00.540Z"
   },
   {
    "duration": 220,
    "start_time": "2022-04-15T00:06:00.342Z"
   },
   {
    "duration": 123,
    "start_time": "2022-04-15T00:06:20.531Z"
   },
   {
    "duration": 98,
    "start_time": "2022-04-15T00:06:35.974Z"
   },
   {
    "duration": 155,
    "start_time": "2022-04-15T00:06:48.983Z"
   },
   {
    "duration": 1069,
    "start_time": "2022-04-15T00:06:49.141Z"
   },
   {
    "duration": 167,
    "start_time": "2022-04-15T00:08:33.333Z"
   },
   {
    "duration": 1149,
    "start_time": "2022-04-15T00:08:38.586Z"
   },
   {
    "duration": 181,
    "start_time": "2022-04-15T00:11:33.273Z"
   },
   {
    "duration": 160,
    "start_time": "2022-04-15T00:13:26.690Z"
   },
   {
    "duration": 258,
    "start_time": "2022-04-15T00:15:26.441Z"
   },
   {
    "duration": 168,
    "start_time": "2022-04-15T00:15:32.285Z"
   },
   {
    "duration": 179,
    "start_time": "2022-04-15T00:16:31.307Z"
   },
   {
    "duration": 374,
    "start_time": "2022-04-15T00:17:29.844Z"
   },
   {
    "duration": 163,
    "start_time": "2022-04-15T00:18:31.277Z"
   },
   {
    "duration": 129,
    "start_time": "2022-04-15T00:19:37.675Z"
   },
   {
    "duration": 171,
    "start_time": "2022-04-15T00:19:59.096Z"
   },
   {
    "duration": 151,
    "start_time": "2022-04-15T00:20:28.093Z"
   },
   {
    "duration": 146,
    "start_time": "2022-04-15T00:20:38.143Z"
   },
   {
    "duration": 163,
    "start_time": "2022-04-15T00:21:57.291Z"
   },
   {
    "duration": 9,
    "start_time": "2022-04-15T00:25:09.847Z"
   },
   {
    "duration": 49,
    "start_time": "2022-04-15T00:25:19.306Z"
   },
   {
    "duration": 164,
    "start_time": "2022-04-15T00:26:27.495Z"
   },
   {
    "duration": 1175,
    "start_time": "2022-04-15T00:26:28.489Z"
   },
   {
    "duration": 5,
    "start_time": "2022-04-15T00:26:29.774Z"
   },
   {
    "duration": 13,
    "start_time": "2022-04-15T00:26:30.461Z"
   },
   {
    "duration": 55,
    "start_time": "2022-04-15T00:26:32.042Z"
   },
   {
    "duration": 46,
    "start_time": "2022-04-15T00:26:41.793Z"
   },
   {
    "duration": 1434,
    "start_time": "2022-04-15T00:27:11.675Z"
   },
   {
    "duration": 15,
    "start_time": "2022-04-15T00:27:13.111Z"
   },
   {
    "duration": 51,
    "start_time": "2022-04-15T00:27:13.816Z"
   },
   {
    "duration": 357,
    "start_time": "2022-04-15T00:27:13.971Z"
   },
   {
    "duration": 54,
    "start_time": "2022-04-15T00:27:14.331Z"
   },
   {
    "duration": 45,
    "start_time": "2022-04-15T00:27:15.066Z"
   },
   {
    "duration": 11,
    "start_time": "2022-04-15T00:27:16.264Z"
   },
   {
    "duration": 8,
    "start_time": "2022-04-15T00:27:17.066Z"
   },
   {
    "duration": 162,
    "start_time": "2022-04-15T00:27:18.670Z"
   },
   {
    "duration": 1045,
    "start_time": "2022-04-15T00:27:19.258Z"
   },
   {
    "duration": 6,
    "start_time": "2022-04-15T00:27:21.673Z"
   },
   {
    "duration": 19,
    "start_time": "2022-04-15T00:27:22.750Z"
   },
   {
    "duration": 40,
    "start_time": "2022-04-15T00:27:25.832Z"
   },
   {
    "duration": 6,
    "start_time": "2022-04-15T00:29:24.662Z"
   },
   {
    "duration": 16,
    "start_time": "2022-04-15T00:29:25.891Z"
   },
   {
    "duration": 44,
    "start_time": "2022-04-15T00:29:27.606Z"
   },
   {
    "duration": 1476,
    "start_time": "2022-04-15T00:29:41.015Z"
   },
   {
    "duration": 11,
    "start_time": "2022-04-15T00:29:42.493Z"
   },
   {
    "duration": 29,
    "start_time": "2022-04-15T00:29:42.682Z"
   },
   {
    "duration": 7,
    "start_time": "2022-04-15T00:29:42.835Z"
   },
   {
    "duration": 34,
    "start_time": "2022-04-15T00:29:42.970Z"
   },
   {
    "duration": 48,
    "start_time": "2022-04-15T00:29:44.591Z"
   },
   {
    "duration": 11,
    "start_time": "2022-04-15T00:29:45.594Z"
   },
   {
    "duration": 7,
    "start_time": "2022-04-15T00:29:46.171Z"
   },
   {
    "duration": 181,
    "start_time": "2022-04-15T00:29:47.503Z"
   },
   {
    "duration": 1077,
    "start_time": "2022-04-15T00:29:47.871Z"
   },
   {
    "duration": 6,
    "start_time": "2022-04-15T00:29:51.581Z"
   },
   {
    "duration": 18,
    "start_time": "2022-04-15T00:29:52.475Z"
   },
   {
    "duration": 32,
    "start_time": "2022-04-15T00:29:54.078Z"
   },
   {
    "duration": 32,
    "start_time": "2022-04-15T00:30:14.466Z"
   },
   {
    "duration": 43,
    "start_time": "2022-04-15T00:30:21.420Z"
   },
   {
    "duration": 48,
    "start_time": "2022-04-15T00:30:32.808Z"
   },
   {
    "duration": 44,
    "start_time": "2022-04-15T00:30:38.982Z"
   },
   {
    "duration": 75,
    "start_time": "2022-04-15T00:30:48.408Z"
   },
   {
    "duration": 68,
    "start_time": "2022-04-15T00:31:26.079Z"
   },
   {
    "duration": 38,
    "start_time": "2022-04-15T00:31:39.127Z"
   },
   {
    "duration": 52,
    "start_time": "2022-04-15T00:32:02.147Z"
   },
   {
    "duration": 6,
    "start_time": "2022-04-15T00:32:47.710Z"
   },
   {
    "duration": 168,
    "start_time": "2022-04-15T00:33:39.745Z"
   },
   {
    "duration": 16,
    "start_time": "2022-04-15T00:35:17.330Z"
   },
   {
    "duration": 16,
    "start_time": "2022-04-15T00:36:07.258Z"
   },
   {
    "duration": 1900,
    "start_time": "2022-04-15T10:46:47.096Z"
   },
   {
    "duration": 15,
    "start_time": "2022-04-15T10:46:51.195Z"
   },
   {
    "duration": 3,
    "start_time": "2022-04-15T10:47:27.868Z"
   },
   {
    "duration": 3490,
    "start_time": "2022-04-15T10:51:58.986Z"
   },
   {
    "duration": 3498,
    "start_time": "2022-04-15T10:52:11.398Z"
   },
   {
    "duration": 81,
    "start_time": "2022-04-15T10:52:35.448Z"
   },
   {
    "duration": 37,
    "start_time": "2022-04-15T10:53:05.190Z"
   },
   {
    "duration": 240,
    "start_time": "2022-04-15T10:55:46.325Z"
   },
   {
    "duration": 212,
    "start_time": "2022-04-15T10:55:49.885Z"
   },
   {
    "duration": 26,
    "start_time": "2022-04-15T10:58:06.650Z"
   },
   {
    "duration": 46,
    "start_time": "2022-04-15T10:59:41.698Z"
   },
   {
    "duration": 1643,
    "start_time": "2022-04-15T11:00:01.310Z"
   },
   {
    "duration": 14,
    "start_time": "2022-04-15T11:00:02.956Z"
   },
   {
    "duration": 35,
    "start_time": "2022-04-15T11:00:03.088Z"
   },
   {
    "duration": 8,
    "start_time": "2022-04-15T11:00:03.268Z"
   },
   {
    "duration": 3,
    "start_time": "2022-04-15T11:00:03.436Z"
   },
   {
    "duration": 50,
    "start_time": "2022-04-15T11:00:04.265Z"
   },
   {
    "duration": 36,
    "start_time": "2022-04-15T11:00:05.089Z"
   },
   {
    "duration": 10,
    "start_time": "2022-04-15T11:00:05.950Z"
   },
   {
    "duration": 237,
    "start_time": "2022-04-15T11:00:07.456Z"
   },
   {
    "duration": 1446,
    "start_time": "2022-04-15T11:00:27.660Z"
   },
   {
    "duration": 6,
    "start_time": "2022-04-15T11:00:30.015Z"
   },
   {
    "duration": 25,
    "start_time": "2022-04-15T11:00:31.807Z"
   },
   {
    "duration": 9,
    "start_time": "2022-04-15T11:00:33.035Z"
   },
   {
    "duration": 50,
    "start_time": "2022-04-15T11:00:40.923Z"
   },
   {
    "duration": 7,
    "start_time": "2022-04-15T11:00:56.542Z"
   },
   {
    "duration": 25,
    "start_time": "2022-04-15T11:01:00.280Z"
   },
   {
    "duration": 44,
    "start_time": "2022-04-15T11:01:59.434Z"
   },
   {
    "duration": 1651,
    "start_time": "2022-04-15T11:03:44.186Z"
   },
   {
    "duration": 14,
    "start_time": "2022-04-15T11:03:45.839Z"
   },
   {
    "duration": 34,
    "start_time": "2022-04-15T11:03:46.150Z"
   },
   {
    "duration": 8,
    "start_time": "2022-04-15T11:03:46.346Z"
   },
   {
    "duration": 40,
    "start_time": "2022-04-15T11:03:46.616Z"
   },
   {
    "duration": 49,
    "start_time": "2022-04-15T11:03:48.147Z"
   },
   {
    "duration": 34,
    "start_time": "2022-04-15T11:03:49.435Z"
   },
   {
    "duration": 10,
    "start_time": "2022-04-15T11:03:50.144Z"
   },
   {
    "duration": 321,
    "start_time": "2022-04-15T11:03:52.246Z"
   },
   {
    "duration": 1672,
    "start_time": "2022-04-15T11:03:53.028Z"
   },
   {
    "duration": 5,
    "start_time": "2022-04-15T11:03:54.878Z"
   },
   {
    "duration": 24,
    "start_time": "2022-04-15T11:03:55.973Z"
   },
   {
    "duration": 7,
    "start_time": "2022-04-15T11:03:57.483Z"
   },
   {
    "duration": 23,
    "start_time": "2022-04-15T11:03:59.579Z"
   },
   {
    "duration": 56,
    "start_time": "2022-04-15T11:04:12.897Z"
   },
   {
    "duration": 19,
    "start_time": "2022-04-15T11:04:39.667Z"
   },
   {
    "duration": 198,
    "start_time": "2022-04-15T11:05:48.525Z"
   },
   {
    "duration": 156,
    "start_time": "2022-04-15T11:07:03.468Z"
   },
   {
    "duration": 14,
    "start_time": "2022-04-15T11:07:05.736Z"
   },
   {
    "duration": 31,
    "start_time": "2022-04-15T11:07:06.616Z"
   },
   {
    "duration": 8,
    "start_time": "2022-04-15T11:07:06.795Z"
   },
   {
    "duration": 38,
    "start_time": "2022-04-15T11:07:07.004Z"
   },
   {
    "duration": 52,
    "start_time": "2022-04-15T11:07:08.027Z"
   },
   {
    "duration": 35,
    "start_time": "2022-04-15T11:07:09.063Z"
   },
   {
    "duration": 10,
    "start_time": "2022-04-15T11:07:09.446Z"
   },
   {
    "duration": 201,
    "start_time": "2022-04-15T11:07:10.281Z"
   },
   {
    "duration": 1520,
    "start_time": "2022-04-15T11:07:10.532Z"
   },
   {
    "duration": 6,
    "start_time": "2022-04-15T11:07:12.054Z"
   },
   {
    "duration": 31,
    "start_time": "2022-04-15T11:07:12.067Z"
   },
   {
    "duration": 7,
    "start_time": "2022-04-15T11:07:13.017Z"
   },
   {
    "duration": 22,
    "start_time": "2022-04-15T11:07:16.120Z"
   },
   {
    "duration": 264,
    "start_time": "2022-04-15T11:07:20.080Z"
   },
   {
    "duration": 401,
    "start_time": "2022-04-15T11:07:21.970Z"
   },
   {
    "duration": 52,
    "start_time": "2022-04-15T11:07:29.046Z"
   },
   {
    "duration": 231,
    "start_time": "2022-04-15T11:08:34.179Z"
   },
   {
    "duration": 211,
    "start_time": "2022-04-15T11:09:05.462Z"
   },
   {
    "duration": 205,
    "start_time": "2022-04-15T11:09:11.032Z"
   },
   {
    "duration": 399,
    "start_time": "2022-04-15T11:09:24.073Z"
   },
   {
    "duration": 433,
    "start_time": "2022-04-15T11:09:27.195Z"
   },
   {
    "duration": 431,
    "start_time": "2022-04-15T11:09:47.116Z"
   },
   {
    "duration": 609,
    "start_time": "2022-04-15T11:09:55.036Z"
   },
   {
    "duration": 431,
    "start_time": "2022-04-15T11:10:02.932Z"
   },
   {
    "duration": 249,
    "start_time": "2022-04-15T11:10:35.078Z"
   },
   {
    "duration": 202,
    "start_time": "2022-04-15T11:11:16.439Z"
   },
   {
    "duration": 244,
    "start_time": "2022-04-15T11:11:30.641Z"
   },
   {
    "duration": 448,
    "start_time": "2022-04-15T11:11:37.381Z"
   },
   {
    "duration": 398,
    "start_time": "2022-04-15T11:11:51.154Z"
   },
   {
    "duration": 27,
    "start_time": "2022-04-15T11:12:36.092Z"
   },
   {
    "duration": 27,
    "start_time": "2022-04-15T11:14:30.941Z"
   },
   {
    "duration": 73,
    "start_time": "2022-04-15T11:15:03.577Z"
   },
   {
    "duration": 112,
    "start_time": "2022-04-15T11:16:50.207Z"
   },
   {
    "duration": 210,
    "start_time": "2022-04-15T11:18:38.467Z"
   },
   {
    "duration": 244,
    "start_time": "2022-04-15T11:18:45.975Z"
   },
   {
    "duration": 726,
    "start_time": "2022-04-15T11:18:55.696Z"
   },
   {
    "duration": 588,
    "start_time": "2022-04-15T11:19:33.888Z"
   },
   {
    "duration": 18,
    "start_time": "2022-04-15T11:20:10.491Z"
   },
   {
    "duration": 238,
    "start_time": "2022-04-15T11:20:24.769Z"
   },
   {
    "duration": 229,
    "start_time": "2022-04-15T11:20:28.935Z"
   },
   {
    "duration": 215,
    "start_time": "2022-04-15T11:28:39.530Z"
   },
   {
    "duration": 53,
    "start_time": "2022-04-15T11:28:48.325Z"
   },
   {
    "duration": 34,
    "start_time": "2022-04-15T11:28:59.098Z"
   },
   {
    "duration": 69,
    "start_time": "2022-04-15T11:32:05.662Z"
   },
   {
    "duration": 133,
    "start_time": "2022-04-15T11:32:25.293Z"
   },
   {
    "duration": 26,
    "start_time": "2022-04-15T11:32:55.130Z"
   },
   {
    "duration": 19,
    "start_time": "2022-04-15T11:34:49.802Z"
   },
   {
    "duration": 1759,
    "start_time": "2022-04-15T11:35:04.505Z"
   },
   {
    "duration": 20,
    "start_time": "2022-04-15T11:35:06.267Z"
   },
   {
    "duration": 39,
    "start_time": "2022-04-15T11:35:06.307Z"
   },
   {
    "duration": 8,
    "start_time": "2022-04-15T11:35:06.487Z"
   },
   {
    "duration": 37,
    "start_time": "2022-04-15T11:35:06.706Z"
   },
   {
    "duration": 51,
    "start_time": "2022-04-15T11:35:07.556Z"
   },
   {
    "duration": 37,
    "start_time": "2022-04-15T11:35:08.629Z"
   },
   {
    "duration": 11,
    "start_time": "2022-04-15T11:35:09.046Z"
   },
   {
    "duration": 227,
    "start_time": "2022-04-15T11:35:09.937Z"
   },
   {
    "duration": 2035,
    "start_time": "2022-04-15T11:35:10.167Z"
   },
   {
    "duration": 7,
    "start_time": "2022-04-15T11:35:12.206Z"
   },
   {
    "duration": 36,
    "start_time": "2022-04-15T11:35:12.215Z"
   },
   {
    "duration": 10,
    "start_time": "2022-04-15T11:35:12.884Z"
   },
   {
    "duration": 32,
    "start_time": "2022-04-15T11:35:14.128Z"
   },
   {
    "duration": 278,
    "start_time": "2022-04-15T11:35:15.483Z"
   },
   {
    "duration": 502,
    "start_time": "2022-04-15T11:35:16.302Z"
   },
   {
    "duration": 32,
    "start_time": "2022-04-15T11:35:19.194Z"
   },
   {
    "duration": 232,
    "start_time": "2022-04-15T11:35:21.177Z"
   },
   {
    "duration": 442,
    "start_time": "2022-04-15T11:35:23.056Z"
   },
   {
    "duration": 20,
    "start_time": "2022-04-15T11:35:25.372Z"
   },
   {
    "duration": 390,
    "start_time": "2022-04-15T11:35:59.979Z"
   },
   {
    "duration": 672,
    "start_time": "2022-04-15T11:36:26.335Z"
   },
   {
    "duration": 224,
    "start_time": "2022-04-15T11:38:26.437Z"
   },
   {
    "duration": 979,
    "start_time": "2022-04-15T11:38:47.014Z"
   },
   {
    "duration": 909,
    "start_time": "2022-04-15T11:39:40.842Z"
   },
   {
    "duration": 586,
    "start_time": "2022-04-15T11:41:16.541Z"
   },
   {
    "duration": 773,
    "start_time": "2022-04-15T11:41:24.226Z"
   },
   {
    "duration": 642,
    "start_time": "2022-04-15T11:41:36.825Z"
   },
   {
    "duration": 566,
    "start_time": "2022-04-15T11:57:55.685Z"
   },
   {
    "duration": 210,
    "start_time": "2022-04-15T11:58:30.743Z"
   },
   {
    "duration": 159,
    "start_time": "2022-04-15T11:58:37.901Z"
   },
   {
    "duration": 579,
    "start_time": "2022-04-15T11:58:50.077Z"
   },
   {
    "duration": 709,
    "start_time": "2022-04-15T11:59:17.784Z"
   },
   {
    "duration": 561,
    "start_time": "2022-04-15T11:59:44.355Z"
   },
   {
    "duration": 733,
    "start_time": "2022-04-15T12:00:24.856Z"
   },
   {
    "duration": 702,
    "start_time": "2022-04-15T12:01:04.155Z"
   },
   {
    "duration": 54,
    "start_time": "2022-04-15T12:04:09.082Z"
   },
   {
    "duration": 50,
    "start_time": "2022-04-15T12:04:19.082Z"
   },
   {
    "duration": 4,
    "start_time": "2022-04-15T12:04:34.548Z"
   },
   {
    "duration": 625,
    "start_time": "2022-04-15T12:05:05.739Z"
   },
   {
    "duration": 192,
    "start_time": "2022-04-15T12:06:22.808Z"
   },
   {
    "duration": 22,
    "start_time": "2022-04-15T12:29:21.543Z"
   },
   {
    "duration": 685,
    "start_time": "2022-04-15T12:29:23.884Z"
   },
   {
    "duration": 2596,
    "start_time": "2022-04-15T12:32:37.521Z"
   },
   {
    "duration": 5657,
    "start_time": "2022-04-15T12:33:07.912Z"
   },
   {
    "duration": 5630,
    "start_time": "2022-04-15T12:33:32.115Z"
   },
   {
    "duration": 932,
    "start_time": "2022-04-15T12:33:43.630Z"
   },
   {
    "duration": 1031,
    "start_time": "2022-04-15T12:34:31.233Z"
   },
   {
    "duration": 1020,
    "start_time": "2022-04-15T12:34:37.645Z"
   },
   {
    "duration": 1429,
    "start_time": "2022-04-15T12:34:45.400Z"
   },
   {
    "duration": 1468,
    "start_time": "2022-04-15T12:34:54.438Z"
   },
   {
    "duration": 1293,
    "start_time": "2022-04-15T12:35:13.389Z"
   },
   {
    "duration": 1157,
    "start_time": "2022-04-15T12:35:21.084Z"
   },
   {
    "duration": 1082,
    "start_time": "2022-04-15T12:35:31.296Z"
   },
   {
    "duration": 1645,
    "start_time": "2022-04-15T12:35:42.848Z"
   },
   {
    "duration": 1131,
    "start_time": "2022-04-15T12:35:50.925Z"
   },
   {
    "duration": 988,
    "start_time": "2022-04-15T12:35:55.320Z"
   },
   {
    "duration": 1325,
    "start_time": "2022-04-15T12:36:04.419Z"
   },
   {
    "duration": 1112,
    "start_time": "2022-04-15T12:36:08.196Z"
   },
   {
    "duration": 1051,
    "start_time": "2022-04-15T12:36:17.966Z"
   },
   {
    "duration": 1042,
    "start_time": "2022-04-15T12:36:22.197Z"
   },
   {
    "duration": 1077,
    "start_time": "2022-04-15T12:36:29.392Z"
   },
   {
    "duration": 1066,
    "start_time": "2022-04-15T12:36:36.203Z"
   },
   {
    "duration": 1271,
    "start_time": "2022-04-15T12:36:45.424Z"
   },
   {
    "duration": 1215,
    "start_time": "2022-04-15T12:37:31.750Z"
   },
   {
    "duration": 1543,
    "start_time": "2022-04-15T12:37:39.741Z"
   },
   {
    "duration": 1151,
    "start_time": "2022-04-15T12:37:43.844Z"
   },
   {
    "duration": 1218,
    "start_time": "2022-04-15T12:38:37.601Z"
   },
   {
    "duration": 1189,
    "start_time": "2022-04-15T12:38:58.264Z"
   },
   {
    "duration": 1211,
    "start_time": "2022-04-15T12:39:36.171Z"
   },
   {
    "duration": 804,
    "start_time": "2022-04-15T12:40:15.144Z"
   },
   {
    "duration": 216,
    "start_time": "2022-04-15T12:41:21.324Z"
   },
   {
    "duration": 1219,
    "start_time": "2022-04-15T12:42:04.656Z"
   },
   {
    "duration": 1201,
    "start_time": "2022-04-15T12:42:21.338Z"
   },
   {
    "duration": 580,
    "start_time": "2022-04-15T12:42:29.906Z"
   },
   {
    "duration": 545,
    "start_time": "2022-04-15T12:42:42.779Z"
   },
   {
    "duration": 421,
    "start_time": "2022-04-15T12:42:45.567Z"
   },
   {
    "duration": 585,
    "start_time": "2022-04-15T12:42:49.253Z"
   },
   {
    "duration": 427,
    "start_time": "2022-04-15T12:42:53.944Z"
   },
   {
    "duration": 450,
    "start_time": "2022-04-15T12:42:59.629Z"
   },
   {
    "duration": 366,
    "start_time": "2022-04-15T12:43:04.107Z"
   },
   {
    "duration": 360,
    "start_time": "2022-04-15T12:51:08.378Z"
   },
   {
    "duration": 22,
    "start_time": "2022-04-15T12:53:05.291Z"
   },
   {
    "duration": 223,
    "start_time": "2022-04-15T12:53:42.122Z"
   },
   {
    "duration": 233,
    "start_time": "2022-04-15T12:53:53.745Z"
   },
   {
    "duration": 7,
    "start_time": "2022-04-15T12:54:35.574Z"
   },
   {
    "duration": 267,
    "start_time": "2022-04-15T12:54:40.865Z"
   },
   {
    "duration": 261,
    "start_time": "2022-04-15T12:54:45.448Z"
   },
   {
    "duration": 251,
    "start_time": "2022-04-15T12:55:00.648Z"
   },
   {
    "duration": 233,
    "start_time": "2022-04-15T12:55:56.083Z"
   },
   {
    "duration": 221,
    "start_time": "2022-04-15T12:56:39.715Z"
   },
   {
    "duration": 294,
    "start_time": "2022-04-15T12:56:50.965Z"
   },
   {
    "duration": 245,
    "start_time": "2022-04-15T12:56:54.000Z"
   },
   {
    "duration": 218,
    "start_time": "2022-04-15T12:57:04.123Z"
   },
   {
    "duration": 242,
    "start_time": "2022-04-15T12:57:08.452Z"
   },
   {
    "duration": 263,
    "start_time": "2022-04-15T12:57:11.361Z"
   },
   {
    "duration": 253,
    "start_time": "2022-04-15T12:57:17.654Z"
   },
   {
    "duration": 251,
    "start_time": "2022-04-15T12:57:29.743Z"
   },
   {
    "duration": 283,
    "start_time": "2022-04-15T12:58:42.237Z"
   },
   {
    "duration": 271,
    "start_time": "2022-04-15T12:58:57.063Z"
   },
   {
    "duration": 271,
    "start_time": "2022-04-15T13:00:13.248Z"
   },
   {
    "duration": 213,
    "start_time": "2022-04-15T13:02:22.559Z"
   },
   {
    "duration": 269,
    "start_time": "2022-04-15T13:04:57.232Z"
   },
   {
    "duration": 452,
    "start_time": "2022-04-15T13:05:06.614Z"
   },
   {
    "duration": 275,
    "start_time": "2022-04-15T13:08:39.430Z"
   },
   {
    "duration": 21,
    "start_time": "2022-04-15T13:08:57.150Z"
   },
   {
    "duration": 23,
    "start_time": "2022-04-15T13:10:44.170Z"
   },
   {
    "duration": 22,
    "start_time": "2022-04-15T13:10:50.451Z"
   },
   {
    "duration": 21,
    "start_time": "2022-04-15T13:11:18.693Z"
   },
   {
    "duration": 220,
    "start_time": "2022-04-15T13:11:41.397Z"
   },
   {
    "duration": 20,
    "start_time": "2022-04-15T13:11:45.046Z"
   },
   {
    "duration": 281,
    "start_time": "2022-04-15T13:12:05.739Z"
   },
   {
    "duration": 210,
    "start_time": "2022-04-15T13:14:41.835Z"
   },
   {
    "duration": 218,
    "start_time": "2022-04-15T13:14:49.310Z"
   },
   {
    "duration": 264,
    "start_time": "2022-04-15T13:14:54.714Z"
   },
   {
    "duration": 1763,
    "start_time": "2022-04-15T13:20:31.482Z"
   },
   {
    "duration": 1242,
    "start_time": "2022-04-15T16:34:20.674Z"
   },
   {
    "duration": 9,
    "start_time": "2022-04-15T16:34:21.918Z"
   },
   {
    "duration": 23,
    "start_time": "2022-04-15T16:34:21.930Z"
   },
   {
    "duration": 4,
    "start_time": "2022-04-15T16:34:21.955Z"
   },
   {
    "duration": 22,
    "start_time": "2022-04-15T16:34:21.961Z"
   },
   {
    "duration": 31,
    "start_time": "2022-04-15T16:34:22.000Z"
   },
   {
    "duration": 20,
    "start_time": "2022-04-15T16:34:22.032Z"
   },
   {
    "duration": 8,
    "start_time": "2022-04-15T16:34:22.053Z"
   },
   {
    "duration": 141,
    "start_time": "2022-04-15T16:34:22.062Z"
   },
   {
    "duration": 794,
    "start_time": "2022-04-15T16:34:22.204Z"
   },
   {
    "duration": 4,
    "start_time": "2022-04-15T16:34:22.999Z"
   },
   {
    "duration": 16,
    "start_time": "2022-04-15T16:34:23.004Z"
   },
   {
    "duration": 6,
    "start_time": "2022-04-15T16:34:23.023Z"
   },
   {
    "duration": 16,
    "start_time": "2022-04-15T16:34:23.030Z"
   },
   {
    "duration": 170,
    "start_time": "2022-04-15T16:34:23.048Z"
   },
   {
    "duration": 286,
    "start_time": "2022-04-15T16:34:23.219Z"
   },
   {
    "duration": 18,
    "start_time": "2022-04-15T16:34:23.507Z"
   },
   {
    "duration": 139,
    "start_time": "2022-04-15T16:34:23.526Z"
   },
   {
    "duration": 221,
    "start_time": "2022-04-15T16:34:23.667Z"
   },
   {
    "duration": 19,
    "start_time": "2022-04-15T16:34:23.890Z"
   },
   {
    "duration": 370,
    "start_time": "2022-04-15T16:34:23.911Z"
   },
   {
    "duration": 309,
    "start_time": "2022-04-15T16:34:24.283Z"
   },
   {
    "duration": 15,
    "start_time": "2022-04-15T16:34:24.594Z"
   },
   {
    "duration": 138,
    "start_time": "2022-04-15T16:34:24.611Z"
   },
   {
    "duration": 123,
    "start_time": "2022-04-15T16:34:24.751Z"
   },
   {
    "duration": 513,
    "start_time": "2022-04-15T16:34:24.876Z"
   },
   {
    "duration": 279,
    "start_time": "2022-04-15T16:34:25.390Z"
   },
   {
    "duration": 226,
    "start_time": "2022-04-15T16:34:25.671Z"
   },
   {
    "duration": 3,
    "start_time": "2022-04-15T16:58:16.452Z"
   },
   {
    "duration": 12,
    "start_time": "2022-04-15T16:58:50.801Z"
   },
   {
    "duration": 7,
    "start_time": "2022-04-15T16:59:19.315Z"
   },
   {
    "duration": 7,
    "start_time": "2022-04-15T16:59:22.094Z"
   },
   {
    "duration": 507,
    "start_time": "2022-04-15T17:04:39.903Z"
   },
   {
    "duration": 610,
    "start_time": "2022-04-15T17:06:43.084Z"
   },
   {
    "duration": 212,
    "start_time": "2022-04-15T17:12:21.840Z"
   },
   {
    "duration": 210,
    "start_time": "2022-04-15T17:12:27.040Z"
   },
   {
    "duration": 213,
    "start_time": "2022-04-15T17:12:47.369Z"
   },
   {
    "duration": 217,
    "start_time": "2022-04-15T17:13:02.755Z"
   },
   {
    "duration": 1234,
    "start_time": "2022-04-15T17:21:35.429Z"
   },
   {
    "duration": 8,
    "start_time": "2022-04-15T17:21:36.665Z"
   },
   {
    "duration": 20,
    "start_time": "2022-04-15T17:21:36.675Z"
   },
   {
    "duration": 4,
    "start_time": "2022-04-15T17:21:36.696Z"
   },
   {
    "duration": 24,
    "start_time": "2022-04-15T17:21:36.703Z"
   },
   {
    "duration": 31,
    "start_time": "2022-04-15T17:21:36.728Z"
   },
   {
    "duration": 20,
    "start_time": "2022-04-15T17:21:36.760Z"
   },
   {
    "duration": 6,
    "start_time": "2022-04-15T17:21:36.799Z"
   },
   {
    "duration": 134,
    "start_time": "2022-04-15T17:21:36.806Z"
   },
   {
    "duration": 806,
    "start_time": "2022-04-15T17:21:36.942Z"
   },
   {
    "duration": 4,
    "start_time": "2022-04-15T17:21:37.750Z"
   },
   {
    "duration": 18,
    "start_time": "2022-04-15T17:21:37.755Z"
   },
   {
    "duration": 7,
    "start_time": "2022-04-15T17:21:37.774Z"
   },
   {
    "duration": 28,
    "start_time": "2022-04-15T17:21:37.784Z"
   },
   {
    "duration": 158,
    "start_time": "2022-04-15T17:21:37.813Z"
   },
   {
    "duration": 302,
    "start_time": "2022-04-15T17:21:37.973Z"
   },
   {
    "duration": 28,
    "start_time": "2022-04-15T17:21:38.277Z"
   },
   {
    "duration": 229,
    "start_time": "2022-04-15T17:21:38.307Z"
   },
   {
    "duration": 213,
    "start_time": "2022-04-15T17:21:38.538Z"
   },
   {
    "duration": 13,
    "start_time": "2022-04-15T17:21:38.753Z"
   },
   {
    "duration": 376,
    "start_time": "2022-04-15T17:21:38.767Z"
   },
   {
    "duration": 317,
    "start_time": "2022-04-15T17:21:39.145Z"
   },
   {
    "duration": 11,
    "start_time": "2022-04-15T17:21:39.464Z"
   },
   {
    "duration": 135,
    "start_time": "2022-04-15T17:21:39.477Z"
   },
   {
    "duration": 122,
    "start_time": "2022-04-15T17:21:39.614Z"
   },
   {
    "duration": 657,
    "start_time": "2022-04-15T17:21:39.737Z"
   },
   {
    "duration": 278,
    "start_time": "2022-04-15T17:21:40.400Z"
   },
   {
    "duration": 228,
    "start_time": "2022-04-15T17:21:40.680Z"
   },
   {
    "duration": 1401,
    "start_time": "2022-04-15T17:56:06.856Z"
   },
   {
    "duration": 14,
    "start_time": "2022-04-15T17:56:08.259Z"
   },
   {
    "duration": 22,
    "start_time": "2022-04-15T17:56:11.087Z"
   },
   {
    "duration": 5,
    "start_time": "2022-04-15T17:56:11.820Z"
   },
   {
    "duration": 20,
    "start_time": "2022-04-15T17:56:17.957Z"
   },
   {
    "duration": 13,
    "start_time": "2022-04-15T17:58:44.641Z"
   },
   {
    "duration": 34,
    "start_time": "2022-04-15T17:58:45.842Z"
   },
   {
    "duration": 20,
    "start_time": "2022-04-15T17:58:46.978Z"
   },
   {
    "duration": 6,
    "start_time": "2022-04-15T17:58:47.382Z"
   },
   {
    "duration": 123,
    "start_time": "2022-04-15T17:58:48.515Z"
   },
   {
    "duration": 795,
    "start_time": "2022-04-15T17:58:49.273Z"
   },
   {
    "duration": 4,
    "start_time": "2022-04-15T17:58:52.096Z"
   },
   {
    "duration": 16,
    "start_time": "2022-04-15T17:58:53.272Z"
   },
   {
    "duration": 6,
    "start_time": "2022-04-15T17:59:19.857Z"
   },
   {
    "duration": 16,
    "start_time": "2022-04-15T17:59:26.768Z"
   },
   {
    "duration": 140,
    "start_time": "2022-04-15T17:59:30.361Z"
   },
   {
    "duration": 293,
    "start_time": "2022-04-15T17:59:34.919Z"
   },
   {
    "duration": 20,
    "start_time": "2022-04-15T17:59:39.991Z"
   },
   {
    "duration": 127,
    "start_time": "2022-04-15T17:59:44.324Z"
   },
   {
    "duration": 226,
    "start_time": "2022-04-15T17:59:51.802Z"
   },
   {
    "duration": 19,
    "start_time": "2022-04-15T18:00:12.977Z"
   },
   {
    "duration": 349,
    "start_time": "2022-04-15T18:00:19.545Z"
   },
   {
    "duration": 311,
    "start_time": "2022-04-15T18:00:23.506Z"
   },
   {
    "duration": 13,
    "start_time": "2022-04-15T18:00:26.516Z"
   },
   {
    "duration": 127,
    "start_time": "2022-04-15T18:00:29.206Z"
   },
   {
    "duration": 131,
    "start_time": "2022-04-15T18:00:52.560Z"
   },
   {
    "duration": 125,
    "start_time": "2022-04-15T18:01:29.475Z"
   },
   {
    "duration": 130,
    "start_time": "2022-04-15T18:01:58.781Z"
   },
   {
    "duration": 125,
    "start_time": "2022-04-15T18:02:19.283Z"
   },
   {
    "duration": 140,
    "start_time": "2022-04-15T18:02:31.135Z"
   },
   {
    "duration": 293,
    "start_time": "2022-04-15T18:03:00.001Z"
   },
   {
    "duration": 281,
    "start_time": "2022-04-15T18:07:10.449Z"
   },
   {
    "duration": 117,
    "start_time": "2022-04-15T18:07:35.387Z"
   },
   {
    "duration": 202,
    "start_time": "2022-04-15T18:07:44.579Z"
   },
   {
    "duration": 224,
    "start_time": "2022-04-15T18:07:50.894Z"
   },
   {
    "duration": 13,
    "start_time": "2022-04-15T18:08:47.929Z"
   },
   {
    "duration": 11,
    "start_time": "2022-04-15T18:08:56.532Z"
   },
   {
    "duration": 12,
    "start_time": "2022-04-15T18:09:44.087Z"
   },
   {
    "duration": 12,
    "start_time": "2022-04-15T18:09:59.392Z"
   },
   {
    "duration": 12,
    "start_time": "2022-04-15T18:10:04.911Z"
   },
   {
    "duration": 137,
    "start_time": "2022-04-15T18:10:48.335Z"
   },
   {
    "duration": 144,
    "start_time": "2022-04-15T18:10:53.929Z"
   },
   {
    "duration": 137,
    "start_time": "2022-04-15T18:10:58.252Z"
   },
   {
    "duration": 149,
    "start_time": "2022-04-15T18:11:08.492Z"
   },
   {
    "duration": 135,
    "start_time": "2022-04-15T18:11:15.374Z"
   },
   {
    "duration": 123,
    "start_time": "2022-04-15T18:11:20.143Z"
   },
   {
    "duration": 118,
    "start_time": "2022-04-15T18:11:37.361Z"
   },
   {
    "duration": 505,
    "start_time": "2022-04-15T18:11:56.651Z"
   },
   {
    "duration": 140,
    "start_time": "2022-04-15T18:12:26.246Z"
   },
   {
    "duration": 285,
    "start_time": "2022-04-15T18:12:57.769Z"
   },
   {
    "duration": 336,
    "start_time": "2022-04-15T18:13:02.714Z"
   },
   {
    "duration": 102,
    "start_time": "2022-04-15T18:14:10.578Z"
   },
   {
    "duration": 115,
    "start_time": "2022-04-15T18:14:23.593Z"
   },
   {
    "duration": 123,
    "start_time": "2022-04-15T18:14:30.976Z"
   },
   {
    "duration": 121,
    "start_time": "2022-04-15T18:14:37.475Z"
   },
   {
    "duration": 117,
    "start_time": "2022-04-15T18:14:42.275Z"
   },
   {
    "duration": 92,
    "start_time": "2022-05-18T11:24:23.025Z"
   },
   {
    "duration": 916,
    "start_time": "2022-05-18T11:24:33.153Z"
   }
  ],
  "colab": {
   "name": "DA+. Сборный проект 1. Шаблон (1).ipynb",
   "provenance": []
  },
  "kernelspec": {
   "display_name": "Python 3 (ipykernel)",
   "language": "python",
   "name": "python3"
  },
  "language_info": {
   "codemirror_mode": {
    "name": "ipython",
    "version": 3
   },
   "file_extension": ".py",
   "mimetype": "text/x-python",
   "name": "python",
   "nbconvert_exporter": "python",
   "pygments_lexer": "ipython3",
   "version": "3.9.7"
  },
  "toc": {
   "base_numbering": 1,
   "nav_menu": {},
   "number_sections": true,
   "sideBar": true,
   "skip_h1_title": true,
   "title_cell": "Table of Contents",
   "title_sidebar": "Contents",
   "toc_cell": false,
   "toc_position": {
    "height": "calc(100% - 180px)",
    "left": "10px",
    "top": "150px",
    "width": "375.391px"
   },
   "toc_section_display": true,
   "toc_window_display": false
  }
 },
 "nbformat": 4,
 "nbformat_minor": 1
}
