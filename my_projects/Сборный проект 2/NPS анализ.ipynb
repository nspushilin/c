{
 "cells": [
  {
   "cell_type": "markdown",
   "id": "f4c0beba",
   "metadata": {},
   "source": [
    "<div class=\"alert alert-success\">\n",
    "<font size=\"5\"><b>Комментарий ревьюера 2</b></font>\n",
    "\n",
    "Привет еще раз. Спасибо, что доделал работу. Отличный дашборд получился, молодец. Он позволяет проанализировать все возможные группы пользователей. Помарки исправлены, и теперь работа выполнена хорошо. Поздравляю со сданным проектом. Надеюсь, он был интересен и познавателен. Продолжай в том же духе. Успехов в дальнейшем пути :)\n",
    "\n",
    "</div>"
   ]
  },
  {
   "cell_type": "markdown",
   "id": "0111bba8",
   "metadata": {},
   "source": [
    "<div class=\"alert alert-info\">\n",
    "<font size=\"5\"><b>Комментарий ревьюера</b></font>\n",
    "\n",
    "Привет, Никита! Спасибо, что прислал задание:) Меня зовут Слепцов Артем и я буду проверять твой проект) Ты проделал большую работу над проектом. Он выполнен уже на достойном уровне. Однако есть моменты, которые еще можно улучшить. Будет здорово, если ты, надеюсь, не против, если я буду на ты, будешь отвечать на комментарии и участвовать в диалоге. Если обращение на ты неприемлемо, то прошу сообщить. \n",
    "\n",
    "Мои комментарии обозначены пометкой **Комментарий ревьюера**. Далее в файле ты сможешь найти их в похожих ячейках:\n",
    "    \n",
    "<div class=\"alert alert-success\">Успех: Если фон комментария зелёный - всё сделано правильно. Рекомендации укажу таким же цветом;</div>\n",
    "        \n",
    "<div class=\"alert alert-warning\">Совет: Оранжевый - некритичные замечания;</div>\n",
    "        \n",
    "<div class=\"alert alert-danger\">Ошибка: Красный - нужно переделать. </div>\n",
    "        \n",
    "Не удаляй эти комментарии и постарайся учесть их в ходе выполнения данного проекта. Свои же комментарии ты можешь обозначать любым заметным способом. \n",
    "\n",
    "</div>"
   ]
  },
  {
   "cell_type": "markdown",
   "id": "0af3f49a",
   "metadata": {},
   "source": [
    "# Сборный проект 2"
   ]
  },
  {
   "cell_type": "markdown",
   "id": "2ac58976",
   "metadata": {},
   "source": [
    "### Задача"
   ]
  },
  {
   "cell_type": "markdown",
   "id": "699dbc5d",
   "metadata": {},
   "source": [
    "##### Задачей данной работы является написать скрипт для выгрузки данных из базы данных c помощью Python и SQL \n",
    "##### Создать дашборд в Tableu на основе полученных данных и проанализировать их\n",
    "##### Создать презентацию"
   ]
  },
  {
   "cell_type": "markdown",
   "id": "7b80f78e",
   "metadata": {},
   "source": [
    "Импортируем нужные библиотеки"
   ]
  },
  {
   "cell_type": "code",
   "execution_count": 1,
   "id": "c22c7c81",
   "metadata": {
    "tags": [
     "aa81075c-062f-4de0-b5fe-14c73dc7468e"
    ]
   },
   "outputs": [],
   "source": [
    "import pandas as pd\n",
    "import numpy as np\n",
    "\n",
    "from sqlalchemy import create_engine"
   ]
  },
  {
   "cell_type": "markdown",
   "id": "d858c3c9",
   "metadata": {},
   "source": [
    "Запрос к базе данных"
   ]
  },
  {
   "cell_type": "code",
   "execution_count": 2,
   "id": "0a7f9451",
   "metadata": {},
   "outputs": [],
   "source": [
    "path_to_db = '/datasets/telecomm_csi.db'\n",
    "engine = create_engine(f'sqlite:///{path_to_db}', echo = False)"
   ]
  },
  {
   "cell_type": "code",
   "execution_count": 3,
   "id": "2267ee32",
   "metadata": {},
   "outputs": [],
   "source": [
    "query = \"\"\"\n",
    "SELECT user_id, lt_day, CASE\n",
    "                        WHEN lt_day <= 365 THEN \"new\"\n",
    "                        WHEN lt_day > 365 THEN \"old\" END AS new_or_old,\n",
    "    CAST(age AS INTEGER), \n",
    "                        CASE WHEN gender_segment > 0 THEN \"мужской\"\n",
    "                        WHEN gender_segment < 1 THEN \"женский\" END AS sex,\n",
    "    os_name, cpe_type_name, l.country, l.city, substr(a.title,1,2) AS age_segment, \n",
    "    substr(tr.title, 1, 2) AS traffic_segment, substr(li.title,1, 2) AS lifetime_segment, nps_score,\n",
    "                        CASE WHEN nps_score >= 9 THEN \"сторонники\"\n",
    "                        WHEN nps_score <= 6 THEN \"критики\" ELSE \"нейтралы\" END AS nps_group    \n",
    "FROM user AS u\n",
    "LEFT JOIN location AS l ON l.location_id = u.location_id\n",
    "LEFT JOIN age_segment AS a ON a.age_gr_id = u.age_gr_id\n",
    "LEFT JOIN traffic_segment AS tr ON tr.tr_gr_id = u.tr_gr_id\n",
    "LEFT JOIN lifetime_segment AS li ON li.lt_gr_id = u.lt_gr_id\n",
    ";\n",
    "\"\"\""
   ]
  },
  {
   "cell_type": "markdown",
   "id": "5b969942",
   "metadata": {},
   "source": [
    "<div class=\"alert alert-success\">\n",
    "<font size=\"5\"><b>Комментарий ревьюера</b></font>\n",
    "\n",
    "Успех: Запрос классный. Все сделано детально, таблицы соединены корректно. Советую в параметрах age_segment, traffic_segment, lifetime_segment убрать лишние цифры перед основным значением параметров. Этот момент хорошо бы скорректировать. В исправлении тебе поможет метод substr. В остальном все здорово!\n",
    "\n",
    "</div>"
   ]
  },
  {
   "cell_type": "markdown",
   "id": "7115a075",
   "metadata": {},
   "source": [
    "<div class=\"alert alert-success\">\n",
    "<font size=\"5\"><b>Комментарий студента</b></font>\n",
    "\n",
    "Готово.\n",
    "Ссылки на дашборд и презентацию обновлены.\n",
    "</div>"
   ]
  },
  {
   "cell_type": "code",
   "execution_count": 4,
   "id": "8b972249",
   "metadata": {},
   "outputs": [
    {
     "data": {
      "text/html": [
       "<div>\n",
       "<style scoped>\n",
       "    .dataframe tbody tr th:only-of-type {\n",
       "        vertical-align: middle;\n",
       "    }\n",
       "\n",
       "    .dataframe tbody tr th {\n",
       "        vertical-align: top;\n",
       "    }\n",
       "\n",
       "    .dataframe thead th {\n",
       "        text-align: right;\n",
       "    }\n",
       "</style>\n",
       "<table border=\"1\" class=\"dataframe\">\n",
       "  <thead>\n",
       "    <tr style=\"text-align: right;\">\n",
       "      <th></th>\n",
       "      <th>user_id</th>\n",
       "      <th>lt_day</th>\n",
       "      <th>new_or_old</th>\n",
       "      <th>CAST(age AS INTEGER)</th>\n",
       "      <th>sex</th>\n",
       "      <th>os_name</th>\n",
       "      <th>cpe_type_name</th>\n",
       "      <th>country</th>\n",
       "      <th>city</th>\n",
       "      <th>age_segment</th>\n",
       "      <th>traffic_segment</th>\n",
       "      <th>lifetime_segment</th>\n",
       "      <th>nps_score</th>\n",
       "      <th>nps_group</th>\n",
       "    </tr>\n",
       "  </thead>\n",
       "  <tbody>\n",
       "    <tr>\n",
       "      <th>0</th>\n",
       "      <td>A001A2</td>\n",
       "      <td>2320</td>\n",
       "      <td>old</td>\n",
       "      <td>45.0</td>\n",
       "      <td>мужской</td>\n",
       "      <td>ANDROID</td>\n",
       "      <td>SMARTPHONE</td>\n",
       "      <td>Россия</td>\n",
       "      <td>Уфа</td>\n",
       "      <td>05</td>\n",
       "      <td>04</td>\n",
       "      <td>08</td>\n",
       "      <td>10</td>\n",
       "      <td>сторонники</td>\n",
       "    </tr>\n",
       "    <tr>\n",
       "      <th>1</th>\n",
       "      <td>A001WF</td>\n",
       "      <td>2344</td>\n",
       "      <td>old</td>\n",
       "      <td>53.0</td>\n",
       "      <td>женский</td>\n",
       "      <td>ANDROID</td>\n",
       "      <td>SMARTPHONE</td>\n",
       "      <td>Россия</td>\n",
       "      <td>Киров</td>\n",
       "      <td>05</td>\n",
       "      <td>04</td>\n",
       "      <td>08</td>\n",
       "      <td>10</td>\n",
       "      <td>сторонники</td>\n",
       "    </tr>\n",
       "    <tr>\n",
       "      <th>2</th>\n",
       "      <td>A003Q7</td>\n",
       "      <td>467</td>\n",
       "      <td>old</td>\n",
       "      <td>57.0</td>\n",
       "      <td>женский</td>\n",
       "      <td>ANDROID</td>\n",
       "      <td>SMARTPHONE</td>\n",
       "      <td>Россия</td>\n",
       "      <td>Москва</td>\n",
       "      <td>06</td>\n",
       "      <td>08</td>\n",
       "      <td>06</td>\n",
       "      <td>10</td>\n",
       "      <td>сторонники</td>\n",
       "    </tr>\n",
       "    <tr>\n",
       "      <th>3</th>\n",
       "      <td>A004TB</td>\n",
       "      <td>4190</td>\n",
       "      <td>old</td>\n",
       "      <td>44.0</td>\n",
       "      <td>мужской</td>\n",
       "      <td>IOS</td>\n",
       "      <td>SMARTPHONE</td>\n",
       "      <td>Россия</td>\n",
       "      <td>РостовнаДону</td>\n",
       "      <td>04</td>\n",
       "      <td>03</td>\n",
       "      <td>08</td>\n",
       "      <td>10</td>\n",
       "      <td>сторонники</td>\n",
       "    </tr>\n",
       "  </tbody>\n",
       "</table>\n",
       "</div>"
      ],
      "text/plain": [
       "  user_id  lt_day new_or_old  CAST(age AS INTEGER)      sex  os_name  \\\n",
       "0  A001A2    2320        old                  45.0  мужской  ANDROID   \n",
       "1  A001WF    2344        old                  53.0  женский  ANDROID   \n",
       "2  A003Q7     467        old                  57.0  женский  ANDROID   \n",
       "3  A004TB    4190        old                  44.0  мужской      IOS   \n",
       "\n",
       "  cpe_type_name country          city age_segment traffic_segment  \\\n",
       "0    SMARTPHONE  Россия           Уфа          05              04   \n",
       "1    SMARTPHONE  Россия         Киров          05              04   \n",
       "2    SMARTPHONE  Россия        Москва          06              08   \n",
       "3    SMARTPHONE  Россия  РостовнаДону          04              03   \n",
       "\n",
       "  lifetime_segment  nps_score   nps_group  \n",
       "0               08         10  сторонники  \n",
       "1               08         10  сторонники  \n",
       "2               06         10  сторонники  \n",
       "3               08         10  сторонники  "
      ]
     },
     "execution_count": 4,
     "metadata": {},
     "output_type": "execute_result"
    }
   ],
   "source": [
    "df = pd.read_sql(query, engine)\n",
    "df.head(4)"
   ]
  },
  {
   "cell_type": "markdown",
   "id": "41894ffa",
   "metadata": {},
   "source": [
    "Сохранил таблицу в telecomm_csi_tableau.csv"
   ]
  },
  {
   "cell_type": "code",
   "execution_count": 5,
   "id": "85c82f0e",
   "metadata": {},
   "outputs": [],
   "source": [
    "df.to_csv('telecomm_csi_tableau.csv', index=False)"
   ]
  },
  {
   "cell_type": "markdown",
   "id": "d4a3709e",
   "metadata": {},
   "source": [
    "### Ссылка на дашборд на сайте Tableau Public:"
   ]
  },
  {
   "cell_type": "markdown",
   "id": "1080ec60",
   "metadata": {},
   "source": [
    "https://public.tableau.com/app/profile/nikita4654/viz/NPSanalysis_16614678587990/Dashboard1?publish=yes"
   ]
  },
  {
   "cell_type": "markdown",
   "id": "76624c6b",
   "metadata": {},
   "source": [
    "<div class=\"alert alert-success\">\n",
    "<font size=\"5\"><b>Комментарий ревьюера</b></font>\n",
    "\n",
    "Успех: Дашборды сделаны круто. Ты детально проанализировал имеющиеся данные, характеристики участников теста. Все фильтры работают корректно. Такой дашборд позволяет проанализировать детально результаты проведенного исследования. \n",
    "    \n",
    "Анализ NPS также сделан. Он дает нам очень много полезной информации. Видна связь NPS с возрастом клиентов и периодом использования. Установить ее без такого анализа было бы невозможно. Только необязательно делать два отдельных дашборда. Лучше сделать кнопку navigation с ссылкой на второй дашборд. \n",
    "\n",
    "</div>"
   ]
  },
  {
   "cell_type": "markdown",
   "id": "988151a1",
   "metadata": {},
   "source": [
    "<div class=\"alert alert-danger\">\n",
    "<font size=\"5\"><b>Комментарий ревьюера</b></font>\n",
    "\n",
    "Ошибка: Но давай расширим набор фильтров. Можно добавить и тип устройства, возрастные группы, а также lifetime_segment.\n",
    "    \n",
    "</div>"
   ]
  },
  {
   "cell_type": "markdown",
   "id": "c1f900a8",
   "metadata": {},
   "source": [
    "### Ссылка на pdf-файл с презентацией:"
   ]
  },
  {
   "cell_type": "markdown",
   "id": "25ef2871",
   "metadata": {},
   "source": [
    "https://disk.yandex.ru/i/rTGe-oNSkni7gg"
   ]
  },
  {
   "cell_type": "markdown",
   "id": "db31c063",
   "metadata": {},
   "source": [
    "<div class=\"alert alert-success\">\n",
    "<font size=\"5\"><b>Комментарий ревьюера</b></font>\n",
    "\n",
    "Успех: Презентация также сделана очень здорово. Отличный отчет получился! Всем пунктам проведенного анализа на дашборде уделено внимание, даны соответствующие комментарии. Просто отлично) Только рекомендую добавить и анализ критиков в презентацию. Данная группа для нас имеет большое значение. \n",
    "\n",
    "</div>"
   ]
  },
  {
   "cell_type": "markdown",
   "id": "49745eec",
   "metadata": {},
   "source": [
    "<div class=\"alert alert-info\">\n",
    "<font size=\"5\"><b>Комментарий ревьюера</b></font>\n",
    "    \n",
    "Рекомендую посмотреть возможности Tableau в данной подборке - https://public.tableau.com/app/discover/viz-of-the-day. Также привожу ссылку на некоторые полезные правила [оформления](https://ux.pub/10-pravil-proektirovaniya-paneli-dashbordov/) дашбордов. \n",
    "\n",
    "Ты проделал большую работу, молодец! Критичных помарок почти нет. У тебя получилась просто отличная работа. Давай расширим набор фильтров. Это позволит провести более широкий анализ. Жду твою работу :)\n",
    "\n",
    "</div>"
   ]
  }
 ],
 "metadata": {
  "ExecuteTimeLog": [
   {
    "duration": 752,
    "start_time": "2021-10-03T17:40:52.731Z"
   },
   {
    "duration": 20,
    "start_time": "2021-10-03T17:40:53.486Z"
   },
   {
    "duration": 4,
    "start_time": "2021-10-03T17:41:04.638Z"
   },
   {
    "duration": 461,
    "start_time": "2021-10-03T17:41:04.912Z"
   },
   {
    "duration": 284,
    "start_time": "2021-10-03T17:41:05.376Z"
   },
   {
    "duration": 574,
    "start_time": "2021-10-06T07:55:05.029Z"
   },
   {
    "duration": 6,
    "start_time": "2021-10-06T07:55:05.605Z"
   },
   {
    "duration": 3,
    "start_time": "2021-10-06T07:55:14.685Z"
   },
   {
    "duration": 406,
    "start_time": "2021-10-06T07:55:15.522Z"
   },
   {
    "duration": 67,
    "start_time": "2021-10-06T07:55:15.929Z"
   },
   {
    "duration": 840,
    "start_time": "2021-10-07T07:54:04.647Z"
   },
   {
    "duration": 10,
    "start_time": "2021-10-07T07:54:05.490Z"
   },
   {
    "duration": 4,
    "start_time": "2021-10-07T07:54:05.544Z"
   },
   {
    "duration": 391,
    "start_time": "2021-10-07T07:54:06.237Z"
   },
   {
    "duration": 293,
    "start_time": "2021-10-07T07:54:06.654Z"
   },
   {
    "duration": 525,
    "start_time": "2022-08-09T18:37:44.648Z"
   },
   {
    "duration": 21,
    "start_time": "2022-08-09T18:37:45.793Z"
   },
   {
    "duration": 3,
    "start_time": "2022-08-09T18:37:46.485Z"
   },
   {
    "duration": 629,
    "start_time": "2022-08-09T18:37:47.037Z"
   },
   {
    "duration": 576,
    "start_time": "2022-08-09T18:39:07.347Z"
   },
   {
    "duration": 3,
    "start_time": "2022-08-09T18:39:09.052Z"
   },
   {
    "duration": 3915,
    "start_time": "2022-08-09T18:39:11.161Z"
   },
   {
    "duration": 3662,
    "start_time": "2022-08-09T18:39:18.492Z"
   },
   {
    "duration": 6,
    "start_time": "2022-08-09T19:12:37.933Z"
   },
   {
    "duration": 623,
    "start_time": "2022-08-09T19:12:38.718Z"
   },
   {
    "duration": 3,
    "start_time": "2022-08-09T19:12:49.196Z"
   },
   {
    "duration": 4,
    "start_time": "2022-08-09T19:12:49.696Z"
   },
   {
    "duration": 3,
    "start_time": "2022-08-09T19:12:51.317Z"
   },
   {
    "duration": 639,
    "start_time": "2022-08-09T19:12:52.651Z"
   },
   {
    "duration": 3,
    "start_time": "2022-08-09T19:13:45.950Z"
   },
   {
    "duration": 1924,
    "start_time": "2022-08-09T19:13:47.822Z"
   },
   {
    "duration": 3,
    "start_time": "2022-08-09T19:33:22.552Z"
   },
   {
    "duration": 5386,
    "start_time": "2022-08-09T19:33:25.856Z"
   },
   {
    "duration": 5303,
    "start_time": "2022-08-09T19:33:42.146Z"
   },
   {
    "duration": 8,
    "start_time": "2022-08-12T19:20:46.518Z"
   },
   {
    "duration": 459,
    "start_time": "2022-08-12T19:23:18.541Z"
   },
   {
    "duration": 21,
    "start_time": "2022-08-12T19:23:19.726Z"
   },
   {
    "duration": 2,
    "start_time": "2022-08-12T19:23:20.731Z"
   },
   {
    "duration": 5294,
    "start_time": "2022-08-12T19:23:23.018Z"
   },
   {
    "duration": 3,
    "start_time": "2022-08-12T19:25:05.816Z"
   },
   {
    "duration": 4932,
    "start_time": "2022-08-12T19:25:05.895Z"
   },
   {
    "duration": 3,
    "start_time": "2022-08-12T19:25:30.979Z"
   },
   {
    "duration": 5298,
    "start_time": "2022-08-12T19:25:32.833Z"
   },
   {
    "duration": 3,
    "start_time": "2022-08-12T19:27:21.330Z"
   },
   {
    "duration": 598,
    "start_time": "2022-08-12T19:27:21.541Z"
   },
   {
    "duration": 3,
    "start_time": "2022-08-12T19:27:23.965Z"
   },
   {
    "duration": 546,
    "start_time": "2022-08-12T19:27:24.516Z"
   },
   {
    "duration": 3,
    "start_time": "2022-08-12T19:27:30.918Z"
   },
   {
    "duration": 5201,
    "start_time": "2022-08-12T19:27:31.418Z"
   },
   {
    "duration": 3,
    "start_time": "2022-08-12T19:28:52.916Z"
   },
   {
    "duration": 401,
    "start_time": "2022-08-12T19:28:53.676Z"
   },
   {
    "duration": 3,
    "start_time": "2022-08-12T19:29:00.925Z"
   },
   {
    "duration": 5197,
    "start_time": "2022-08-12T19:29:01.429Z"
   },
   {
    "duration": 3,
    "start_time": "2022-08-12T19:31:06.688Z"
   },
   {
    "duration": 4974,
    "start_time": "2022-08-12T19:31:07.332Z"
   },
   {
    "duration": 2,
    "start_time": "2022-08-12T19:31:34.661Z"
   },
   {
    "duration": 4980,
    "start_time": "2022-08-12T19:31:36.860Z"
   },
   {
    "duration": 3,
    "start_time": "2022-08-12T19:32:25.890Z"
   },
   {
    "duration": 5086,
    "start_time": "2022-08-12T19:32:27.044Z"
   },
   {
    "duration": 2,
    "start_time": "2022-08-12T19:33:11.384Z"
   },
   {
    "duration": 5093,
    "start_time": "2022-08-12T19:33:11.867Z"
   },
   {
    "duration": 3,
    "start_time": "2022-08-12T19:35:10.644Z"
   },
   {
    "duration": 2,
    "start_time": "2022-08-12T19:36:19.472Z"
   },
   {
    "duration": 8,
    "start_time": "2022-08-12T19:36:30.780Z"
   },
   {
    "duration": 40,
    "start_time": "2022-08-12T19:36:31.372Z"
   },
   {
    "duration": 487,
    "start_time": "2022-08-12T19:36:34.877Z"
   },
   {
    "duration": 21,
    "start_time": "2022-08-12T19:36:35.383Z"
   },
   {
    "duration": 2,
    "start_time": "2022-08-12T19:36:37.005Z"
   },
   {
    "duration": 5594,
    "start_time": "2022-08-12T19:36:37.429Z"
   },
   {
    "duration": 2,
    "start_time": "2022-08-12T19:36:43.025Z"
   },
   {
    "duration": 3151,
    "start_time": "2022-08-12T19:36:43.028Z"
   },
   {
    "duration": 3,
    "start_time": "2022-08-12T19:39:51.540Z"
   },
   {
    "duration": 5307,
    "start_time": "2022-08-12T19:39:52.165Z"
   },
   {
    "duration": 3,
    "start_time": "2022-08-12T19:40:57.019Z"
   },
   {
    "duration": 5214,
    "start_time": "2022-08-12T19:40:57.777Z"
   },
   {
    "duration": 2,
    "start_time": "2022-08-12T19:42:18.324Z"
   },
   {
    "duration": 5276,
    "start_time": "2022-08-12T19:42:18.776Z"
   },
   {
    "duration": 3,
    "start_time": "2022-08-12T19:45:59.762Z"
   },
   {
    "duration": 5470,
    "start_time": "2022-08-12T19:46:00.898Z"
   },
   {
    "duration": 3,
    "start_time": "2022-08-12T19:47:39.639Z"
   },
   {
    "duration": 5144,
    "start_time": "2022-08-12T19:47:39.696Z"
   },
   {
    "duration": 2,
    "start_time": "2022-08-12T19:47:44.841Z"
   },
   {
    "duration": 3,
    "start_time": "2022-08-12T19:49:10.083Z"
   },
   {
    "duration": 4902,
    "start_time": "2022-08-12T19:49:11.063Z"
   },
   {
    "duration": 3,
    "start_time": "2022-08-12T19:52:32.839Z"
   },
   {
    "duration": 8,
    "start_time": "2022-08-12T19:52:57.546Z"
   },
   {
    "duration": 39,
    "start_time": "2022-08-12T19:52:58.141Z"
   },
   {
    "duration": 532,
    "start_time": "2022-08-12T19:53:01.480Z"
   },
   {
    "duration": 28,
    "start_time": "2022-08-12T19:53:02.339Z"
   },
   {
    "duration": 3,
    "start_time": "2022-08-12T19:53:03.784Z"
   },
   {
    "duration": 5462,
    "start_time": "2022-08-12T19:53:04.504Z"
   },
   {
    "duration": 3,
    "start_time": "2022-08-12T20:13:06.266Z"
   },
   {
    "duration": 5178,
    "start_time": "2022-08-12T20:13:07.451Z"
   },
   {
    "duration": 2,
    "start_time": "2022-08-12T20:13:35.169Z"
   },
   {
    "duration": 5122,
    "start_time": "2022-08-12T20:13:35.751Z"
   },
   {
    "duration": 3,
    "start_time": "2022-08-12T20:20:41.994Z"
   },
   {
    "duration": 3,
    "start_time": "2022-08-12T20:20:42.532Z"
   },
   {
    "duration": 3,
    "start_time": "2022-08-12T20:20:43.632Z"
   },
   {
    "duration": 4955,
    "start_time": "2022-08-12T20:20:44.495Z"
   },
   {
    "duration": 4447,
    "start_time": "2022-08-12T20:20:50.591Z"
   },
   {
    "duration": 5348,
    "start_time": "2022-08-12T20:21:29.897Z"
   },
   {
    "duration": 2,
    "start_time": "2022-08-12T21:38:32.646Z"
   },
   {
    "duration": 3,
    "start_time": "2022-08-12T21:38:33.098Z"
   },
   {
    "duration": 2,
    "start_time": "2022-08-12T21:38:33.583Z"
   },
   {
    "duration": 4780,
    "start_time": "2022-08-12T21:38:34.259Z"
   },
   {
    "duration": 5365,
    "start_time": "2022-08-12T21:38:54.775Z"
   },
   {
    "duration": 75,
    "start_time": "2022-08-25T17:01:22.669Z"
   },
   {
    "duration": 509,
    "start_time": "2022-08-25T17:01:26.102Z"
   },
   {
    "duration": 8,
    "start_time": "2022-08-25T17:01:26.613Z"
   },
   {
    "duration": 4,
    "start_time": "2022-08-25T17:01:26.957Z"
   },
   {
    "duration": 5000,
    "start_time": "2022-08-25T17:01:27.465Z"
   },
   {
    "duration": 52,
    "start_time": "2022-08-25T17:14:01.908Z"
   },
   {
    "duration": 549,
    "start_time": "2022-08-25T20:26:30.463Z"
   },
   {
    "duration": 34,
    "start_time": "2022-08-25T20:26:31.581Z"
   },
   {
    "duration": 5,
    "start_time": "2022-08-25T20:26:32.636Z"
   },
   {
    "duration": 535,
    "start_time": "2022-08-25T20:26:37.646Z"
   },
   {
    "duration": 3,
    "start_time": "2022-08-25T20:27:06.630Z"
   },
   {
    "duration": 6208,
    "start_time": "2022-08-25T20:27:07.723Z"
   },
   {
    "duration": 3,
    "start_time": "2022-08-25T20:34:30.150Z"
   },
   {
    "duration": 4945,
    "start_time": "2022-08-25T20:34:31.588Z"
   },
   {
    "duration": 3,
    "start_time": "2022-08-25T20:35:02.314Z"
   },
   {
    "duration": 350,
    "start_time": "2022-08-25T20:35:02.986Z"
   },
   {
    "duration": 3,
    "start_time": "2022-08-25T20:35:31.786Z"
   },
   {
    "duration": 338,
    "start_time": "2022-08-25T20:35:33.212Z"
   },
   {
    "duration": 3,
    "start_time": "2022-08-25T20:37:29.430Z"
   },
   {
    "duration": 5075,
    "start_time": "2022-08-25T20:37:30.809Z"
   },
   {
    "duration": 3,
    "start_time": "2022-08-25T20:39:30.194Z"
   },
   {
    "duration": 332,
    "start_time": "2022-08-25T20:39:31.492Z"
   },
   {
    "duration": 4,
    "start_time": "2022-08-25T20:39:50.536Z"
   },
   {
    "duration": 337,
    "start_time": "2022-08-25T20:39:51.496Z"
   },
   {
    "duration": 3,
    "start_time": "2022-08-25T20:39:57.783Z"
   },
   {
    "duration": 5269,
    "start_time": "2022-08-25T20:39:59.375Z"
   },
   {
    "duration": 3,
    "start_time": "2022-08-25T20:40:13.030Z"
   },
   {
    "duration": 5260,
    "start_time": "2022-08-25T20:40:14.091Z"
   },
   {
    "duration": 3,
    "start_time": "2022-08-25T20:40:40.665Z"
   },
   {
    "duration": 5193,
    "start_time": "2022-08-25T20:40:41.492Z"
   },
   {
    "duration": 3,
    "start_time": "2022-08-25T20:41:01.706Z"
   },
   {
    "duration": 5466,
    "start_time": "2022-08-25T20:41:02.704Z"
   },
   {
    "duration": 516,
    "start_time": "2022-08-25T20:49:55.490Z"
   },
   {
    "duration": 18,
    "start_time": "2022-08-25T20:49:56.738Z"
   },
   {
    "duration": 3,
    "start_time": "2022-08-25T20:49:57.268Z"
   },
   {
    "duration": 5738,
    "start_time": "2022-08-25T20:49:59.185Z"
   },
   {
    "duration": 4290,
    "start_time": "2022-08-25T20:50:25.905Z"
   }
  ],
  "kernelspec": {
   "display_name": "Python 3 (ipykernel)",
   "language": "python",
   "name": "python3"
  },
  "language_info": {
   "codemirror_mode": {
    "name": "ipython",
    "version": 3
   },
   "file_extension": ".py",
   "mimetype": "text/x-python",
   "name": "python",
   "nbconvert_exporter": "python",
   "pygments_lexer": "ipython3",
   "version": "3.9.5"
  },
  "toc": {
   "base_numbering": 1,
   "nav_menu": {},
   "number_sections": true,
   "sideBar": true,
   "skip_h1_title": true,
   "title_cell": "Table of Contents",
   "title_sidebar": "Contents",
   "toc_cell": false,
   "toc_position": {},
   "toc_section_display": true,
   "toc_window_display": false
  }
 },
 "nbformat": 4,
 "nbformat_minor": 5
}
